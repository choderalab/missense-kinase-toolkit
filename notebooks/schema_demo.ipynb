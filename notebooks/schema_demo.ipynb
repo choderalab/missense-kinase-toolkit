{
 "cells": [
  {
   "cell_type": "markdown",
   "id": "5493cd62-97bd-4fa5-854d-980d345bd966",
   "metadata": {},
   "source": [
    "# Install tools via venv"
   ]
  },
  {
   "cell_type": "markdown",
   "id": "8799b29f-8908-4759-860a-2833d7367b9b",
   "metadata": {},
   "source": [
    "```\n",
    "cd missense_kinase_toolkit/schema\n",
    "python3.11 -m venv VE\n",
    "source VE/bin/activate\n",
    "\n",
    "pip install -e .\n",
    "pip install ipython\n",
    "pip install jupyter\n",
    "cd ../../notebooks\n",
    "\n",
    "jupyter-lab\n",
    "```"
   ]
  },
  {
   "cell_type": "markdown",
   "id": "08b6878a-f3eb-4a61-aaac-3e2d70c14a2b",
   "metadata": {},
   "source": [
    "# Load packages"
   ]
  },
  {
   "cell_type": "code",
   "execution_count": 1,
   "id": "f9466262-45ed-47dc-9c77-86c86c40da36",
   "metadata": {},
   "outputs": [],
   "source": [
    "from missense_kinase_toolkit.schema import io_utils\n",
    "import json"
   ]
  },
  {
   "cell_type": "markdown",
   "id": "fb65f052-4f14-4ebe-94c0-1079eb23aae7",
   "metadata": {},
   "source": [
    "# Load data"
   ]
  },
  {
   "cell_type": "code",
   "execution_count": 2,
   "id": "8c590166-65bd-497b-bee1-926a7e724aac",
   "metadata": {},
   "outputs": [],
   "source": [
    "dict_kinase = io_utils.deserialize_kinase_dict(deserialization_function=json.load)"
   ]
  },
  {
   "cell_type": "markdown",
   "id": "34ccdc0f-329c-41b7-89e7-976e8d0be9f8",
   "metadata": {},
   "source": [
    "# Examine `KinaseInfo` object"
   ]
  },
  {
   "cell_type": "code",
   "execution_count": 3,
   "id": "992404f9-a127-43c2-be5f-dcf90d565c6a",
   "metadata": {},
   "outputs": [
    {
     "data": {
      "text/plain": [
       "['KLIFS',\n",
       " 'KLIFS2UniProtIdx',\n",
       " 'KLIFS2UniProtSeq',\n",
       " 'KinCore',\n",
       " 'KinHub',\n",
       " 'Pfam',\n",
       " 'UniProt',\n",
       " '__abstractmethods__',\n",
       " '__annotations__',\n",
       " '__class__',\n",
       " '__class_getitem__',\n",
       " '__class_vars__',\n",
       " '__copy__',\n",
       " '__deepcopy__',\n",
       " '__delattr__',\n",
       " '__dict__',\n",
       " '__dir__',\n",
       " '__doc__',\n",
       " '__eq__',\n",
       " '__fields__',\n",
       " '__fields_set__',\n",
       " '__format__',\n",
       " '__ge__',\n",
       " '__get_pydantic_core_schema__',\n",
       " '__get_pydantic_json_schema__',\n",
       " '__getattr__',\n",
       " '__getattribute__',\n",
       " '__getstate__',\n",
       " '__gt__',\n",
       " '__hash__',\n",
       " '__init__',\n",
       " '__init_subclass__',\n",
       " '__iter__',\n",
       " '__le__',\n",
       " '__lt__',\n",
       " '__module__',\n",
       " '__ne__',\n",
       " '__new__',\n",
       " '__pretty__',\n",
       " '__private_attributes__',\n",
       " '__pydantic_complete__',\n",
       " '__pydantic_computed_fields__',\n",
       " '__pydantic_core_schema__',\n",
       " '__pydantic_custom_init__',\n",
       " '__pydantic_decorators__',\n",
       " '__pydantic_extra__',\n",
       " '__pydantic_fields__',\n",
       " '__pydantic_fields_set__',\n",
       " '__pydantic_generic_metadata__',\n",
       " '__pydantic_init_subclass__',\n",
       " '__pydantic_parent_namespace__',\n",
       " '__pydantic_post_init__',\n",
       " '__pydantic_private__',\n",
       " '__pydantic_root_model__',\n",
       " '__pydantic_serializer__',\n",
       " '__pydantic_validator__',\n",
       " '__reduce__',\n",
       " '__reduce_ex__',\n",
       " '__replace__',\n",
       " '__repr__',\n",
       " '__repr_args__',\n",
       " '__repr_name__',\n",
       " '__repr_recursion__',\n",
       " '__repr_str__',\n",
       " '__rich_repr__',\n",
       " '__setattr__',\n",
       " '__setstate__',\n",
       " '__signature__',\n",
       " '__sizeof__',\n",
       " '__slots__',\n",
       " '__str__',\n",
       " '__subclasshook__',\n",
       " '__weakref__',\n",
       " '_abc_impl',\n",
       " '_calculate_keys',\n",
       " '_check_frozen',\n",
       " '_copy_and_set_values',\n",
       " '_get_value',\n",
       " '_iter',\n",
       " 'bool_offset',\n",
       " 'construct',\n",
       " 'copy',\n",
       " 'dict',\n",
       " 'from_orm',\n",
       " 'hgnc_name',\n",
       " 'json',\n",
       " 'model_computed_fields',\n",
       " 'model_config',\n",
       " 'model_construct',\n",
       " 'model_copy',\n",
       " 'model_dump',\n",
       " 'model_dump_json',\n",
       " 'model_extra',\n",
       " 'model_fields',\n",
       " 'model_fields_set',\n",
       " 'model_json_schema',\n",
       " 'model_parametrized_name',\n",
       " 'model_post_init',\n",
       " 'model_rebuild',\n",
       " 'model_validate',\n",
       " 'model_validate_json',\n",
       " 'model_validate_strings',\n",
       " 'parse_file',\n",
       " 'parse_obj',\n",
       " 'parse_raw',\n",
       " 'schema',\n",
       " 'schema_json',\n",
       " 'uniprot_id',\n",
       " 'update_forward_refs',\n",
       " 'validate']"
      ]
     },
     "execution_count": 3,
     "metadata": {},
     "output_type": "execute_result"
    }
   ],
   "source": [
    "dir(dict_kinase[\"ABL1\"])"
   ]
  },
  {
   "cell_type": "code",
   "execution_count": 4,
   "id": "db71a5e5-157a-4dc5-a66a-98c405c3c287",
   "metadata": {},
   "outputs": [
    {
     "data": {
      "text/plain": [
       "'P00519'"
      ]
     },
     "execution_count": 4,
     "metadata": {},
     "output_type": "execute_result"
    }
   ],
   "source": [
    "dict_kinase[\"ABL1\"].uniprot_id"
   ]
  },
  {
   "cell_type": "code",
   "execution_count": 5,
   "id": "55f80245-5e2c-4d32-8d34-625563dbf3b8",
   "metadata": {},
   "outputs": [
    {
     "data": {
      "text/plain": [
       "'ABL1'"
      ]
     },
     "execution_count": 5,
     "metadata": {},
     "output_type": "execute_result"
    }
   ],
   "source": [
    "dict_kinase[\"ABL1\"].hgnc_name"
   ]
  },
  {
   "cell_type": "code",
   "execution_count": 6,
   "id": "67c41b26-f95e-4ebb-a642-c73fdab22924",
   "metadata": {},
   "outputs": [
    {
     "data": {
      "text/plain": [
       "KLIFS(gene_name='ABL1', name='ABL1', full_name='ABL proto-oncogene 1, non-receptor tyrosine kinase', group=<Group.TK: 'TK'>, family=<Family.Other: 'Other'>, iuphar=1923, kinase_id=392, pocket_seq='HKLGGGQYGEVYEVAVKTLEFLKEAAVMKEIKPNLVQLLGVYIITEFMTYGNLLDYLREYLEKKNFIHRDLAARNCLVVADFGLS')"
      ]
     },
     "execution_count": 6,
     "metadata": {},
     "output_type": "execute_result"
    }
   ],
   "source": [
    "dict_kinase[\"ABL1\"].KLIFS"
   ]
  },
  {
   "cell_type": "code",
   "execution_count": 7,
   "id": "4f29b83e-4fe9-4d89-b066-2ab646445ab3",
   "metadata": {},
   "outputs": [
    {
     "data": {
      "text/plain": [
       "KinCore(seq='ITMKHKLGGGQYGEVYEGVWKKYSLTVAVKTLKEDTMEVEEFLKEAAVMKEIKHPNLVQLLGVCTREPPFYIITEFMTYGNLLDYLRECNRQEVNAVVLLYMATQISSAMEYLEKKNFIHRDLAARNCLVGENHLVKVADFGLSRLMTGDTYTAHAGAKFPIKWTAPESLAYNKFSIKSDVWAFGVLLWEIATYGMSPYPGIDLSQVYELLEKDYRMERPEGCPEKVYELMRACWQWNPSDRPSFAEIHQAFET', start=242, end=495, mismatch=None)"
      ]
     },
     "execution_count": 7,
     "metadata": {},
     "output_type": "execute_result"
    }
   ],
   "source": [
    "dict_kinase[\"ABL1\"].KinCore"
   ]
  },
  {
   "cell_type": "code",
   "execution_count": 8,
   "id": "6cb247de-b29d-48b4-b1a1-df85e2396187",
   "metadata": {},
   "outputs": [
    {
     "data": {
      "text/plain": [
       "KinHub(kinase_name='Tyrosine-protein kinase ABL1', manning_name=['ABL'], xname=['ABL1'], group=[<Group.TK: 'TK'>], family=[<Family.Other: 'Other'>])"
      ]
     },
     "execution_count": 8,
     "metadata": {},
     "output_type": "execute_result"
    }
   ],
   "source": [
    "dict_kinase[\"ABL1\"].KinHub"
   ]
  },
  {
   "cell_type": "code",
   "execution_count": 9,
   "id": "6572f4e7-7569-4e04-bb5c-0871e313c408",
   "metadata": {},
   "outputs": [
    {
     "data": {
      "text/plain": [
       "UniProt(canonical_seq='MLEICLKLVGCKSKKGLSSSSSCYLEEALQRPVASDFEPQGLSEAARWNSKENLLAGPSENDPNLFVALYDFVASGDNTLSITKGEKLRVLGYNHNGEWCEAQTKNGQGWVPSNYITPVNSLEKHSWYHGPVSRNAAEYLLSSGINGSFLVRESESSPGQRSISLRYEGRVYHYRINTASDGKLYVSSESRFNTLAELVHHHSTVADGLITTLHYPAPKRNKPTVYGVSPNYDKWEMERTDITMKHKLGGGQYGEVYEGVWKKYSLTVAVKTLKEDTMEVEEFLKEAAVMKEIKHPNLVQLLGVCTREPPFYIITEFMTYGNLLDYLRECNRQEVNAVVLLYMATQISSAMEYLEKKNFIHRDLAARNCLVGENHLVKVADFGLSRLMTGDTYTAHAGAKFPIKWTAPESLAYNKFSIKSDVWAFGVLLWEIATYGMSPYPGIDLSQVYELLEKDYRMERPEGCPEKVYELMRACWQWNPSDRPSFAEIHQAFETMFQESSISDEVEKELGKQGVRGAVSTLLQAPELPTKTRTSRRAAEHRDTTDVPEMPHSKGQGESDPLDHEPAVSPLLPRKERGPPEGGLNEDERLLPKDKKTNLFSALIKKKKKTAPTPPKRSSSFREMDGQPERRGAGEEEGRDISNGALAFTPLDTADPAKSPKPSNGAGVPNGALRESGGSGFRSPHLWKKSSTLTSSRLATGEEEGGGSSSKRFLRSCSASCVPHGAKDTEWRSVTLPRDLQSTGRQFDSSTFGGHKSEKPALPRKRAGENRSDQVTRGTVTPPPRLVKKNEEAADEVFKDIMESSPGSSPPNLTPKPLRRQVTVAPASGLPHKEEAGKGSALGTPAAAEPVTPTSKAGSGAPGGTSKGPAEESRVRRHKHSSESPGRDKGKLSRLKPAPPPPPAASAGKAGGKPSQSPSQEAAGEAVLGAKTKATSLVDAVNSDAAKPSQPGEGLKKPVLPATPKPQSAKPSGTPISPAPVPSTLPSASSALAGDQPSSTAFIPLISTRVSLRKTRQPPERIASGAITKGVVLDSTEALCLAISRNSEQMASHSAVLEAGKNLYTFCVSYVDSIQQMRNKFAFREAINKLENNLRELQICPATAGSGPAATQDFSKLLSSVKEISDIVQR')"
      ]
     },
     "execution_count": 9,
     "metadata": {},
     "output_type": "execute_result"
    }
   ],
   "source": [
    "dict_kinase[\"ABL1\"].UniProt"
   ]
  },
  {
   "cell_type": "code",
   "execution_count": 10,
   "id": "ade0e9b0-79a5-4c0c-9544-2e6b975b0c75",
   "metadata": {},
   "outputs": [
    {
     "data": {
      "text/plain": [
       "{'I:1': 246,\n",
       " 'I:2': 247,\n",
       " 'I:3': 248,\n",
       " 'g.l:4': 249,\n",
       " 'g.l:5': 250,\n",
       " 'g.l:6': 251,\n",
       " 'g.l:7': 252,\n",
       " 'g.l:8': 253,\n",
       " 'g.l:9': 254,\n",
       " 'II:10': 255,\n",
       " 'II:11': 256,\n",
       " 'II:12': 257,\n",
       " 'II:13': 258,\n",
       " 'III:14': 268,\n",
       " 'III:15': 269,\n",
       " 'III:16': 270,\n",
       " 'III:17': 271,\n",
       " 'III:18': 272,\n",
       " 'III:19': 273,\n",
       " 'αC:20': 282,\n",
       " 'αC:21': 283,\n",
       " 'αC:22': 284,\n",
       " 'αC:23': 285,\n",
       " 'αC:24': 286,\n",
       " 'αC:25': 287,\n",
       " 'αC:26': 288,\n",
       " 'αC:27': 289,\n",
       " 'αC:28': 290,\n",
       " 'αC:29': 291,\n",
       " 'αC:30': 292,\n",
       " 'b.l:31': 293,\n",
       " 'b.l:32': 294,\n",
       " 'b.l:33': 296,\n",
       " 'b.l:34': 297,\n",
       " 'b.l:35': 298,\n",
       " 'b.l:36': 299,\n",
       " 'b.l:37': 300,\n",
       " 'IV:38': 301,\n",
       " 'IV:39': 302,\n",
       " 'IV:40': 303,\n",
       " 'IV:41': 304,\n",
       " 'V:42': 312,\n",
       " 'V:43': 313,\n",
       " 'V:44': 314,\n",
       " 'GK:45': 315,\n",
       " 'hinge:46': 316,\n",
       " 'hinge:47': 317,\n",
       " 'hinge:48': 318,\n",
       " 'linker:49': 319,\n",
       " 'linker:50': 320,\n",
       " 'linker:51': 321,\n",
       " 'linker:52': 322,\n",
       " 'αD:53': 323,\n",
       " 'αD:54': 324,\n",
       " 'αD:55': 325,\n",
       " 'αD:56': 326,\n",
       " 'αD:57': 327,\n",
       " 'αD:58': 328,\n",
       " 'αD:59': 329,\n",
       " 'αE:60': 353,\n",
       " 'αE:61': 354,\n",
       " 'αE:62': 355,\n",
       " 'αE:63': 356,\n",
       " 'αE:64': 357,\n",
       " 'VI:65': 358,\n",
       " 'VI:66': 359,\n",
       " 'VI:67': 360,\n",
       " 'c.l:68': 361,\n",
       " 'c.l:69': 362,\n",
       " 'c.l:70': 363,\n",
       " 'c.l:71': 364,\n",
       " 'c.l:72': 365,\n",
       " 'c.l:73': 366,\n",
       " 'c.l:74': 367,\n",
       " 'c.l:75': 368,\n",
       " 'VII:76': 369,\n",
       " 'VII:77': 370,\n",
       " 'VII:78': 371,\n",
       " 'VIII:79': 379,\n",
       " 'xDFG:80': 380,\n",
       " 'xDFG:81': 381,\n",
       " 'xDFG:82': 382,\n",
       " 'xDFG:83': 383,\n",
       " 'a.l:84': 384,\n",
       " 'a.l:85': 385}"
      ]
     },
     "execution_count": 10,
     "metadata": {},
     "output_type": "execute_result"
    }
   ],
   "source": [
    "dict_kinase[\"ABL1\"].KLIFS2UniProtIdx"
   ]
  },
  {
   "cell_type": "code",
   "execution_count": 11,
   "id": "fbd093f4-945c-40c9-8ce0-389c5a0d97ad",
   "metadata": {},
   "outputs": [
    {
     "data": {
      "text/plain": [
       "{'I': 'HKL',\n",
       " 'g.l': 'GGGQYG',\n",
       " 'II': 'EVYE',\n",
       " 'II:III': 'GVWKKYSLT',\n",
       " 'III': 'VAVKTL',\n",
       " 'III:αC': 'KEDTMEVE',\n",
       " 'αC': 'EFLKEAAVMKE',\n",
       " 'b.l_1': 'IK',\n",
       " 'b.l_intra': 'H',\n",
       " 'b.l_2': 'PNLVQ',\n",
       " 'IV': 'LLGV',\n",
       " 'IV:V': 'CTREPPF',\n",
       " 'V': 'YII',\n",
       " 'GK': 'T',\n",
       " 'hinge': 'EFM',\n",
       " 'hinge:linker': None,\n",
       " 'linker_1': 'T',\n",
       " 'linker_intra': None,\n",
       " 'linker_2': 'YGN',\n",
       " 'αD': 'LLDYLRE',\n",
       " 'αD:αE': 'CNRQEVNAVVLLYMATQISSAME',\n",
       " 'αE': 'YLEKK',\n",
       " 'αE:VI': None,\n",
       " 'VI': 'NFI',\n",
       " 'c.l': 'HRDLAARN',\n",
       " 'VII': 'CLV',\n",
       " 'VII:VIII': 'GENHLVK',\n",
       " 'VIII': 'V',\n",
       " 'xDFG': 'ADFG',\n",
       " 'a.l': 'LS'}"
      ]
     },
     "execution_count": 11,
     "metadata": {},
     "output_type": "execute_result"
    }
   ],
   "source": [
    "dict_kinase[\"ABL1\"].KLIFS2UniProtSeq"
   ]
  }
 ],
 "metadata": {
  "kernelspec": {
   "display_name": "Python 3 (ipykernel)",
   "language": "python",
   "name": "python3"
  },
  "language_info": {
   "codemirror_mode": {
    "name": "ipython",
    "version": 3
   },
   "file_extension": ".py",
   "mimetype": "text/x-python",
   "name": "python",
   "nbconvert_exporter": "python",
   "pygments_lexer": "ipython3",
   "version": "3.11.7"
  }
 },
 "nbformat": 4,
 "nbformat_minor": 5
}
