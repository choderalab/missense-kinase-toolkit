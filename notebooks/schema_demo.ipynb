{
 "cells": [
  {
   "cell_type": "markdown",
   "id": "5493cd62-97bd-4fa5-854d-980d345bd966",
   "metadata": {},
   "source": [
    "# Install tools via venv"
   ]
  },
  {
   "cell_type": "markdown",
   "id": "8799b29f-8908-4759-860a-2833d7367b9b",
   "metadata": {},
   "source": [
    "```\n",
    "python3.11 -m venv VE\n",
    "source VE/bin/activate\n",
    "cd missense_kinase_toolkit/schema\n",
    "\n",
    "pip install -e .\n",
    "pip install ipython\n",
    "pip install jupyter\n",
    "cd ../../notebooks\n",
    "\n",
    "jupyter-lab\n",
    "```"
   ]
  },
  {
   "cell_type": "markdown",
   "id": "08b6878a-f3eb-4a61-aaac-3e2d70c14a2b",
   "metadata": {},
   "source": [
    "# Load package"
   ]
  },
  {
   "cell_type": "code",
   "execution_count": 1,
   "id": "f9466262-45ed-47dc-9c77-86c86c40da36",
   "metadata": {},
   "outputs": [],
   "source": [
    "from mkt.schema import io_utils"
   ]
  },
  {
   "cell_type": "markdown",
   "id": "fb65f052-4f14-4ebe-94c0-1079eb23aae7",
   "metadata": {},
   "source": [
    "# Load data"
   ]
  },
  {
   "cell_type": "markdown",
   "id": "f2b36f1a-99c2-4364-b0ae-d2c86d7b282b",
   "metadata": {},
   "source": [
    "`mkt.schema` provides a Pydantic model `KinaseInfo` to store the data gathered and harmonized using our `databases` sub-package. We serialize the resulting `KinaseInfo` objects in  `mkt.schema` in the `KinaseInfo` sub-directory. These objects can be loaded as a dictionary where the HGNC gene name serves as the key using the following command."
   ]
  },
  {
   "cell_type": "code",
   "execution_count": 2,
   "id": "9d0b24f9-4d7d-4d20-8260-8e31dbaabcb7",
   "metadata": {},
   "outputs": [
    {
     "name": "stderr",
     "output_type": "stream",
     "text": [
      "100%|███████████████████████████████████████| 517/517 [00:00<00:00, 4797.92it/s]\n"
     ]
    }
   ],
   "source": [
    "dict_kinase = io_utils.deserialize_kinase_dict()"
   ]
  },
  {
   "cell_type": "markdown",
   "id": "f8b63446-578c-4495-898c-8a1b23c3eae5",
   "metadata": {},
   "source": [
    "We also support serializing and deserializing as `json`, `yaml`, or `toml` objects."
   ]
  },
  {
   "cell_type": "code",
   "execution_count": 3,
   "id": "eecf6c20-fb39-472f-a4aa-f0ad5a2f8bfc",
   "metadata": {},
   "outputs": [
    {
     "name": "stdout",
     "output_type": "stream",
     "text": [
      "Format: json\n"
     ]
    },
    {
     "name": "stderr",
     "output_type": "stream",
     "text": [
      "100%|███████████████████████████████████████| 517/517 [00:00<00:00, 5378.13it/s]\n",
      "100%|██████████████████████████████████████| 517/517 [00:00<00:00, 16092.91it/s]\n"
     ]
    },
    {
     "name": "stdout",
     "output_type": "stream",
     "text": [
      "Serialized object matches stored: True\n",
      "\n",
      "Format: yaml\n"
     ]
    },
    {
     "name": "stderr",
     "output_type": "stream",
     "text": [
      "100%|████████████████████████████████████████| 517/517 [00:01<00:00, 339.88it/s]\n",
      "100%|████████████████████████████████████████| 517/517 [00:02<00:00, 220.22it/s]\n"
     ]
    },
    {
     "name": "stdout",
     "output_type": "stream",
     "text": [
      "Serialized object matches stored: True\n",
      "\n",
      "Format: toml\n"
     ]
    },
    {
     "name": "stderr",
     "output_type": "stream",
     "text": [
      "100%|███████████████████████████████████████| 517/517 [00:00<00:00, 3316.38it/s]\n",
      "100%|███████████████████████████████████████| 517/517 [00:00<00:00, 1055.74it/s]\n"
     ]
    },
    {
     "name": "stdout",
     "output_type": "stream",
     "text": [
      "Serialized object matches stored: True\n",
      "\n"
     ]
    }
   ],
   "source": [
    "import shutil\n",
    "\n",
    "for suffix in io_utils.DICT_FUNCS.keys():\n",
    "    print(f\"Format: {suffix}\")\n",
    "    io_utils.serialize_kinase_dict(dict_kinase, suffix=suffix, str_path=f\"./{suffix}\")\n",
    "    dict_temp = io_utils.deserialize_kinase_dict(suffix=suffix, str_path=f\"./{suffix}\")\n",
    "    print(f\"Serialized object matches stored: {dict_kinase == dict_temp}\")\n",
    "    print()\n",
    "    shutil.rmtree(f\"./{suffix}\")"
   ]
  },
  {
   "cell_type": "markdown",
   "id": "34ccdc0f-329c-41b7-89e7-976e8d0be9f8",
   "metadata": {},
   "source": [
    "# Examine `KinaseInfo` object"
   ]
  },
  {
   "cell_type": "markdown",
   "id": "e0f273cd-5cbd-4e0c-8c55-87c5e9d1cc32",
   "metadata": {},
   "source": [
    "The `KinaseInfo` object contains the following relevant:\n",
    "\n",
    "| Field        | Description                                                                                                                  |\n",
    "| :-:          | :-                                                                                                                           |\n",
    "| `hgnc_name`  | Hugo Gene Nomenclature Commitee gene name                                                                                    |\n",
    "| `uniprot_id` | UniProt ID                                                                                                                   |\n",
    "| `kinhub`     | Information scraped from [KinHub](http://www.kinhub.org/)                                                                    |\n",
    "| `uniprot`    | Canonical sequence from UniProt                                                                                              |\n",
    "| `klifs`      | Information from KLIFS API query, including KLIFS pocket sequence                                                            |\n",
    "| `pfam`       | Annotated kinase domain from Pfam (includes \"Protein kinase domain\" and \"Protein tyrosine and serine/threonine kinase\" only) |\n",
    "| `kincore`    | Annotated kinase domain from Dunbrack lab's [KinCore](http://dunbrack.fccc.edu/kincore/activemodels)                         |"
   ]
  },
  {
   "cell_type": "code",
   "execution_count": 4,
   "id": "992404f9-a127-43c2-be5f-dcf90d565c6a",
   "metadata": {},
   "outputs": [
    {
     "data": {
      "text/plain": [
       "['KLIFS2UniProtIdx',\n",
       " 'KLIFS2UniProtSeq',\n",
       " 'construct',\n",
       " 'copy',\n",
       " 'dict',\n",
       " 'from_orm',\n",
       " 'hgnc_name',\n",
       " 'json',\n",
       " 'kincore',\n",
       " 'kinhub',\n",
       " 'klifs',\n",
       " 'model_computed_fields',\n",
       " 'model_config',\n",
       " 'model_construct',\n",
       " 'model_copy',\n",
       " 'model_dump',\n",
       " 'model_dump_json',\n",
       " 'model_extra',\n",
       " 'model_fields',\n",
       " 'model_fields_set',\n",
       " 'model_json_schema',\n",
       " 'model_parametrized_name',\n",
       " 'model_post_init',\n",
       " 'model_rebuild',\n",
       " 'model_validate',\n",
       " 'model_validate_json',\n",
       " 'model_validate_strings',\n",
       " 'parse_file',\n",
       " 'parse_obj',\n",
       " 'parse_raw',\n",
       " 'pfam',\n",
       " 'schema',\n",
       " 'schema_json',\n",
       " 'uniprot',\n",
       " 'uniprot_id',\n",
       " 'update_forward_refs',\n",
       " 'validate',\n",
       " 'validate_klifs2uniprotidx',\n",
       " 'validate_klifs2uniprotseq']"
      ]
     },
     "execution_count": 4,
     "metadata": {},
     "output_type": "execute_result"
    }
   ],
   "source": [
    "[i for i in dir(dict_kinase[\"ABL1\"]) if not i.startswith(\"_\")]"
   ]
  },
  {
   "cell_type": "markdown",
   "id": "27d258eb-c38e-4cc0-8a47-7b92923929e2",
   "metadata": {},
   "source": [
    "## Missing fields"
   ]
  },
  {
   "cell_type": "code",
   "execution_count": 5,
   "id": "82ffdf4c-b6ac-4b55-9ef5-f93272ea7e52",
   "metadata": {},
   "outputs": [
    {
     "name": "stdout",
     "output_type": "stream",
     "text": [
      "510 missing KLIFS entries\n",
      "487 missing HGNC names\n",
      "474 missing KinCore sequences\n",
      "468 missing Pfam kinase domain annotations\n",
      "487 missing KLIFS pocket to UniProt alignment\n"
     ]
    }
   ],
   "source": [
    "n_klifs = len([i.hgnc_name for i in dict_kinase.values() if i.klifs is not None])\n",
    "print(f\"{n_klifs} missing KLIFS entries\")\n",
    "\n",
    "n_pocket = len([i.hgnc_name for i in dict_kinase.values() \\\n",
    "                if i.klifs is not None and i.klifs.pocket_seq is not None])\n",
    "print(f\"{n_pocket} missing HGNC names\")\n",
    "\n",
    "n_kincore = len([i.hgnc_name for i in dict_kinase.values() if i.kincore is not None])\n",
    "print(f\"{n_kincore} missing KinCore sequences\")\n",
    "\n",
    "n_pfam = len([i.hgnc_name for i in dict_kinase.values() if i.pfam is not None])\n",
    "print(f\"{n_pfam} missing Pfam kinase domain annotations\")\n",
    "\n",
    "n_klif2uniprot = len([i.hgnc_name for i in dict_kinase.values() if i.KLIFS2UniProtIdx is not None])\n",
    "print(f\"{n_klif2uniprot} missing KLIFS pocket to UniProt alignment\")"
   ]
  },
  {
   "cell_type": "markdown",
   "id": "eb5b290b-5069-4ef7-b948-e954cfb7860a",
   "metadata": {},
   "source": [
    "## Use UniProt ID as key"
   ]
  },
  {
   "cell_type": "code",
   "execution_count": 6,
   "id": "14c8607c-eb15-46f4-9175-08925ea43274",
   "metadata": {},
   "outputs": [
    {
     "data": {
      "text/plain": [
       "'ABL1'"
      ]
     },
     "execution_count": 6,
     "metadata": {},
     "output_type": "execute_result"
    }
   ],
   "source": [
    "uniprot_id = \"P00519\"\n",
    "dict_inv = {val.uniprot_id: val for val in dict_kinase.values()}\n",
    "dict_inv[uniprot_id].hgnc_name"
   ]
  },
  {
   "cell_type": "markdown",
   "id": "551b533d-67da-4257-8f4b-4983521a25a4",
   "metadata": {},
   "source": [
    "## Contents per field"
   ]
  },
  {
   "cell_type": "markdown",
   "id": "6e55b61f-8e74-424e-967d-f7133c764c74",
   "metadata": {},
   "source": [
    "### API query or scraper fields"
   ]
  },
  {
   "cell_type": "code",
   "execution_count": 7,
   "id": "8bf0f699-4310-4826-a2d2-f3059720bc4e",
   "metadata": {},
   "outputs": [
    {
     "name": "stdout",
     "output_type": "stream",
     "text": [
      "HGNC name: ABL1\n",
      "\n",
      "UniProt ID: P00519\n",
      "\n",
      "KLIFS object:\n",
      "gene_name='ABL1' name='ABL1' full_name='ABL proto-oncogene 1, non-receptor tyrosine kinase' group='TK' family='Other' iuphar=1923 kinase_id=392 pocket_seq='HKLGGGQYGEVYEVAVKTLEFLKEAAVMKEIKPNLVQLLGVYIITEFMTYGNLLDYLREYLEKKNFIHRDLAARNCLVVADFGLS'\n",
      "\n",
      "KincCore object:\n",
      "seq='ITMKHKLGGGQYGEVYEGVWKKYSLTVAVKTLKEDTMEVEEFLKEAAVMKEIKHPNLVQLLGVCTREPPFYIITEFMTYGNLLDYLRECNRQEVNAVVLLYMATQISSAMEYLEKKNFIHRDLAARNCLVGENHLVKVADFGLSRLMTGDTYTAHAGAKFPIKWTAPESLAYNKFSIKSDVWAFGVLLWEIATYGMSPYPGIDLSQVYELLEKDYRMERPEGCPEKVYELMRACWQWNPSDRPSFAEIHQAFET' start=242 end=495 mismatch=None\n",
      "\n",
      "KinCore sequence:\n",
      "ITMKHKLGGGQYGEVYEGVWKKYSLTVAVKTLKEDTMEVEEFLKEAAVMKEIKHPNLVQLLGVCTREPPFYIITEFMTYGNLLDYLRECNRQEVNAVVLLYMATQISSAMEYLEKKNFIHRDLAARNCLVGENHLVKVADFGLSRLMTGDTYTAHAGAKFPIKWTAPESLAYNKFSIKSDVWAFGVLLWEIATYGMSPYPGIDLSQVYELLEKDYRMERPEGCPEKVYELMRACWQWNPSDRPSFAEIHQAFET\n",
      "\n",
      "KinHub object:\n",
      "kinase_name='Tyrosine-protein kinase ABL1' manning_name=['ABL'] xname=['ABL1'] group=['TK'] family=['Other']\n",
      "\n",
      "UniProt object:\n",
      "canonical_seq='MLEICLKLVGCKSKKGLSSSSSCYLEEALQRPVASDFEPQGLSEAARWNSKENLLAGPSENDPNLFVALYDFVASGDNTLSITKGEKLRVLGYNHNGEWCEAQTKNGQGWVPSNYITPVNSLEKHSWYHGPVSRNAAEYLLSSGINGSFLVRESESSPGQRSISLRYEGRVYHYRINTASDGKLYVSSESRFNTLAELVHHHSTVADGLITTLHYPAPKRNKPTVYGVSPNYDKWEMERTDITMKHKLGGGQYGEVYEGVWKKYSLTVAVKTLKEDTMEVEEFLKEAAVMKEIKHPNLVQLLGVCTREPPFYIITEFMTYGNLLDYLRECNRQEVNAVVLLYMATQISSAMEYLEKKNFIHRDLAARNCLVGENHLVKVADFGLSRLMTGDTYTAHAGAKFPIKWTAPESLAYNKFSIKSDVWAFGVLLWEIATYGMSPYPGIDLSQVYELLEKDYRMERPEGCPEKVYELMRACWQWNPSDRPSFAEIHQAFETMFQESSISDEVEKELGKQGVRGAVSTLLQAPELPTKTRTSRRAAEHRDTTDVPEMPHSKGQGESDPLDHEPAVSPLLPRKERGPPEGGLNEDERLLPKDKKTNLFSALIKKKKKTAPTPPKRSSSFREMDGQPERRGAGEEEGRDISNGALAFTPLDTADPAKSPKPSNGAGVPNGALRESGGSGFRSPHLWKKSSTLTSSRLATGEEEGGGSSSKRFLRSCSASCVPHGAKDTEWRSVTLPRDLQSTGRQFDSSTFGGHKSEKPALPRKRAGENRSDQVTRGTVTPPPRLVKKNEEAADEVFKDIMESSPGSSPPNLTPKPLRRQVTVAPASGLPHKEEAGKGSALGTPAAAEPVTPTSKAGSGAPGGTSKGPAEESRVRRHKHSSESPGRDKGKLSRLKPAPPPPPAASAGKAGGKPSQSPSQEAAGEAVLGAKTKATSLVDAVNSDAAKPSQPGEGLKKPVLPATPKPQSAKPSGTPISPAPVPSTLPSASSALAGDQPSSTAFIPLISTRVSLRKTRQPPERIASGAITKGVVLDSTEALCLAISRNSEQMASHSAVLEAGKNLYTFCVSYVDSIQQMRNKFAFREAINKLENNLRELQICPATAGSGPAATQDFSKLLSSVKEISDIVQR'\n",
      "\n",
      "Pfam object:\n",
      "domain_name='Protein tyrosine and serine/threonine kinase' start=242 end=492 protein_length=1130 pfam_accession='PF07714' in_alphafold=True\n",
      "\n"
     ]
    }
   ],
   "source": [
    "hgnc = \"ABL1\"\n",
    "\n",
    "print(f\"HGNC name: {dict_kinase[hgnc].hgnc_name}\\n\")\n",
    "print(f\"UniProt ID: {dict_kinase[hgnc].uniprot_id}\\n\")\n",
    "print(f\"KLIFS object:\\n{dict_kinase[hgnc].klifs}\\n\")\n",
    "print(f\"KincCore object:\\n{dict_kinase[hgnc].kincore}\\n\")\n",
    "print(f\"KinCore sequence:\\n{dict_kinase[hgnc].kincore.seq}\\n\")\n",
    "print(f\"KinHub object:\\n{dict_kinase[hgnc].kinhub}\\n\")\n",
    "print(f\"UniProt object:\\n{dict_kinase[hgnc].uniprot}\\n\")\n",
    "print(f\"Pfam object:\\n{dict_kinase[hgnc].pfam}\\n\")"
   ]
  },
  {
   "attachments": {},
   "cell_type": "markdown",
   "id": "a0980cb6-1ca5-4cd7-9154-7ef5599303e3",
   "metadata": {},
   "source": [
    "### KLIFS2UniProt Alignment\n",
    "\n",
    "`KLIFS2UniProtSeq` includes the full continuous sequence of the KLIFS pocket.\n",
    "\n",
    "Discontinuities are either between regions (denoted by `:`) or intra-region discontinuities (denoted by `_intra`)."
   ]
  },
  {
   "cell_type": "code",
   "execution_count": 8,
   "id": "75937651-51d4-4ed3-9f8c-e8c753c64ff2",
   "metadata": {},
   "outputs": [
    {
     "data": {
      "text/plain": [
       "{'I': 'HKL',\n",
       " 'g.l': 'GGGQYG',\n",
       " 'II': 'EVYE',\n",
       " 'II:III': 'GVWKKYSLT',\n",
       " 'III': 'VAVKTL',\n",
       " 'III:αC': 'KEDTMEVE',\n",
       " 'αC': 'EFLKEAAVMKE',\n",
       " 'b.l_1': 'IK',\n",
       " 'b.l_intra': 'H',\n",
       " 'b.l_2': 'PNLVQ',\n",
       " 'IV': 'LLGV',\n",
       " 'IV:V': 'CTREPPF',\n",
       " 'V': 'YII',\n",
       " 'GK': 'T',\n",
       " 'hinge': 'EFM',\n",
       " 'hinge:linker': None,\n",
       " 'linker_1': 'T',\n",
       " 'linker_intra': None,\n",
       " 'linker_2': 'YGN',\n",
       " 'αD': 'LLDYLRE',\n",
       " 'αD:αE': 'CNRQEVNAVVLLYMATQISSAME',\n",
       " 'αE': 'YLEKK',\n",
       " 'αE:VI': None,\n",
       " 'VI': 'NFI',\n",
       " 'c.l': 'HRDLAARN',\n",
       " 'VII': 'CLV',\n",
       " 'VII:VIII': 'GENHLVK',\n",
       " 'VIII': 'V',\n",
       " 'xDFG': 'ADFG',\n",
       " 'a.l': 'LS'}"
      ]
     },
     "execution_count": 8,
     "metadata": {},
     "output_type": "execute_result"
    }
   ],
   "source": [
    "dict_inv[uniprot_id].KLIFS2UniProtSeq"
   ]
  },
  {
   "cell_type": "markdown",
   "id": "17b97ece-49df-4fc8-8752-967ebb07b391",
   "metadata": {},
   "source": [
    "Removing discontinuous segments using the keys will yield an 85-residue sequence that matches the KLIFS binding pocket."
   ]
  },
  {
   "cell_type": "code",
   "execution_count": 10,
   "id": "0bbeb9c9-b47e-462d-8fa7-a79cdcc7f4bf",
   "metadata": {},
   "outputs": [
    {
     "name": "stdout",
     "output_type": "stream",
     "text": [
      "TPLGTASLAQVHKVAVKVQDFLNEGRNAEKVSLKVPRIHWDERVLLMEFGQVNDRDYMEFVNG--FVHCDPHPGNVLVLLDHGLY\n",
      "TPLGTASLAQVHKVAVKVQDFLNEGRNAEKVSLKVPRIHWDERVLLMEFGQVNDRDYMEFVNG--FVHCDPHPGNVLVLLDHGLY\n"
     ]
    }
   ],
   "source": [
    "str_dict = \"\".join([v for k, v in dict_kinase[\"ADCK1\"].KLIFS2UniProtSeq.items() \\\n",
    "                    if v is not None and \":\" not in k and \"_intra\" not in k])\n",
    "\n",
    "print(str_dict)\n",
    "print(dict_kinase[\"ADCK1\"].klifs.pocket_seq)"
   ]
  },
  {
   "cell_type": "markdown",
   "id": "b2166ed0-bd5e-41b4-b1ac-717c42d329d8",
   "metadata": {},
   "source": [
    "`KLIFS2UniProtIdx` aligns 85-resiude KLIFS pocket to canonical UniProt sequence without any discontinuous regions."
   ]
  },
  {
   "cell_type": "code",
   "execution_count": 11,
   "id": "e3748b8e-3c38-43d1-bf48-333cf57b0b73",
   "metadata": {},
   "outputs": [
    {
     "data": {
      "text/plain": [
       "{'I:1': 246,\n",
       " 'I:2': 247,\n",
       " 'I:3': 248,\n",
       " 'g.l:4': 249,\n",
       " 'g.l:5': 250,\n",
       " 'g.l:6': 251,\n",
       " 'g.l:7': 252,\n",
       " 'g.l:8': 253,\n",
       " 'g.l:9': 254,\n",
       " 'II:10': 255,\n",
       " 'II:11': 256,\n",
       " 'II:12': 257,\n",
       " 'II:13': 258,\n",
       " 'III:14': 268,\n",
       " 'III:15': 269,\n",
       " 'III:16': 270,\n",
       " 'III:17': 271,\n",
       " 'III:18': 272,\n",
       " 'III:19': 273,\n",
       " 'αC:20': 282,\n",
       " 'αC:21': 283,\n",
       " 'αC:22': 284,\n",
       " 'αC:23': 285,\n",
       " 'αC:24': 286,\n",
       " 'αC:25': 287,\n",
       " 'αC:26': 288,\n",
       " 'αC:27': 289,\n",
       " 'αC:28': 290,\n",
       " 'αC:29': 291,\n",
       " 'αC:30': 292,\n",
       " 'b.l:31': 293,\n",
       " 'b.l:32': 294,\n",
       " 'b.l:33': 296,\n",
       " 'b.l:34': 297,\n",
       " 'b.l:35': 298,\n",
       " 'b.l:36': 299,\n",
       " 'b.l:37': 300,\n",
       " 'IV:38': 301,\n",
       " 'IV:39': 302,\n",
       " 'IV:40': 303,\n",
       " 'IV:41': 304,\n",
       " 'V:42': 312,\n",
       " 'V:43': 313,\n",
       " 'V:44': 314,\n",
       " 'GK:45': 315,\n",
       " 'hinge:46': 316,\n",
       " 'hinge:47': 317,\n",
       " 'hinge:48': 318,\n",
       " 'linker:49': 319,\n",
       " 'linker:50': 320,\n",
       " 'linker:51': 321,\n",
       " 'linker:52': 322,\n",
       " 'αD:53': 323,\n",
       " 'αD:54': 324,\n",
       " 'αD:55': 325,\n",
       " 'αD:56': 326,\n",
       " 'αD:57': 327,\n",
       " 'αD:58': 328,\n",
       " 'αD:59': 329,\n",
       " 'αE:60': 353,\n",
       " 'αE:61': 354,\n",
       " 'αE:62': 355,\n",
       " 'αE:63': 356,\n",
       " 'αE:64': 357,\n",
       " 'VI:65': 358,\n",
       " 'VI:66': 359,\n",
       " 'VI:67': 360,\n",
       " 'c.l:68': 361,\n",
       " 'c.l:69': 362,\n",
       " 'c.l:70': 363,\n",
       " 'c.l:71': 364,\n",
       " 'c.l:72': 365,\n",
       " 'c.l:73': 366,\n",
       " 'c.l:74': 367,\n",
       " 'c.l:75': 368,\n",
       " 'VII:76': 369,\n",
       " 'VII:77': 370,\n",
       " 'VII:78': 371,\n",
       " 'VIII:79': 379,\n",
       " 'xDFG:80': 380,\n",
       " 'xDFG:81': 381,\n",
       " 'xDFG:82': 382,\n",
       " 'xDFG:83': 383,\n",
       " 'a.l:84': 384,\n",
       " 'a.l:85': 385}"
      ]
     },
     "execution_count": 11,
     "metadata": {},
     "output_type": "execute_result"
    }
   ],
   "source": [
    "dict_inv[uniprot_id].KLIFS2UniProtIdx"
   ]
  }
 ],
 "metadata": {
  "kernelspec": {
   "display_name": "Python 3 (ipykernel)",
   "language": "python",
   "name": "python3"
  },
  "language_info": {
   "codemirror_mode": {
    "name": "ipython",
    "version": 3
   },
   "file_extension": ".py",
   "mimetype": "text/x-python",
   "name": "python",
   "nbconvert_exporter": "python",
   "pygments_lexer": "ipython3",
   "version": "3.11.11"
  }
 },
 "nbformat": 4,
 "nbformat_minor": 5
}
