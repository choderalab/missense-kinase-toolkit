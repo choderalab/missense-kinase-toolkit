{
 "cells": [
  {
   "cell_type": "markdown",
   "metadata": {},
   "source": [
    "# Database module\n",
    "\n",
    "The database module allows users to query relevant database APIs to extract clinically relevant mutational data and protein annotations from various sources, including:\n",
    "+ **KinHub:** curated list of human kinases\n",
    "+ **UniProt:** obtain canonical protein sequence information\n",
    "+ **Pfam:** annotate protein domains\n",
    "+ **HGNC:** standardize gene naming conventions\n",
    "+ **KLIFS:** kinase-ligand interaction annotations\n",
    "+ **cBioPortal:**  multi-institutional repository of sequencing data for cancer genomics"
   ]
  },
  {
   "cell_type": "markdown",
   "metadata": {},
   "source": [
    "## Use `requests_cache` to minimize number of requests"
   ]
  },
  {
   "cell_type": "code",
   "execution_count": 1,
   "metadata": {},
   "outputs": [],
   "source": [
    "from os import path\n",
    "\n",
    "from mkt.databases.config import set_request_cache\n",
    "from mkt.databases.io_utils import get_repo_root"
   ]
  },
  {
   "cell_type": "code",
   "execution_count": 2,
   "metadata": {},
   "outputs": [],
   "source": [
    "try:\n",
    "    set_request_cache(path.join(get_repo_root(), \"requests_cache.sqlite\"))\n",
    "except:\n",
    "    set_request_cache(path.join(\".\", \"requests_cache.sqlite\"))"
   ]
  },
  {
   "cell_type": "markdown",
   "metadata": {},
   "source": [
    "## KinHub\n",
    "\n",
    "In this vignette, we will extract a list of human kinases obtained from [KinHub](http://www.kinhub.org/kinases.html) for which we wish to obtain additional protein annotations and extract corresponding mutations from a cBioPortal cohort."
   ]
  },
  {
   "cell_type": "code",
   "execution_count": 3,
   "metadata": {},
   "outputs": [],
   "source": [
    "from mkt.databases import scrapers"
   ]
  },
  {
   "cell_type": "code",
   "execution_count": 4,
   "metadata": {},
   "outputs": [],
   "source": [
    "df_kinhub = scrapers.kinhub()"
   ]
  },
  {
   "cell_type": "markdown",
   "metadata": {},
   "source": [
    "In [KinHub](http://www.kinhub.org/kinases.html), 13 kinases possess more than 1 kinase domain so are listed as separate entries despite possessing a single UniProt ID. To remedy this, we have aggregated entries by common HGNC gene names so that each entry represents a unique protein rather than a unique kinase domain."
   ]
  },
  {
   "cell_type": "code",
   "execution_count": 5,
   "metadata": {},
   "outputs": [
    {
     "data": {
      "text/html": [
       "<div>\n",
       "<style scoped>\n",
       "    .dataframe tbody tr th:only-of-type {\n",
       "        vertical-align: middle;\n",
       "    }\n",
       "\n",
       "    .dataframe tbody tr th {\n",
       "        vertical-align: top;\n",
       "    }\n",
       "\n",
       "    .dataframe thead th {\n",
       "        text-align: right;\n",
       "    }\n",
       "</style>\n",
       "<table border=\"1\" class=\"dataframe\">\n",
       "  <thead>\n",
       "    <tr style=\"text-align: right;\">\n",
       "      <th></th>\n",
       "      <th>HGNC Name</th>\n",
       "      <th>xName</th>\n",
       "      <th>Manning Name</th>\n",
       "      <th>Kinase Name</th>\n",
       "      <th>Group</th>\n",
       "      <th>Family</th>\n",
       "      <th>SubFamily</th>\n",
       "      <th>UniprotID</th>\n",
       "    </tr>\n",
       "  </thead>\n",
       "  <tbody>\n",
       "    <tr>\n",
       "      <th>141</th>\n",
       "      <td>JAK1</td>\n",
       "      <td>JAK1, JAK1_b</td>\n",
       "      <td>JAK1, Domain2_JAK1</td>\n",
       "      <td>Tyrosine-protein kinase JAK1</td>\n",
       "      <td>TK</td>\n",
       "      <td>JakB, Jak</td>\n",
       "      <td>nan</td>\n",
       "      <td>P23458</td>\n",
       "    </tr>\n",
       "    <tr>\n",
       "      <th>142</th>\n",
       "      <td>JAK2</td>\n",
       "      <td>JAK2_b, JAK2</td>\n",
       "      <td>Domain2_JAK2, JAK2</td>\n",
       "      <td>Tyrosine-protein kinase JAK2</td>\n",
       "      <td>TK</td>\n",
       "      <td>JakB, Jak</td>\n",
       "      <td>nan</td>\n",
       "      <td>O60674</td>\n",
       "    </tr>\n",
       "    <tr>\n",
       "      <th>143</th>\n",
       "      <td>JAK3</td>\n",
       "      <td>JAK3, JAK3_b</td>\n",
       "      <td>JAK3, Domain2_JAK3</td>\n",
       "      <td>Tyrosine-protein kinase JAK3</td>\n",
       "      <td>TK</td>\n",
       "      <td>JakB, Jak</td>\n",
       "      <td>nan</td>\n",
       "      <td>P52333</td>\n",
       "    </tr>\n",
       "    <tr>\n",
       "      <th>191</th>\n",
       "      <td>RPS6KA5</td>\n",
       "      <td>MSK1, MSK1_b</td>\n",
       "      <td>MSK1, Domain2_MSK1</td>\n",
       "      <td>Ribosomal protein S6 kinase alpha-5</td>\n",
       "      <td>AGC, CAMK</td>\n",
       "      <td>RSKb, RSK</td>\n",
       "      <td>MSK, MSKb</td>\n",
       "      <td>O75582</td>\n",
       "    </tr>\n",
       "    <tr>\n",
       "      <th>192</th>\n",
       "      <td>RPS6KA4</td>\n",
       "      <td>MSK2_b, MSK2</td>\n",
       "      <td>Domain2_MSK2, MSK2</td>\n",
       "      <td>Ribosomal protein S6 kinase alpha-4</td>\n",
       "      <td>AGC, CAMK</td>\n",
       "      <td>RSKb, RSK</td>\n",
       "      <td>MSK, MSKb</td>\n",
       "      <td>O75676</td>\n",
       "    </tr>\n",
       "    <tr>\n",
       "      <th>268</th>\n",
       "      <td>RPS6KA2</td>\n",
       "      <td>RSK3_b, RSK3</td>\n",
       "      <td>RSK1, Domain2_RSK1</td>\n",
       "      <td>Ribosomal protein S6 kinase alpha-2</td>\n",
       "      <td>AGC, CAMK</td>\n",
       "      <td>RSKb, RSK</td>\n",
       "      <td>RSKp90, RSKb</td>\n",
       "      <td>Q15349</td>\n",
       "    </tr>\n",
       "    <tr>\n",
       "      <th>269</th>\n",
       "      <td>RPS6KA3</td>\n",
       "      <td>RSK2_b, RSK2</td>\n",
       "      <td>RSK2, Domain2_RSK2</td>\n",
       "      <td>Ribosomal protein S6 kinase alpha-3</td>\n",
       "      <td>AGC, CAMK</td>\n",
       "      <td>RSKb, RSK</td>\n",
       "      <td>RSKp90, RSKb</td>\n",
       "      <td>P51812</td>\n",
       "    </tr>\n",
       "    <tr>\n",
       "      <th>270</th>\n",
       "      <td>RPS6KA1</td>\n",
       "      <td>RSK1, RSK1_b</td>\n",
       "      <td>Domain2_RSK3, RSK3</td>\n",
       "      <td>Ribosomal protein S6 kinase alpha-1</td>\n",
       "      <td>AGC, CAMK</td>\n",
       "      <td>RSKb, RSK</td>\n",
       "      <td>RSKp90, RSKb</td>\n",
       "      <td>Q15418</td>\n",
       "    </tr>\n",
       "    <tr>\n",
       "      <th>305</th>\n",
       "      <td>TYK2</td>\n",
       "      <td>TYK2_b, TYK2</td>\n",
       "      <td>Domain2_TYK2, TYK2</td>\n",
       "      <td>Non-receptor tyrosine-protein kinase TYK2</td>\n",
       "      <td>TK</td>\n",
       "      <td>JakB, Jak</td>\n",
       "      <td>nan</td>\n",
       "      <td>P29597</td>\n",
       "    </tr>\n",
       "    <tr>\n",
       "      <th>395</th>\n",
       "      <td>EIF2AK4</td>\n",
       "      <td>GCN2_b, GCN2</td>\n",
       "      <td>Domain2_GCN2, GCN2</td>\n",
       "      <td>Eukaryotic translation initiation factor 2-alp...</td>\n",
       "      <td>Other, STE</td>\n",
       "      <td>STE-Unique, PEK</td>\n",
       "      <td>nan, GCN2</td>\n",
       "      <td>Q9P2K8</td>\n",
       "    </tr>\n",
       "    <tr>\n",
       "      <th>419</th>\n",
       "      <td>RPS6KA6</td>\n",
       "      <td>RSK4_b, RSK4</td>\n",
       "      <td>RSK4, Domain2_RSK4</td>\n",
       "      <td>Ribosomal protein S6 kinase alpha-6</td>\n",
       "      <td>AGC, CAMK</td>\n",
       "      <td>RSKb, RSK</td>\n",
       "      <td>RSKp90, RSKb</td>\n",
       "      <td>Q9UK32</td>\n",
       "    </tr>\n",
       "    <tr>\n",
       "      <th>436</th>\n",
       "      <td>SPEG</td>\n",
       "      <td>SPEG, SPEG_b</td>\n",
       "      <td>SPEG, Domain2_SPEG</td>\n",
       "      <td>Striated muscle preferentially expressed prote...</td>\n",
       "      <td>CAMK</td>\n",
       "      <td>Trio</td>\n",
       "      <td>nan</td>\n",
       "      <td>Q15772</td>\n",
       "    </tr>\n",
       "    <tr>\n",
       "      <th>450</th>\n",
       "      <td>OBSCN</td>\n",
       "      <td>Obscn, Obscn_b</td>\n",
       "      <td>Obscn, Domain2_Obscn</td>\n",
       "      <td>Obscurin</td>\n",
       "      <td>CAMK</td>\n",
       "      <td>Trio</td>\n",
       "      <td>nan</td>\n",
       "      <td>Q5VST9</td>\n",
       "    </tr>\n",
       "  </tbody>\n",
       "</table>\n",
       "</div>"
      ],
      "text/plain": [
       "    HGNC Name           xName          Manning Name  \\\n",
       "141      JAK1    JAK1, JAK1_b    JAK1, Domain2_JAK1   \n",
       "142      JAK2    JAK2_b, JAK2    Domain2_JAK2, JAK2   \n",
       "143      JAK3    JAK3, JAK3_b    JAK3, Domain2_JAK3   \n",
       "191   RPS6KA5    MSK1, MSK1_b    MSK1, Domain2_MSK1   \n",
       "192   RPS6KA4    MSK2_b, MSK2    Domain2_MSK2, MSK2   \n",
       "268   RPS6KA2    RSK3_b, RSK3    RSK1, Domain2_RSK1   \n",
       "269   RPS6KA3    RSK2_b, RSK2    RSK2, Domain2_RSK2   \n",
       "270   RPS6KA1    RSK1, RSK1_b    Domain2_RSK3, RSK3   \n",
       "305      TYK2    TYK2_b, TYK2    Domain2_TYK2, TYK2   \n",
       "395   EIF2AK4    GCN2_b, GCN2    Domain2_GCN2, GCN2   \n",
       "419   RPS6KA6    RSK4_b, RSK4    RSK4, Domain2_RSK4   \n",
       "436      SPEG    SPEG, SPEG_b    SPEG, Domain2_SPEG   \n",
       "450     OBSCN  Obscn, Obscn_b  Obscn, Domain2_Obscn   \n",
       "\n",
       "                                           Kinase Name       Group  \\\n",
       "141                       Tyrosine-protein kinase JAK1          TK   \n",
       "142                       Tyrosine-protein kinase JAK2          TK   \n",
       "143                       Tyrosine-protein kinase JAK3          TK   \n",
       "191                Ribosomal protein S6 kinase alpha-5   AGC, CAMK   \n",
       "192                Ribosomal protein S6 kinase alpha-4   AGC, CAMK   \n",
       "268                Ribosomal protein S6 kinase alpha-2   AGC, CAMK   \n",
       "269                Ribosomal protein S6 kinase alpha-3   AGC, CAMK   \n",
       "270                Ribosomal protein S6 kinase alpha-1   AGC, CAMK   \n",
       "305          Non-receptor tyrosine-protein kinase TYK2          TK   \n",
       "395  Eukaryotic translation initiation factor 2-alp...  Other, STE   \n",
       "419                Ribosomal protein S6 kinase alpha-6   AGC, CAMK   \n",
       "436  Striated muscle preferentially expressed prote...        CAMK   \n",
       "450                                           Obscurin        CAMK   \n",
       "\n",
       "              Family     SubFamily UniprotID  \n",
       "141        JakB, Jak           nan    P23458  \n",
       "142        JakB, Jak           nan    O60674  \n",
       "143        JakB, Jak           nan    P52333  \n",
       "191        RSKb, RSK     MSK, MSKb    O75582  \n",
       "192        RSKb, RSK     MSK, MSKb    O75676  \n",
       "268        RSKb, RSK  RSKp90, RSKb    Q15349  \n",
       "269        RSKb, RSK  RSKp90, RSKb    P51812  \n",
       "270        RSKb, RSK  RSKp90, RSKb    Q15418  \n",
       "305        JakB, Jak           nan    P29597  \n",
       "395  STE-Unique, PEK     nan, GCN2    Q9P2K8  \n",
       "419        RSKb, RSK  RSKp90, RSKb    Q9UK32  \n",
       "436             Trio           nan    Q15772  \n",
       "450             Trio           nan    Q5VST9  "
      ]
     },
     "execution_count": 5,
     "metadata": {},
     "output_type": "execute_result"
    }
   ],
   "source": [
    "df_kinhub.loc[df_kinhub[\"Manning Name\"].apply(lambda x: \"DOMAIN2\" in x.upper()), ]"
   ]
  },
  {
   "cell_type": "markdown",
   "metadata": {},
   "source": [
    "## Uniprot"
   ]
  },
  {
   "cell_type": "code",
   "execution_count": 6,
   "metadata": {},
   "outputs": [],
   "source": [
    "from mkt.databases import uniprot"
   ]
  },
  {
   "cell_type": "code",
   "execution_count": 7,
   "metadata": {},
   "outputs": [
    {
     "data": {
      "text/plain": [
       "'MLEICLKLVGCKSKKGLSSSSSCYLEEALQRPVASDFEPQGLSEAARWNSKENLLAGPSENDPNLFVALYDFVASGDNTLSITKGEKLRVLGYNHNGEWCEAQTKNGQGWVPSNYITPVNSLEKHSWYHGPVSRNAAEYLLSSGINGSFLVRESESSPGQRSISLRYEGRVYHYRINTASDGKLYVSSESRFNTLAELVHHHSTVADGLITTLHYPAPKRNKPTVYGVSPNYDKWEMERTDITMKHKLGGGQYGEVYEGVWKKYSLTVAVKTLKEDTMEVEEFLKEAAVMKEIKHPNLVQLLGVCTREPPFYIITEFMTYGNLLDYLRECNRQEVNAVVLLYMATQISSAMEYLEKKNFIHRDLAARNCLVGENHLVKVADFGLSRLMTGDTYTAHAGAKFPIKWTAPESLAYNKFSIKSDVWAFGVLLWEIATYGMSPYPGIDLSQVYELLEKDYRMERPEGCPEKVYELMRACWQWNPSDRPSFAEIHQAFETMFQESSISDEVEKELGKQGVRGAVSTLLQAPELPTKTRTSRRAAEHRDTTDVPEMPHSKGQGESDPLDHEPAVSPLLPRKERGPPEGGLNEDERLLPKDKKTNLFSALIKKKKKTAPTPPKRSSSFREMDGQPERRGAGEEEGRDISNGALAFTPLDTADPAKSPKPSNGAGVPNGALRESGGSGFRSPHLWKKSSTLTSSRLATGEEEGGGSSSKRFLRSCSASCVPHGAKDTEWRSVTLPRDLQSTGRQFDSSTFGGHKSEKPALPRKRAGENRSDQVTRGTVTPPPRLVKKNEEAADEVFKDIMESSPGSSPPNLTPKPLRRQVTVAPASGLPHKEEAGKGSALGTPAAAEPVTPTSKAGSGAPGGTSKGPAEESRVRRHKHSSESPGRDKGKLSRLKPAPPPPPAASAGKAGGKPSQSPSQEAAGEAVLGAKTKATSLVDAVNSDAAKPSQPGEGLKKPVLPATPKPQSAKPSGTPISPAPVPSTLPSASSALAGDQPSSTAFIPLISTRVSLRKTRQPPERIASGAITKGVVLDSTEALCLAISRNSEQMASHSAVLEAGKNLYTFCVSYVDSIQQMRNKFAFREAINKLENNLRELQICPATAGSGPAATQDFSKLLSSVKEISDIVQR'"
      ]
     },
     "execution_count": 7,
     "metadata": {},
     "output_type": "execute_result"
    }
   ],
   "source": [
    "uniprot.UniProtFASTA(df_kinhub[\"UniprotID\"][0])._sequence"
   ]
  },
  {
   "cell_type": "markdown",
   "metadata": {},
   "source": [
    "## Pfam"
   ]
  },
  {
   "cell_type": "code",
   "execution_count": 8,
   "metadata": {},
   "outputs": [],
   "source": [
    "from mkt.databases import pfam"
   ]
  },
  {
   "cell_type": "code",
   "execution_count": 9,
   "metadata": {},
   "outputs": [
    {
     "data": {
      "text/html": [
       "<div>\n",
       "<style scoped>\n",
       "    .dataframe tbody tr th:only-of-type {\n",
       "        vertical-align: middle;\n",
       "    }\n",
       "\n",
       "    .dataframe tbody tr th {\n",
       "        vertical-align: top;\n",
       "    }\n",
       "\n",
       "    .dataframe thead th {\n",
       "        text-align: right;\n",
       "    }\n",
       "</style>\n",
       "<table border=\"1\" class=\"dataframe\">\n",
       "  <thead>\n",
       "    <tr style=\"text-align: right;\">\n",
       "      <th></th>\n",
       "      <th>uniprot</th>\n",
       "      <th>protein_length</th>\n",
       "      <th>source_database</th>\n",
       "      <th>organism</th>\n",
       "      <th>in_alphafold</th>\n",
       "      <th>pfam_accession</th>\n",
       "      <th>name</th>\n",
       "      <th>source_database</th>\n",
       "      <th>type</th>\n",
       "      <th>integrated</th>\n",
       "      <th>member_databases</th>\n",
       "      <th>go_terms</th>\n",
       "      <th>start</th>\n",
       "      <th>end</th>\n",
       "      <th>dc-status</th>\n",
       "      <th>representative</th>\n",
       "      <th>model</th>\n",
       "      <th>score</th>\n",
       "    </tr>\n",
       "  </thead>\n",
       "  <tbody>\n",
       "    <tr>\n",
       "      <th>0</th>\n",
       "      <td>p00519</td>\n",
       "      <td>1130</td>\n",
       "      <td>reviewed</td>\n",
       "      <td>9606</td>\n",
       "      <td>True</td>\n",
       "      <td>PF00017</td>\n",
       "      <td>SH2 domain</td>\n",
       "      <td>pfam</td>\n",
       "      <td>domain</td>\n",
       "      <td>IPR000980</td>\n",
       "      <td>None</td>\n",
       "      <td>None</td>\n",
       "      <td>127</td>\n",
       "      <td>202</td>\n",
       "      <td>CONTINUOUS</td>\n",
       "      <td>False</td>\n",
       "      <td>PF00017</td>\n",
       "      <td>9.300000e-21</td>\n",
       "    </tr>\n",
       "    <tr>\n",
       "      <th>1</th>\n",
       "      <td>p00519</td>\n",
       "      <td>1130</td>\n",
       "      <td>reviewed</td>\n",
       "      <td>9606</td>\n",
       "      <td>True</td>\n",
       "      <td>PF00018</td>\n",
       "      <td>SH3 domain</td>\n",
       "      <td>pfam</td>\n",
       "      <td>domain</td>\n",
       "      <td>IPR001452</td>\n",
       "      <td>None</td>\n",
       "      <td>None</td>\n",
       "      <td>67</td>\n",
       "      <td>113</td>\n",
       "      <td>CONTINUOUS</td>\n",
       "      <td>False</td>\n",
       "      <td>PF00018</td>\n",
       "      <td>2.000000e-09</td>\n",
       "    </tr>\n",
       "    <tr>\n",
       "      <th>2</th>\n",
       "      <td>p00519</td>\n",
       "      <td>1130</td>\n",
       "      <td>reviewed</td>\n",
       "      <td>9606</td>\n",
       "      <td>True</td>\n",
       "      <td>PF07714</td>\n",
       "      <td>Protein tyrosine and serine/threonine kinase</td>\n",
       "      <td>pfam</td>\n",
       "      <td>domain</td>\n",
       "      <td>IPR001245</td>\n",
       "      <td>None</td>\n",
       "      <td>None</td>\n",
       "      <td>242</td>\n",
       "      <td>492</td>\n",
       "      <td>CONTINUOUS</td>\n",
       "      <td>False</td>\n",
       "      <td>PF07714</td>\n",
       "      <td>1.400000e-97</td>\n",
       "    </tr>\n",
       "    <tr>\n",
       "      <th>3</th>\n",
       "      <td>p00519</td>\n",
       "      <td>1130</td>\n",
       "      <td>reviewed</td>\n",
       "      <td>9606</td>\n",
       "      <td>True</td>\n",
       "      <td>PF08919</td>\n",
       "      <td>F-actin binding</td>\n",
       "      <td>pfam</td>\n",
       "      <td>domain</td>\n",
       "      <td>IPR015015</td>\n",
       "      <td>None</td>\n",
       "      <td>None</td>\n",
       "      <td>1026</td>\n",
       "      <td>1130</td>\n",
       "      <td>CONTINUOUS</td>\n",
       "      <td>False</td>\n",
       "      <td>PF08919</td>\n",
       "      <td>3.500000e-28</td>\n",
       "    </tr>\n",
       "  </tbody>\n",
       "</table>\n",
       "</div>"
      ],
      "text/plain": [
       "  uniprot  protein_length source_database organism  in_alphafold  \\\n",
       "0  p00519            1130        reviewed     9606          True   \n",
       "1  p00519            1130        reviewed     9606          True   \n",
       "2  p00519            1130        reviewed     9606          True   \n",
       "3  p00519            1130        reviewed     9606          True   \n",
       "\n",
       "  pfam_accession                                          name  \\\n",
       "0        PF00017                                    SH2 domain   \n",
       "1        PF00018                                    SH3 domain   \n",
       "2        PF07714  Protein tyrosine and serine/threonine kinase   \n",
       "3        PF08919                               F-actin binding   \n",
       "\n",
       "  source_database    type integrated member_databases go_terms  start   end  \\\n",
       "0            pfam  domain  IPR000980             None     None    127   202   \n",
       "1            pfam  domain  IPR001452             None     None     67   113   \n",
       "2            pfam  domain  IPR001245             None     None    242   492   \n",
       "3            pfam  domain  IPR015015             None     None   1026  1130   \n",
       "\n",
       "    dc-status  representative    model         score  \n",
       "0  CONTINUOUS           False  PF00017  9.300000e-21  \n",
       "1  CONTINUOUS           False  PF00018  2.000000e-09  \n",
       "2  CONTINUOUS           False  PF07714  1.400000e-97  \n",
       "3  CONTINUOUS           False  PF08919  3.500000e-28  "
      ]
     },
     "execution_count": 9,
     "metadata": {},
     "output_type": "execute_result"
    }
   ],
   "source": [
    "pfam.Pfam(df_kinhub[\"UniprotID\"][0])._pfam"
   ]
  },
  {
   "cell_type": "markdown",
   "metadata": {},
   "source": [
    "## HGNC"
   ]
  },
  {
   "cell_type": "markdown",
   "metadata": {},
   "source": [
    "In this example, KinHub provides UniProt IDs for each entry. UniProt IDs are needed to query the UniProt API. However, if you need to retrieve UniProt IDs from HGNC gene names, Ensembl IDs, or other identifiers, the HGNC module can be used to interrogate HGNC's [Genename API](https://www.genenames.org/help/rest/)."
   ]
  },
  {
   "cell_type": "code",
   "execution_count": 10,
   "metadata": {},
   "outputs": [],
   "source": [
    "from mkt.databases import hgnc"
   ]
  },
  {
   "cell_type": "code",
   "execution_count": 11,
   "metadata": {},
   "outputs": [
    {
     "data": {
      "text/plain": [
       "'P31749'"
      ]
     },
     "execution_count": 11,
     "metadata": {},
     "output_type": "execute_result"
    }
   ],
   "source": [
    "hgnc.HGNC(\"Akt1\").maybe_get_info_from_hgnc_fetch([\"uniprot_ids\"])[\"uniprot_ids\"][0][0]"
   ]
  },
  {
   "cell_type": "markdown",
   "metadata": {},
   "source": [
    "## KLIFS"
   ]
  },
  {
   "cell_type": "markdown",
   "metadata": {},
   "source": [
    "The input for the KLIFS database's `kinase_information` endpoint is `kinase_name` and can include HGNC gene name or UniProt ID."
   ]
  },
  {
   "cell_type": "code",
   "execution_count": 12,
   "metadata": {},
   "outputs": [],
   "source": [
    "from mkt.databases import klifs"
   ]
  },
  {
   "cell_type": "code",
   "execution_count": 13,
   "metadata": {},
   "outputs": [
    {
     "data": {
      "text/plain": [
       "[{'kinase_ID': 1,\n",
       "  'name': 'AKT1',\n",
       "  'gene_name': 'AKT1',\n",
       "  'family': 'Akt',\n",
       "  'group': 'AGC',\n",
       "  'subfamily': '',\n",
       "  'species': 'Human',\n",
       "  'full_name': 'v-akt murine thymoma viral oncogene homolog 1',\n",
       "  'uniprot': 'P31749',\n",
       "  'iuphar': 1479,\n",
       "  'pocket': 'KLLGKGTFGKVILYAMKILHTLTENRVLQNSRPFLTALKYSCFVMEYANGGELFFHLSRLHSEKNVVYRDLKLENLMLITDFGLC'}]"
      ]
     },
     "execution_count": 13,
     "metadata": {},
     "output_type": "execute_result"
    }
   ],
   "source": [
    "klifs.KinaseInfo(search_term=\"Akt1\").get_kinase_info()"
   ]
  },
  {
   "cell_type": "code",
   "execution_count": 14,
   "metadata": {},
   "outputs": [
    {
     "data": {
      "text/plain": [
       "[{'kinase_ID': 1,\n",
       "  'name': 'AKT1',\n",
       "  'gene_name': 'AKT1',\n",
       "  'family': 'Akt',\n",
       "  'group': 'AGC',\n",
       "  'subfamily': '',\n",
       "  'species': 'Human',\n",
       "  'full_name': 'v-akt murine thymoma viral oncogene homolog 1',\n",
       "  'uniprot': 'P31749',\n",
       "  'iuphar': 1479,\n",
       "  'pocket': 'KLLGKGTFGKVILYAMKILHTLTENRVLQNSRPFLTALKYSCFVMEYANGGELFFHLSRLHSEKNVVYRDLKLENLMLITDFGLC'}]"
      ]
     },
     "execution_count": 14,
     "metadata": {},
     "output_type": "execute_result"
    }
   ],
   "source": [
    "klifs.KinaseInfo(search_term=\"P31749\").get_kinase_info()"
   ]
  },
  {
   "cell_type": "markdown",
   "metadata": {},
   "source": [
    "## cBioPortal"
   ]
  },
  {
   "cell_type": "code",
   "execution_count": 15,
   "metadata": {},
   "outputs": [],
   "source": [
    "import os\n",
    "import pandas as pd\n",
    "from mkt.databases import cbioportal"
   ]
  },
  {
   "cell_type": "markdown",
   "metadata": {},
   "source": [
    "This module takes inputs from environmental variables. See the `config` module documentation for additional details. In this example, we will query the publicly available cBioPortal instance and the [Zehir, 2017](https://www.nature.com/articles/nm.4333) MSK-IMPACT sequencing cohort as the study of interest."
   ]
  },
  {
   "cell_type": "code",
   "execution_count": 16,
   "metadata": {},
   "outputs": [],
   "source": [
    "os.environ[\"CBIOPORTAL_INSTANCE\"] = \"www.cbioportal.org\"\n",
    "os.environ[\"OUTPUT_DIR\"] = \".\""
   ]
  },
  {
   "cell_type": "code",
   "execution_count": 17,
   "metadata": {},
   "outputs": [
    {
     "name": "stdout",
     "output_type": "stream",
     "text": [
      "No API token provided\n"
     ]
    },
    {
     "data": {
      "text/plain": [
       "alleleSpecificCopyNumber                                               None\n",
       "aminoAcidChange                                                        None\n",
       "center                                                                   NA\n",
       "chr                                                                      14\n",
       "driverFilter                                                           None\n",
       "driverFilterAnnotation                                                 None\n",
       "driverTiersFilter                                                      None\n",
       "driverTiersFilterAnnotation                                            None\n",
       "endPosition                                                       105246551\n",
       "entrezGeneId                                                            207\n",
       "keyword                                                   AKT1 E17 missense\n",
       "molecularProfileId                                msk_impact_2017_mutations\n",
       "mutationStatus                                                           NA\n",
       "mutationType                                              Missense_Mutation\n",
       "namespaceColumns                                                       None\n",
       "ncbiBuild                                                            GRCh37\n",
       "normalAltCount                                                         None\n",
       "normalRefCount                                                         None\n",
       "patientId                                                         P-0000004\n",
       "proteinChange                                                          E17K\n",
       "proteinPosEnd                                                            17\n",
       "proteinPosStart                                                          17\n",
       "referenceAllele                                                           C\n",
       "refseqMrnaId                                                 NM_001014432.1\n",
       "sampleId                                                  P-0000004-T01-IM3\n",
       "startPosition                                                     105246551\n",
       "studyId                                                     msk_impact_2017\n",
       "tumorAltCount                                                           244\n",
       "tumorRefCount                                                           202\n",
       "uniquePatientKey                         UC0wMDAwMDA0Om1za19pbXBhY3RfMjAxNw\n",
       "uniqueSampleKey                UC0wMDAwMDA0LVQwMS1JTTM6bXNrX2ltcGFjdF8yMDE3\n",
       "validationStatus                                                         NA\n",
       "variantAllele                                                             T\n",
       "variantType                                                             SNP\n",
       "entrezGeneId                                                            207\n",
       "geneticEntityId                                                        None\n",
       "hugoGeneSymbol                                                         AKT1\n",
       "type                                                         protein-coding\n",
       "Name: 0, dtype: object"
      ]
     },
     "execution_count": 17,
     "metadata": {},
     "output_type": "execute_result"
    }
   ],
   "source": [
    "study = \"msk_impact_2017\"\n",
    "df_zehir = cbioportal.Mutations(study).get_cbioportal_cohort_mutations()\n",
    "df_zehir.iloc[0]"
   ]
  },
  {
   "cell_type": "markdown",
   "metadata": {},
   "source": [
    "GenomeNexus, which is used to annotate cBioPortal entries, uses the canonical UniProt sequence. As such, we can confirm that the `proteinChange` field numbering and corresponding amino acid aligns with the canonical UniProt sequence obtained from the `uniprot` module."
   ]
  },
  {
   "cell_type": "code",
   "execution_count": 18,
   "metadata": {},
   "outputs": [
    {
     "data": {
      "text/plain": [
       "'E'"
      ]
     },
     "execution_count": 18,
     "metadata": {},
     "output_type": "execute_result"
    }
   ],
   "source": [
    "uniprot.UniProtFASTA(\"P31749\")._sequence[17-1]"
   ]
  },
  {
   "cell_type": "markdown",
   "metadata": {},
   "source": [
    "## Putting it all together"
   ]
  },
  {
   "cell_type": "markdown",
   "metadata": {},
   "source": [
    "Ultimately, the goal of this package is to allow us to build relational databases that we can query to obtain any information needed for additional downstream analyses for a list of proteins (KinHub kinases, in this example)."
   ]
  },
  {
   "cell_type": "code",
   "execution_count": 19,
   "metadata": {},
   "outputs": [],
   "source": [
    "from tqdm.notebook import tqdm"
   ]
  },
  {
   "cell_type": "markdown",
   "metadata": {},
   "source": [
    "### UniProt"
   ]
  },
  {
   "cell_type": "code",
   "execution_count": 20,
   "metadata": {},
   "outputs": [
    {
     "data": {
      "application/vnd.jupyter.widget-view+json": {
       "model_id": "75cb865ec6e14b9d82e7373ab22d9800",
       "version_major": 2,
       "version_minor": 0
      },
      "text/plain": [
       "  0%|          | 0/517 [00:00<?, ?it/s]"
      ]
     },
     "metadata": {},
     "output_type": "display_data"
    }
   ],
   "source": [
    "list_uniprot, list_hgnc, list_sequence = [], [], []\n",
    "\n",
    "for index, row in tqdm(df_kinhub.iterrows(), total = df_kinhub.shape[0]):\n",
    "    list_uniprot.append(row[\"UniprotID\"])\n",
    "    list_hgnc.append(row[\"HGNC Name\"])\n",
    "    list_sequence.append(uniprot.UniProtFASTA(row[\"UniprotID\"])._sequence)\n",
    "\n",
    "dict_uniprot = dict(zip([\"uniprot_id\", \"hgnc_name\", \"canonical_sequence\"], \n",
    "                        [list_uniprot, list_hgnc, list_sequence]))\n",
    "\n",
    "df_uniprot = pd.DataFrame.from_dict(dict_uniprot)"
   ]
  },
  {
   "cell_type": "markdown",
   "metadata": {},
   "source": [
    "### Pfam"
   ]
  },
  {
   "cell_type": "code",
   "execution_count": 21,
   "metadata": {},
   "outputs": [
    {
     "data": {
      "application/vnd.jupyter.widget-view+json": {
       "model_id": "4e2be4b233b5438dadca32b9f5ac375a",
       "version_major": 2,
       "version_minor": 0
      },
      "text/plain": [
       "  0%|          | 0/517 [00:00<?, ?it/s]"
      ]
     },
     "metadata": {},
     "output_type": "display_data"
    },
    {
     "name": "stdout",
     "output_type": "stream",
     "text": [
      "No PFAM domains found: B5MCJ9\n"
     ]
    }
   ],
   "source": [
    "df_pfam = pd.DataFrame()\n",
    "for index, row in tqdm(df_kinhub.iterrows(), total = df_kinhub.shape[0]):\n",
    "    df_temp = pfam.Pfam(row[\"UniprotID\"])._pfam\n",
    "    df_pfam = pd.concat([df_pfam, df_temp]).reset_index(drop=True)\n",
    "\n",
    "df_pfam[\"uniprot\"] = df_pfam[\"uniprot\"].str.upper()"
   ]
  },
  {
   "cell_type": "markdown",
   "metadata": {},
   "source": [
    "### KLIFS"
   ]
  },
  {
   "cell_type": "code",
   "execution_count": 22,
   "metadata": {},
   "outputs": [
    {
     "data": {
      "application/vnd.jupyter.widget-view+json": {
       "model_id": "3183a995d7bd449d856809192f00778d",
       "version_major": 2,
       "version_minor": 0
      },
      "text/plain": [
       "  0%|          | 0/517 [00:00<?, ?it/s]"
      ]
     },
     "metadata": {},
     "output_type": "display_data"
    },
    {
     "name": "stdout",
     "output_type": "stream",
     "text": [
      "Error Expected type to be dict for value [400, 'KLIFS error: An unknown kinase name was provided'] to unmarshal to a <class 'abc.Error'>.Was <class 'list'> instead. in query_kinase_info for P78527\n",
      "Error Expected type to be dict for value [400, 'KLIFS error: An unknown kinase name was provided'] to unmarshal to a <class 'abc.Error'>.Was <class 'list'> instead. in query_kinase_info for Q12979\n",
      "Error Expected type to be dict for value [400, 'KLIFS error: An unknown kinase name was provided'] to unmarshal to a <class 'abc.Error'>.Was <class 'list'> instead. in query_kinase_info for B5MCJ9\n",
      "Error Expected type to be dict for value [400, 'KLIFS error: An unknown kinase name was provided'] to unmarshal to a <class 'abc.Error'>.Was <class 'list'> instead. in query_kinase_info for Q9Y5P4\n",
      "Error Expected type to be dict for value [400, 'KLIFS error: An unknown kinase name was provided'] to unmarshal to a <class 'abc.Error'>.Was <class 'list'> instead. in query_kinase_info for P53004\n",
      "Error Expected type to be dict for value [400, 'KLIFS error: An unknown kinase name was provided'] to unmarshal to a <class 'abc.Error'>.Was <class 'list'> instead. in query_kinase_info for Q9NRL2\n",
      "Error Expected type to be dict for value [400, 'KLIFS error: An unknown kinase name was provided'] to unmarshal to a <class 'abc.Error'>.Was <class 'list'> instead. in query_kinase_info for Q9UIG0\n"
     ]
    }
   ],
   "source": [
    "df_klifs = pd.DataFrame()\n",
    "for _, row in tqdm(df_kinhub.iterrows(), total=df_kinhub.shape[0]):\n",
    "    temp = klifs.KinaseInfo(row[\"UniprotID\"], \"uniprot\").get_kinase_info()\n",
    "    if temp is not None:\n",
    "        df_temp = pd.DataFrame(temp[0], index=[0])\n",
    "        df_klifs = pd.concat([df_klifs, df_temp]).reset_index(drop=True)"
   ]
  },
  {
   "cell_type": "markdown",
   "metadata": {},
   "source": [
    "### Generating a serializable model using `Pydantic`\n",
    "\n",
    "For more details of the contents of the the `KinaseInfo` object created using see this [notebook](./schema_demo.ipynb)."
   ]
  },
  {
   "cell_type": "code",
   "execution_count": 24,
   "metadata": {},
   "outputs": [],
   "source": [
    "from mkt.databases import kinase_schema\n",
    "\n",
    "df_merge = kinase_schema.concatenate_source_dataframe()\n",
    "dict_kin = kinase_schema.create_kinase_models_from_df(df_merge)"
   ]
  }
 ],
 "metadata": {
  "kernelspec": {
   "display_name": "Python 3 (ipykernel)",
   "language": "python",
   "name": "python3"
  },
  "language_info": {
   "codemirror_mode": {
    "name": "ipython",
    "version": 3
   },
   "file_extension": ".py",
   "mimetype": "text/x-python",
   "name": "python",
   "nbconvert_exporter": "python",
   "pygments_lexer": "ipython3",
   "version": "3.11.11"
  }
 },
 "nbformat": 4,
 "nbformat_minor": 4
}
