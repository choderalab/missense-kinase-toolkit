{
 "cells": [
  {
   "cell_type": "markdown",
   "metadata": {},
   "source": [
    "# Database module\n",
    "\n",
    "The database module allows users to query relevant database APIs to extract clinically relevant mutational data and protein annotations from various sources, including:\n",
    "+ **KinHub:** curated list of human kinases\n",
    "+ **UniProt:** obtain canonical protein sequence information\n",
    "+ **Pfam:** annotate protein domains\n",
    "+ **HGNC:** standardize gene naming conventions\n",
    "+ **KLIFS:** kinase-ligand interaction annotations\n",
    "+ **cBioPortal:**  multi-institutional repository of sequencing data for cancer genomics"
   ]
  },
  {
   "cell_type": "markdown",
   "metadata": {},
   "source": [
    "## KinHub\n",
    "\n",
    "In this vignette, we will extract a list of human kinases obtained from [KinHub](http://www.kinhub.org/kinases.html) for which we wish to obtain additional protein annotations and extract corresponding mutations from a cBioPortal cohort."
   ]
  },
  {
   "cell_type": "code",
   "execution_count": 1,
   "metadata": {},
   "outputs": [],
   "source": [
    "from missense_kinase_toolkit.databases import scrapers"
   ]
  },
  {
   "cell_type": "code",
   "execution_count": 2,
   "metadata": {},
   "outputs": [],
   "source": [
    "df_kinhub = scrapers.kinhub()"
   ]
  },
  {
   "cell_type": "markdown",
   "metadata": {},
   "source": [
    "In [KinHub](http://www.kinhub.org/kinases.html), 13 kinases possess more than 1 kinase domain so are listed as separate entries despite possessing a single UniProt ID. To remedy this, we have aggregated entries by common HGNC gene names so that each entry represents a unique protein rather than a unique kinase domain."
   ]
  },
  {
   "cell_type": "code",
   "execution_count": 3,
   "metadata": {},
   "outputs": [
    {
     "data": {
      "text/html": [
       "<div>\n",
       "<style scoped>\n",
       "    .dataframe tbody tr th:only-of-type {\n",
       "        vertical-align: middle;\n",
       "    }\n",
       "\n",
       "    .dataframe tbody tr th {\n",
       "        vertical-align: top;\n",
       "    }\n",
       "\n",
       "    .dataframe thead th {\n",
       "        text-align: right;\n",
       "    }\n",
       "</style>\n",
       "<table border=\"1\" class=\"dataframe\">\n",
       "  <thead>\n",
       "    <tr style=\"text-align: right;\">\n",
       "      <th></th>\n",
       "      <th>HGNC Name</th>\n",
       "      <th>xName</th>\n",
       "      <th>Manning Name</th>\n",
       "      <th>Kinase Name</th>\n",
       "      <th>Group</th>\n",
       "      <th>Family</th>\n",
       "      <th>SubFamily</th>\n",
       "      <th>UniprotID</th>\n",
       "    </tr>\n",
       "  </thead>\n",
       "  <tbody>\n",
       "    <tr>\n",
       "      <th>141</th>\n",
       "      <td>JAK1</td>\n",
       "      <td>JAK1, JAK1_b</td>\n",
       "      <td>JAK1, Domain2_JAK1</td>\n",
       "      <td>Tyrosine-protein kinase JAK1</td>\n",
       "      <td>TK</td>\n",
       "      <td>JakB, Jak</td>\n",
       "      <td>nan</td>\n",
       "      <td>P23458</td>\n",
       "    </tr>\n",
       "    <tr>\n",
       "      <th>142</th>\n",
       "      <td>JAK2</td>\n",
       "      <td>JAK2, JAK2_b</td>\n",
       "      <td>JAK2, Domain2_JAK2</td>\n",
       "      <td>Tyrosine-protein kinase JAK2</td>\n",
       "      <td>TK</td>\n",
       "      <td>JakB, Jak</td>\n",
       "      <td>nan</td>\n",
       "      <td>O60674</td>\n",
       "    </tr>\n",
       "    <tr>\n",
       "      <th>143</th>\n",
       "      <td>JAK3</td>\n",
       "      <td>JAK3_b, JAK3</td>\n",
       "      <td>Domain2_JAK3, JAK3</td>\n",
       "      <td>Tyrosine-protein kinase JAK3</td>\n",
       "      <td>TK</td>\n",
       "      <td>JakB, Jak</td>\n",
       "      <td>nan</td>\n",
       "      <td>P52333</td>\n",
       "    </tr>\n",
       "    <tr>\n",
       "      <th>191</th>\n",
       "      <td>RPS6KA5</td>\n",
       "      <td>MSK1_b, MSK1</td>\n",
       "      <td>Domain2_MSK1, MSK1</td>\n",
       "      <td>Ribosomal protein S6 kinase alpha-5</td>\n",
       "      <td>AGC, CAMK</td>\n",
       "      <td>RSKb, RSK</td>\n",
       "      <td>MSKb, MSK</td>\n",
       "      <td>O75582</td>\n",
       "    </tr>\n",
       "    <tr>\n",
       "      <th>192</th>\n",
       "      <td>RPS6KA4</td>\n",
       "      <td>MSK2, MSK2_b</td>\n",
       "      <td>MSK2, Domain2_MSK2</td>\n",
       "      <td>Ribosomal protein S6 kinase alpha-4</td>\n",
       "      <td>AGC, CAMK</td>\n",
       "      <td>RSKb, RSK</td>\n",
       "      <td>MSKb, MSK</td>\n",
       "      <td>O75676</td>\n",
       "    </tr>\n",
       "    <tr>\n",
       "      <th>268</th>\n",
       "      <td>RPS6KA2</td>\n",
       "      <td>RSK3_b, RSK3</td>\n",
       "      <td>Domain2_RSK1, RSK1</td>\n",
       "      <td>Ribosomal protein S6 kinase alpha-2</td>\n",
       "      <td>AGC, CAMK</td>\n",
       "      <td>RSKb, RSK</td>\n",
       "      <td>RSKp90, RSKb</td>\n",
       "      <td>Q15349</td>\n",
       "    </tr>\n",
       "    <tr>\n",
       "      <th>269</th>\n",
       "      <td>RPS6KA3</td>\n",
       "      <td>RSK2_b, RSK2</td>\n",
       "      <td>Domain2_RSK2, RSK2</td>\n",
       "      <td>Ribosomal protein S6 kinase alpha-3</td>\n",
       "      <td>AGC, CAMK</td>\n",
       "      <td>RSKb, RSK</td>\n",
       "      <td>RSKp90, RSKb</td>\n",
       "      <td>P51812</td>\n",
       "    </tr>\n",
       "    <tr>\n",
       "      <th>270</th>\n",
       "      <td>RPS6KA1</td>\n",
       "      <td>RSK1_b, RSK1</td>\n",
       "      <td>Domain2_RSK3, RSK3</td>\n",
       "      <td>Ribosomal protein S6 kinase alpha-1</td>\n",
       "      <td>AGC, CAMK</td>\n",
       "      <td>RSKb, RSK</td>\n",
       "      <td>RSKp90, RSKb</td>\n",
       "      <td>Q15418</td>\n",
       "    </tr>\n",
       "    <tr>\n",
       "      <th>305</th>\n",
       "      <td>TYK2</td>\n",
       "      <td>TYK2_b, TYK2</td>\n",
       "      <td>Domain2_TYK2, TYK2</td>\n",
       "      <td>Non-receptor tyrosine-protein kinase TYK2</td>\n",
       "      <td>TK</td>\n",
       "      <td>JakB, Jak</td>\n",
       "      <td>nan</td>\n",
       "      <td>P29597</td>\n",
       "    </tr>\n",
       "    <tr>\n",
       "      <th>395</th>\n",
       "      <td>EIF2AK4</td>\n",
       "      <td>GCN2, GCN2_b</td>\n",
       "      <td>GCN2, Domain2_GCN2</td>\n",
       "      <td>Eukaryotic translation initiation factor 2-alp...</td>\n",
       "      <td>STE, Other</td>\n",
       "      <td>PEK, STE-Unique</td>\n",
       "      <td>GCN2, nan</td>\n",
       "      <td>Q9P2K8</td>\n",
       "    </tr>\n",
       "    <tr>\n",
       "      <th>419</th>\n",
       "      <td>RPS6KA6</td>\n",
       "      <td>RSK4_b, RSK4</td>\n",
       "      <td>RSK4, Domain2_RSK4</td>\n",
       "      <td>Ribosomal protein S6 kinase alpha-6</td>\n",
       "      <td>AGC, CAMK</td>\n",
       "      <td>RSKb, RSK</td>\n",
       "      <td>RSKp90, RSKb</td>\n",
       "      <td>Q9UK32</td>\n",
       "    </tr>\n",
       "    <tr>\n",
       "      <th>436</th>\n",
       "      <td>SPEG</td>\n",
       "      <td>SPEG_b, SPEG</td>\n",
       "      <td>SPEG, Domain2_SPEG</td>\n",
       "      <td>Striated muscle preferentially expressed prote...</td>\n",
       "      <td>CAMK</td>\n",
       "      <td>Trio</td>\n",
       "      <td>nan</td>\n",
       "      <td>Q15772</td>\n",
       "    </tr>\n",
       "    <tr>\n",
       "      <th>450</th>\n",
       "      <td>OBSCN</td>\n",
       "      <td>Obscn, Obscn_b</td>\n",
       "      <td>Domain2_Obscn, Obscn</td>\n",
       "      <td>Obscurin</td>\n",
       "      <td>CAMK</td>\n",
       "      <td>Trio</td>\n",
       "      <td>nan</td>\n",
       "      <td>Q5VST9</td>\n",
       "    </tr>\n",
       "  </tbody>\n",
       "</table>\n",
       "</div>"
      ],
      "text/plain": [
       "    HGNC Name           xName          Manning Name  \\\n",
       "141      JAK1    JAK1, JAK1_b    JAK1, Domain2_JAK1   \n",
       "142      JAK2    JAK2, JAK2_b    JAK2, Domain2_JAK2   \n",
       "143      JAK3    JAK3_b, JAK3    Domain2_JAK3, JAK3   \n",
       "191   RPS6KA5    MSK1_b, MSK1    Domain2_MSK1, MSK1   \n",
       "192   RPS6KA4    MSK2, MSK2_b    MSK2, Domain2_MSK2   \n",
       "268   RPS6KA2    RSK3_b, RSK3    Domain2_RSK1, RSK1   \n",
       "269   RPS6KA3    RSK2_b, RSK2    Domain2_RSK2, RSK2   \n",
       "270   RPS6KA1    RSK1_b, RSK1    Domain2_RSK3, RSK3   \n",
       "305      TYK2    TYK2_b, TYK2    Domain2_TYK2, TYK2   \n",
       "395   EIF2AK4    GCN2, GCN2_b    GCN2, Domain2_GCN2   \n",
       "419   RPS6KA6    RSK4_b, RSK4    RSK4, Domain2_RSK4   \n",
       "436      SPEG    SPEG_b, SPEG    Domain2_SPEG, SPEG   \n",
       "450     OBSCN  Obscn, Obscn_b  Domain2_Obscn, Obscn   \n",
       "\n",
       "                                           Kinase Name       Group  \\\n",
       "141                       Tyrosine-protein kinase JAK1          TK   \n",
       "142                       Tyrosine-protein kinase JAK2          TK   \n",
       "143                       Tyrosine-protein kinase JAK3          TK   \n",
       "191                Ribosomal protein S6 kinase alpha-5   AGC, CAMK   \n",
       "192                Ribosomal protein S6 kinase alpha-4   AGC, CAMK   \n",
       "268                Ribosomal protein S6 kinase alpha-2   AGC, CAMK   \n",
       "269                Ribosomal protein S6 kinase alpha-3   AGC, CAMK   \n",
       "270                Ribosomal protein S6 kinase alpha-1   AGC, CAMK   \n",
       "305          Non-receptor tyrosine-protein kinase TYK2          TK   \n",
       "395  Eukaryotic translation initiation factor 2-alp...  STE, Other   \n",
       "419                Ribosomal protein S6 kinase alpha-6   AGC, CAMK   \n",
       "436  Striated muscle preferentially expressed prote...        CAMK   \n",
       "450                                           Obscurin        CAMK   \n",
       "\n",
       "              Family     SubFamily UniprotID  \n",
       "141        JakB, Jak           nan    P23458  \n",
       "142        JakB, Jak           nan    O60674  \n",
       "143        JakB, Jak           nan    P52333  \n",
       "191        RSKb, RSK     MSKb, MSK    O75582  \n",
       "192        RSKb, RSK     MSKb, MSK    O75676  \n",
       "268        RSKb, RSK  RSKp90, RSKb    Q15349  \n",
       "269        RSKb, RSK  RSKp90, RSKb    P51812  \n",
       "270        RSKb, RSK  RSKp90, RSKb    Q15418  \n",
       "305        JakB, Jak           nan    P29597  \n",
       "395  PEK, STE-Unique     GCN2, nan    Q9P2K8  \n",
       "419        RSKb, RSK  RSKp90, RSKb    Q9UK32  \n",
       "436             Trio           nan    Q15772  \n",
       "450             Trio           nan    Q5VST9  "
      ]
     },
     "execution_count": 3,
     "metadata": {},
     "output_type": "execute_result"
    }
   ],
   "source": [
    "df_kinhub.loc[df_kinhub[\"Manning Name\"].apply(lambda x: \"DOMAIN2\" in x.upper()), ]"
   ]
  },
  {
   "cell_type": "markdown",
   "metadata": {},
   "source": [
    "## Uniprot"
   ]
  },
  {
   "cell_type": "code",
   "execution_count": 4,
   "metadata": {},
   "outputs": [],
   "source": [
    "from missense_kinase_toolkit.databases import uniprot"
   ]
  },
  {
   "cell_type": "code",
   "execution_count": 5,
   "metadata": {},
   "outputs": [
    {
     "data": {
      "text/plain": [
       "'MLEICLKLVGCKSKKGLSSSSSCYLEEALQRPVASDFEPQGLSEAARWNSKENLLAGPSENDPNLFVALYDFVASGDNTLSITKGEKLRVLGYNHNGEWCEAQTKNGQGWVPSNYITPVNSLEKHSWYHGPVSRNAAEYLLSSGINGSFLVRESESSPGQRSISLRYEGRVYHYRINTASDGKLYVSSESRFNTLAELVHHHSTVADGLITTLHYPAPKRNKPTVYGVSPNYDKWEMERTDITMKHKLGGGQYGEVYEGVWKKYSLTVAVKTLKEDTMEVEEFLKEAAVMKEIKHPNLVQLLGVCTREPPFYIITEFMTYGNLLDYLRECNRQEVNAVVLLYMATQISSAMEYLEKKNFIHRDLAARNCLVGENHLVKVADFGLSRLMTGDTYTAHAGAKFPIKWTAPESLAYNKFSIKSDVWAFGVLLWEIATYGMSPYPGIDLSQVYELLEKDYRMERPEGCPEKVYELMRACWQWNPSDRPSFAEIHQAFETMFQESSISDEVEKELGKQGVRGAVSTLLQAPELPTKTRTSRRAAEHRDTTDVPEMPHSKGQGESDPLDHEPAVSPLLPRKERGPPEGGLNEDERLLPKDKKTNLFSALIKKKKKTAPTPPKRSSSFREMDGQPERRGAGEEEGRDISNGALAFTPLDTADPAKSPKPSNGAGVPNGALRESGGSGFRSPHLWKKSSTLTSSRLATGEEEGGGSSSKRFLRSCSASCVPHGAKDTEWRSVTLPRDLQSTGRQFDSSTFGGHKSEKPALPRKRAGENRSDQVTRGTVTPPPRLVKKNEEAADEVFKDIMESSPGSSPPNLTPKPLRRQVTVAPASGLPHKEEAGKGSALGTPAAAEPVTPTSKAGSGAPGGTSKGPAEESRVRRHKHSSESPGRDKGKLSRLKPAPPPPPAASAGKAGGKPSQSPSQEAAGEAVLGAKTKATSLVDAVNSDAAKPSQPGEGLKKPVLPATPKPQSAKPSGTPISPAPVPSTLPSASSALAGDQPSSTAFIPLISTRVSLRKTRQPPERIASGAITKGVVLDSTEALCLAISRNSEQMASHSAVLEAGKNLYTFCVSYVDSIQQMRNKFAFREAINKLENNLRELQICPATAGSGPAATQDFSKLLSSVKEISDIVQR'"
      ]
     },
     "execution_count": 5,
     "metadata": {},
     "output_type": "execute_result"
    }
   ],
   "source": [
    "uniprot.UniProt(df_kinhub[\"UniprotID\"][0])._sequence"
   ]
  },
  {
   "cell_type": "markdown",
   "metadata": {},
   "source": [
    "## Pfam"
   ]
  },
  {
   "cell_type": "code",
   "execution_count": 6,
   "metadata": {},
   "outputs": [],
   "source": [
    "from missense_kinase_toolkit.databases import pfam"
   ]
  },
  {
   "cell_type": "code",
   "execution_count": 7,
   "metadata": {},
   "outputs": [
    {
     "data": {
      "text/html": [
       "<div>\n",
       "<style scoped>\n",
       "    .dataframe tbody tr th:only-of-type {\n",
       "        vertical-align: middle;\n",
       "    }\n",
       "\n",
       "    .dataframe tbody tr th {\n",
       "        vertical-align: top;\n",
       "    }\n",
       "\n",
       "    .dataframe thead th {\n",
       "        text-align: right;\n",
       "    }\n",
       "</style>\n",
       "<table border=\"1\" class=\"dataframe\">\n",
       "  <thead>\n",
       "    <tr style=\"text-align: right;\">\n",
       "      <th></th>\n",
       "      <th>uniprot</th>\n",
       "      <th>protein_length</th>\n",
       "      <th>source_database</th>\n",
       "      <th>organism</th>\n",
       "      <th>in_alphafold</th>\n",
       "      <th>pfam_accession</th>\n",
       "      <th>name</th>\n",
       "      <th>source_database</th>\n",
       "      <th>type</th>\n",
       "      <th>integrated</th>\n",
       "      <th>member_databases</th>\n",
       "      <th>go_terms</th>\n",
       "      <th>start</th>\n",
       "      <th>end</th>\n",
       "      <th>dc-status</th>\n",
       "      <th>representative</th>\n",
       "      <th>representative</th>\n",
       "      <th>model</th>\n",
       "      <th>score</th>\n",
       "    </tr>\n",
       "  </thead>\n",
       "  <tbody>\n",
       "    <tr>\n",
       "      <th>0</th>\n",
       "      <td>p00519</td>\n",
       "      <td>1130</td>\n",
       "      <td>reviewed</td>\n",
       "      <td>9606</td>\n",
       "      <td>True</td>\n",
       "      <td>PF00017</td>\n",
       "      <td>SH2 domain</td>\n",
       "      <td>pfam</td>\n",
       "      <td>domain</td>\n",
       "      <td>IPR000980</td>\n",
       "      <td>None</td>\n",
       "      <td>None</td>\n",
       "      <td>127</td>\n",
       "      <td>202</td>\n",
       "      <td>CONTINUOUS</td>\n",
       "      <td>False</td>\n",
       "      <td>False</td>\n",
       "      <td>PF00017</td>\n",
       "      <td>9.300000e-21</td>\n",
       "    </tr>\n",
       "    <tr>\n",
       "      <th>1</th>\n",
       "      <td>p00519</td>\n",
       "      <td>1130</td>\n",
       "      <td>reviewed</td>\n",
       "      <td>9606</td>\n",
       "      <td>True</td>\n",
       "      <td>PF00018</td>\n",
       "      <td>SH3 domain</td>\n",
       "      <td>pfam</td>\n",
       "      <td>domain</td>\n",
       "      <td>IPR001452</td>\n",
       "      <td>None</td>\n",
       "      <td>None</td>\n",
       "      <td>67</td>\n",
       "      <td>113</td>\n",
       "      <td>CONTINUOUS</td>\n",
       "      <td>False</td>\n",
       "      <td>False</td>\n",
       "      <td>PF00018</td>\n",
       "      <td>2.000000e-09</td>\n",
       "    </tr>\n",
       "    <tr>\n",
       "      <th>2</th>\n",
       "      <td>p00519</td>\n",
       "      <td>1130</td>\n",
       "      <td>reviewed</td>\n",
       "      <td>9606</td>\n",
       "      <td>True</td>\n",
       "      <td>PF07714</td>\n",
       "      <td>Protein tyrosine and serine/threonine kinase</td>\n",
       "      <td>pfam</td>\n",
       "      <td>domain</td>\n",
       "      <td>IPR001245</td>\n",
       "      <td>None</td>\n",
       "      <td>None</td>\n",
       "      <td>242</td>\n",
       "      <td>492</td>\n",
       "      <td>CONTINUOUS</td>\n",
       "      <td>False</td>\n",
       "      <td>False</td>\n",
       "      <td>PF07714</td>\n",
       "      <td>1.400000e-97</td>\n",
       "    </tr>\n",
       "    <tr>\n",
       "      <th>3</th>\n",
       "      <td>p00519</td>\n",
       "      <td>1130</td>\n",
       "      <td>reviewed</td>\n",
       "      <td>9606</td>\n",
       "      <td>True</td>\n",
       "      <td>PF08919</td>\n",
       "      <td>F-actin binding</td>\n",
       "      <td>pfam</td>\n",
       "      <td>domain</td>\n",
       "      <td>IPR015015</td>\n",
       "      <td>None</td>\n",
       "      <td>None</td>\n",
       "      <td>1026</td>\n",
       "      <td>1130</td>\n",
       "      <td>CONTINUOUS</td>\n",
       "      <td>False</td>\n",
       "      <td>False</td>\n",
       "      <td>PF08919</td>\n",
       "      <td>3.500000e-28</td>\n",
       "    </tr>\n",
       "  </tbody>\n",
       "</table>\n",
       "</div>"
      ],
      "text/plain": [
       "  uniprot  protein_length source_database organism  in_alphafold  \\\n",
       "0  p00519            1130        reviewed     9606          True   \n",
       "1  p00519            1130        reviewed     9606          True   \n",
       "2  p00519            1130        reviewed     9606          True   \n",
       "3  p00519            1130        reviewed     9606          True   \n",
       "\n",
       "  pfam_accession                                          name  \\\n",
       "0        PF00017                                    SH2 domain   \n",
       "1        PF00018                                    SH3 domain   \n",
       "2        PF07714  Protein tyrosine and serine/threonine kinase   \n",
       "3        PF08919                               F-actin binding   \n",
       "\n",
       "  source_database    type integrated member_databases go_terms  start   end  \\\n",
       "0            pfam  domain  IPR000980             None     None    127   202   \n",
       "1            pfam  domain  IPR001452             None     None     67   113   \n",
       "2            pfam  domain  IPR001245             None     None    242   492   \n",
       "3            pfam  domain  IPR015015             None     None   1026  1130   \n",
       "\n",
       "    dc-status  representative  representative    model         score  \n",
       "0  CONTINUOUS           False           False  PF00017  9.300000e-21  \n",
       "1  CONTINUOUS           False           False  PF00018  2.000000e-09  \n",
       "2  CONTINUOUS           False           False  PF07714  1.400000e-97  \n",
       "3  CONTINUOUS           False           False  PF08919  3.500000e-28  "
      ]
     },
     "execution_count": 7,
     "metadata": {},
     "output_type": "execute_result"
    }
   ],
   "source": [
    "pfam.Pfam(df_kinhub[\"UniprotID\"][0])._pfam"
   ]
  },
  {
   "cell_type": "markdown",
   "metadata": {},
   "source": [
    "## HGNC"
   ]
  },
  {
   "cell_type": "markdown",
   "metadata": {},
   "source": [
    "In this example, KinHub provides UniProt IDs for each entry. UniProt IDs are needed to query the UniProt API. However, if you need to retrieve UniProt IDs from HGNC gene names, Ensembl IDs, or other identifiers, the HGNC module can be used to interrogate HGNC's [Genename API](https://www.genenames.org/help/rest/)."
   ]
  },
  {
   "cell_type": "code",
   "execution_count": 8,
   "metadata": {},
   "outputs": [],
   "source": [
    "from missense_kinase_toolkit.databases import hgnc"
   ]
  },
  {
   "cell_type": "code",
   "execution_count": 9,
   "metadata": {},
   "outputs": [
    {
     "data": {
      "text/plain": [
       "'P00519'"
      ]
     },
     "execution_count": 9,
     "metadata": {},
     "output_type": "execute_result"
    }
   ],
   "source": [
    "hgnc.HGNC(\"Abl1\").maybe_get_info_from_hgnc_fetch([\"uniprot_ids\"])[\"uniprot_ids\"][0][0]"
   ]
  },
  {
   "cell_type": "markdown",
   "metadata": {},
   "source": [
    "## KLIFS"
   ]
  },
  {
   "cell_type": "markdown",
   "metadata": {},
   "source": [
    "The input for the KLIFS database's `kinase_information` endpoint is `kinase_name` and can include HGNC gene name or UniProt ID."
   ]
  },
  {
   "cell_type": "code",
   "execution_count": 10,
   "metadata": {},
   "outputs": [],
   "source": [
    "from missense_kinase_toolkit.databases import klifs"
   ]
  },
  {
   "cell_type": "code",
   "execution_count": 11,
   "metadata": {},
   "outputs": [
    {
     "data": {
      "text/plain": [
       "{'family': 'Abl',\n",
       " 'full_name': 'ABL proto-oncogene 1, non-receptor tyrosine kinase',\n",
       " 'gene_name': 'ABL1',\n",
       " 'group': 'TK',\n",
       " 'iuphar': 1923,\n",
       " 'kinase_ID': 392,\n",
       " 'name': 'ABL1',\n",
       " 'pocket': 'HKLGGGQYGEVYEVAVKTLEFLKEAAVMKEIKPNLVQLLGVYIITEFMTYGNLLDYLREYLEKKNFIHRDLAARNCLVVADFGLS',\n",
       " 'species': 'Human',\n",
       " 'subfamily': '',\n",
       " 'uniprot': 'P00519'}"
      ]
     },
     "execution_count": 11,
     "metadata": {},
     "output_type": "execute_result"
    }
   ],
   "source": [
    "klifs.KinaseInfo(\"Abl1\")._kinase_info"
   ]
  },
  {
   "cell_type": "code",
   "execution_count": 12,
   "metadata": {},
   "outputs": [
    {
     "data": {
      "text/plain": [
       "{'family': 'Abl',\n",
       " 'full_name': 'ABL proto-oncogene 1, non-receptor tyrosine kinase',\n",
       " 'gene_name': 'ABL1',\n",
       " 'group': 'TK',\n",
       " 'iuphar': 1923,\n",
       " 'kinase_ID': 392,\n",
       " 'name': 'ABL1',\n",
       " 'pocket': 'HKLGGGQYGEVYEVAVKTLEFLKEAAVMKEIKPNLVQLLGVYIITEFMTYGNLLDYLREYLEKKNFIHRDLAARNCLVVADFGLS',\n",
       " 'species': 'Human',\n",
       " 'subfamily': '',\n",
       " 'uniprot': 'P00519'}"
      ]
     },
     "execution_count": 12,
     "metadata": {},
     "output_type": "execute_result"
    }
   ],
   "source": [
    "klifs.KinaseInfo(df_kinhub[\"UniprotID\"][0])._kinase_info"
   ]
  },
  {
   "cell_type": "markdown",
   "metadata": {},
   "source": [
    "## cBioPortal"
   ]
  },
  {
   "cell_type": "code",
   "execution_count": 13,
   "metadata": {},
   "outputs": [],
   "source": [
    "import os\n",
    "import pandas as pd\n",
    "from missense_kinase_toolkit.databases import cbioportal"
   ]
  },
  {
   "cell_type": "markdown",
   "metadata": {},
   "source": [
    "This module takes inputs from environmental variables. See the `config` module documentation for additional details. In this example, we will query the publicly available cBioPortal instance and the [Zehir, 2017](https://www.nature.com/articles/nm.4333) MSK-IMPACT sequencing cohort as the study of interest."
   ]
  },
  {
   "cell_type": "code",
   "execution_count": 14,
   "metadata": {},
   "outputs": [],
   "source": [
    "os.environ[\"CBIOPORTAL_INSTANCE\"] = \"www.cbioportal.org\"\n",
    "os.environ[\"OUTPUT_DIR\"] = \".\""
   ]
  },
  {
   "cell_type": "code",
   "execution_count": 15,
   "metadata": {},
   "outputs": [
    {
     "data": {
      "text/plain": [
       "alleleSpecificCopyNumber                                                NaN\n",
       "aminoAcidChange                                                         NaN\n",
       "center                                                                  NaN\n",
       "chr                                                                       9\n",
       "driverFilter                                                            NaN\n",
       "driverFilterAnnotation                                                  NaN\n",
       "driverTiersFilter                                                       NaN\n",
       "driverTiersFilterAnnotation                                             NaN\n",
       "endPosition                                                       133760514\n",
       "entrezGeneId                                                             25\n",
       "keyword                                                     ABL1 truncating\n",
       "molecularProfileId                                msk_impact_2017_mutations\n",
       "mutationStatus                                                          NaN\n",
       "mutationType                                                Frame_Shift_Del\n",
       "namespaceColumns                                                        NaN\n",
       "ncbiBuild                                                            GRCh37\n",
       "normalAltCount                                                          NaN\n",
       "normalRefCount                                                          NaN\n",
       "patientId                                                         P-0000507\n",
       "proteinChange                                                   K947Sfs*122\n",
       "proteinPosEnd                                                           947\n",
       "proteinPosStart                                                         946\n",
       "referenceAllele                                                           C\n",
       "refseqMrnaId                                                    NM_005157.4\n",
       "sampleId                                                  P-0000507-T01-IM3\n",
       "startPosition                                                     133760514\n",
       "studyId                                                     msk_impact_2017\n",
       "tumorAltCount                                                            80\n",
       "tumorRefCount                                                           759\n",
       "uniquePatientKey                         UC0wMDAwNTA3Om1za19pbXBhY3RfMjAxNw\n",
       "uniqueSampleKey                UC0wMDAwNTA3LVQwMS1JTTM6bXNrX2ltcGFjdF8yMDE3\n",
       "validationStatus                                                        NaN\n",
       "variantAllele                                                             -\n",
       "variantType                                                             DEL\n",
       "entrezGeneId.1                                                           25\n",
       "geneticEntityId                                                         NaN\n",
       "hugoGeneSymbol                                                         ABL1\n",
       "type                                                         protein-coding\n",
       "Name: 0, dtype: object"
      ]
     },
     "execution_count": 15,
     "metadata": {},
     "output_type": "execute_result"
    }
   ],
   "source": [
    "study = \"msk_impact_2017\"\n",
    "cbioportal.Mutations(study).get_and_save_cbioportal_cohort_mutations()\n",
    "df_zehir = pd.read_csv(f\"{study}_mutations.csv\")\n",
    "df_zehir.iloc[0]"
   ]
  },
  {
   "cell_type": "markdown",
   "metadata": {},
   "source": [
    "GenomeNexus, which is used to annotate cBioPortal entries, uses the canonical UniProt sequence. As such, we can confirm that the `proteinChange` field numbering and corresponding amino acid aligns with the canonical UniProt sequence obtained from the `uniprot` module."
   ]
  },
  {
   "cell_type": "code",
   "execution_count": 16,
   "metadata": {},
   "outputs": [
    {
     "data": {
      "text/plain": [
       "'K'"
      ]
     },
     "execution_count": 16,
     "metadata": {},
     "output_type": "execute_result"
    }
   ],
   "source": [
    "uniprot.UniProt(df_kinhub[\"UniprotID\"][0])._sequence[947-1]"
   ]
  },
  {
   "cell_type": "markdown",
   "metadata": {},
   "source": [
    "## Putting it all together"
   ]
  },
  {
   "cell_type": "markdown",
   "metadata": {},
   "source": [
    "Ultimately, the goal of this package is to allow us to build relational databases that we can query to obtain any information needed for additional downstream analyses for a list of proteins (KinHub kinases, in this example)."
   ]
  },
  {
   "cell_type": "code",
   "execution_count": 17,
   "metadata": {},
   "outputs": [],
   "source": [
    "from tqdm.notebook import tqdm"
   ]
  },
  {
   "cell_type": "markdown",
   "metadata": {},
   "source": [
    "### UniProt"
   ]
  },
  {
   "cell_type": "code",
   "execution_count": 18,
   "metadata": {},
   "outputs": [
    {
     "data": {
      "application/json": {
       "ascii": false,
       "bar_format": null,
       "colour": null,
       "elapsed": 0.0035200119018554688,
       "initial": 0,
       "n": 0,
       "ncols": null,
       "nrows": 24,
       "postfix": null,
       "prefix": "",
       "rate": null,
       "total": 517,
       "unit": "it",
       "unit_divisor": 1000,
       "unit_scale": false
      },
      "application/vnd.jupyter.widget-view+json": {
       "model_id": "3293958a522641cda5c1fce9c455bd2d",
       "version_major": 2,
       "version_minor": 0
      },
      "text/plain": [
       "  0%|          | 0/517 [00:00<?, ?it/s]"
      ]
     },
     "metadata": {},
     "output_type": "display_data"
    }
   ],
   "source": [
    "list_uniprot, list_hgnc, list_sequence = [], [], []\n",
    "\n",
    "for index, row in tqdm(df_kinhub.iterrows(), total = df_kinhub.shape[0]):\n",
    "    list_uniprot.append(row[\"UniprotID\"])\n",
    "    list_hgnc.append(row[\"HGNC Name\"])\n",
    "    list_sequence.append(uniprot.UniProt(row[\"UniprotID\"])._sequence)\n",
    "\n",
    "dict_uniprot = dict(zip([\"uniprot_id\", \"hgnc_name\", \"canonical_sequence\"], \n",
    "                        [list_uniprot, list_hgnc, list_sequence]))\n",
    "\n",
    "df_uniprot = pd.DataFrame.from_dict(dict_uniprot)"
   ]
  },
  {
   "cell_type": "markdown",
   "metadata": {},
   "source": [
    "### Pfam"
   ]
  },
  {
   "cell_type": "code",
   "execution_count": 19,
   "metadata": {},
   "outputs": [
    {
     "data": {
      "application/json": {
       "ascii": false,
       "bar_format": null,
       "colour": null,
       "elapsed": 0.015089035034179688,
       "initial": 0,
       "n": 0,
       "ncols": null,
       "nrows": 24,
       "postfix": null,
       "prefix": "",
       "rate": null,
       "total": 517,
       "unit": "it",
       "unit_divisor": 1000,
       "unit_scale": false
      },
      "application/vnd.jupyter.widget-view+json": {
       "model_id": "c136309efe5c491b9cb7186cd44899e0",
       "version_major": 2,
       "version_minor": 0
      },
      "text/plain": [
       "  0%|          | 0/517 [00:00<?, ?it/s]"
      ]
     },
     "metadata": {},
     "output_type": "display_data"
    },
    {
     "name": "stdout",
     "output_type": "stream",
     "text": [
      "No PFAM domains found: B5MCJ9\n"
     ]
    }
   ],
   "source": [
    "df_pfam = pd.DataFrame()\n",
    "for index, row in tqdm(df_kinhub.iterrows(), total = df_kinhub.shape[0]):\n",
    "    df_temp = pfam.Pfam(row[\"UniprotID\"])._pfam\n",
    "    df_pfam = pd.concat([df_pfam, df_temp]).reset_index(drop=True)\n",
    "\n",
    "df_pfam[\"uniprot\"] = df_pfam[\"uniprot\"].str.upper()"
   ]
  },
  {
   "cell_type": "markdown",
   "metadata": {},
   "source": [
    "### KLIFS"
   ]
  },
  {
   "cell_type": "code",
   "execution_count": 20,
   "metadata": {},
   "outputs": [
    {
     "data": {
      "application/json": {
       "ascii": false,
       "bar_format": null,
       "colour": null,
       "elapsed": 0.010129928588867188,
       "initial": 0,
       "n": 0,
       "ncols": null,
       "nrows": 24,
       "postfix": null,
       "prefix": "",
       "rate": null,
       "total": 517,
       "unit": "it",
       "unit_divisor": 1000,
       "unit_scale": false
      },
      "application/vnd.jupyter.widget-view+json": {
       "model_id": "4055b280713e44dcb3ca4df3ec89e88e",
       "version_major": 2,
       "version_minor": 0
      },
      "text/plain": [
       "  0%|          | 0/517 [00:00<?, ?it/s]"
      ]
     },
     "metadata": {},
     "output_type": "display_data"
    },
    {
     "name": "stdout",
     "output_type": "stream",
     "text": [
      "Error in query_kinase_info for ADRBK1:\n",
      "Expected type to be dict for value [400, 'KLIFS error: An unknown kinase name was provided'] to unmarshal to a <class 'abc.Error'>.Was <class 'list'> instead.\n",
      "Error in query_kinase_info for PRKDC:\n",
      "Expected type to be dict for value [400, 'KLIFS error: An unknown kinase name was provided'] to unmarshal to a <class 'abc.Error'>.Was <class 'list'> instead.\n",
      "Error in query_kinase_info for ADRBK2:\n",
      "Expected type to be dict for value [400, 'KLIFS error: An unknown kinase name was provided'] to unmarshal to a <class 'abc.Error'>.Was <class 'list'> instead.\n",
      "Error in query_kinase_info for PAK7:\n",
      "Expected type to be dict for value [400, 'KLIFS error: An unknown kinase name was provided'] to unmarshal to a <class 'abc.Error'>.Was <class 'list'> instead.\n",
      "Error in query_kinase_info for GSG2:\n",
      "Expected type to be dict for value [400, 'KLIFS error: An unknown kinase name was provided'] to unmarshal to a <class 'abc.Error'>.Was <class 'list'> instead.\n",
      "Error in query_kinase_info for ABR:\n",
      "Expected type to be dict for value [400, 'KLIFS error: An unknown kinase name was provided'] to unmarshal to a <class 'abc.Error'>.Was <class 'list'> instead.\n",
      "Error in query_kinase_info for TRIM66:\n",
      "Expected type to be dict for value [400, 'KLIFS error: An unknown kinase name was provided'] to unmarshal to a <class 'abc.Error'>.Was <class 'list'> instead.\n",
      "Error in query_kinase_info for COL4A3BP:\n",
      "Expected type to be dict for value [400, 'KLIFS error: An unknown kinase name was provided'] to unmarshal to a <class 'abc.Error'>.Was <class 'list'> instead.\n",
      "Error in query_kinase_info for BLVRA:\n",
      "Expected type to be dict for value [400, 'KLIFS error: An unknown kinase name was provided'] to unmarshal to a <class 'abc.Error'>.Was <class 'list'> instead.\n",
      "Error in query_kinase_info for BAZ1A:\n",
      "Expected type to be dict for value [400, 'KLIFS error: An unknown kinase name was provided'] to unmarshal to a <class 'abc.Error'>.Was <class 'list'> instead.\n",
      "Error in query_kinase_info for BAZ1B:\n",
      "Expected type to be dict for value [400, 'KLIFS error: An unknown kinase name was provided'] to unmarshal to a <class 'abc.Error'>.Was <class 'list'> instead.\n"
     ]
    }
   ],
   "source": [
    "df_klifs = pd.DataFrame()\n",
    "for index, row in tqdm(df_kinhub.iterrows(), total = df_kinhub.shape[0]):\n",
    "    df_temp = pd.DataFrame(klifs.KinaseInfo(row[\"HGNC Name\"])._kinase_info, index=[0])\n",
    "    df_klifs = pd.concat([df_klifs, df_temp]).reset_index(drop=True)"
   ]
  },
  {
   "cell_type": "code",
   "execution_count": 21,
   "metadata": {},
   "outputs": [
    {
     "data": {
      "text/html": [
       "<div>\n",
       "<style scoped>\n",
       "    .dataframe tbody tr th:only-of-type {\n",
       "        vertical-align: middle;\n",
       "    }\n",
       "\n",
       "    .dataframe tbody tr th {\n",
       "        vertical-align: top;\n",
       "    }\n",
       "\n",
       "    .dataframe thead th {\n",
       "        text-align: right;\n",
       "    }\n",
       "</style>\n",
       "<table border=\"1\" class=\"dataframe\">\n",
       "  <thead>\n",
       "    <tr style=\"text-align: right;\">\n",
       "      <th></th>\n",
       "      <th>family</th>\n",
       "      <th>full_name</th>\n",
       "      <th>gene_name</th>\n",
       "      <th>group</th>\n",
       "      <th>iuphar</th>\n",
       "      <th>kinase_ID</th>\n",
       "      <th>name</th>\n",
       "      <th>pocket</th>\n",
       "      <th>species</th>\n",
       "      <th>subfamily</th>\n",
       "      <th>uniprot</th>\n",
       "    </tr>\n",
       "  </thead>\n",
       "  <tbody>\n",
       "    <tr>\n",
       "      <th>0</th>\n",
       "      <td>Abl</td>\n",
       "      <td>ABL proto-oncogene 1, non-receptor tyrosine ki...</td>\n",
       "      <td>ABL1</td>\n",
       "      <td>TK</td>\n",
       "      <td>1923</td>\n",
       "      <td>392</td>\n",
       "      <td>ABL1</td>\n",
       "      <td>HKLGGGQYGEVYEVAVKTLEFLKEAAVMKEIKPNLVQLLGVYIITE...</td>\n",
       "      <td>Human</td>\n",
       "      <td></td>\n",
       "      <td>P00519</td>\n",
       "    </tr>\n",
       "    <tr>\n",
       "      <th>1</th>\n",
       "      <td>Ack</td>\n",
       "      <td>tyrosine kinase, non-receptor, 2</td>\n",
       "      <td>TNK2</td>\n",
       "      <td>TK</td>\n",
       "      <td>2246</td>\n",
       "      <td>394</td>\n",
       "      <td>ACK</td>\n",
       "      <td>EKLGDGSFGVVRRVAVKCLDFIREVNAMHSLDRNLIRLYGVKMVTE...</td>\n",
       "      <td>Human</td>\n",
       "      <td></td>\n",
       "      <td>Q07912</td>\n",
       "    </tr>\n",
       "    <tr>\n",
       "      <th>2</th>\n",
       "      <td>STKR</td>\n",
       "      <td>activin A receptor type IIA</td>\n",
       "      <td>ACVR2A</td>\n",
       "      <td>TKL</td>\n",
       "      <td>1791</td>\n",
       "      <td>523</td>\n",
       "      <td>ACTR2</td>\n",
       "      <td>EVKARGRFGCVWKVAVKIFSWQNEYEVYSLPGENILQFIGAWLITA...</td>\n",
       "      <td>Human</td>\n",
       "      <td>Type2</td>\n",
       "      <td>P27037</td>\n",
       "    </tr>\n",
       "    <tr>\n",
       "      <th>3</th>\n",
       "      <td>STKR</td>\n",
       "      <td>activin A receptor type IIB</td>\n",
       "      <td>ACVR2B</td>\n",
       "      <td>TKL</td>\n",
       "      <td>1792</td>\n",
       "      <td>524</td>\n",
       "      <td>ACTR2B</td>\n",
       "      <td>EIKARGRFGCVWKVAVKIFSWQSEREIFSTPGENLLQFIAAWLITA...</td>\n",
       "      <td>Human</td>\n",
       "      <td>Type2</td>\n",
       "      <td>Q13705</td>\n",
       "    </tr>\n",
       "    <tr>\n",
       "      <th>4</th>\n",
       "      <td>ABC1</td>\n",
       "      <td>Atypical kinase COQ8B, mitochondrial</td>\n",
       "      <td>COQ8B</td>\n",
       "      <td>Atypical</td>\n",
       "      <td>1928</td>\n",
       "      <td>71</td>\n",
       "      <td>ADCK4</td>\n",
       "      <td>VPFAAASIGQVHQVAVKIQDYRREAACAQNFRFRVPAVVKETRVLG...</td>\n",
       "      <td>Human</td>\n",
       "      <td>ABC1-</td>\n",
       "      <td>Q96D53</td>\n",
       "    </tr>\n",
       "  </tbody>\n",
       "</table>\n",
       "</div>"
      ],
      "text/plain": [
       "  family                                          full_name gene_name  \\\n",
       "0    Abl  ABL proto-oncogene 1, non-receptor tyrosine ki...      ABL1   \n",
       "1    Ack                   tyrosine kinase, non-receptor, 2      TNK2   \n",
       "2   STKR                        activin A receptor type IIA    ACVR2A   \n",
       "3   STKR                        activin A receptor type IIB    ACVR2B   \n",
       "4   ABC1               Atypical kinase COQ8B, mitochondrial     COQ8B   \n",
       "\n",
       "      group iuphar kinase_ID    name  \\\n",
       "0        TK   1923       392    ABL1   \n",
       "1        TK   2246       394     ACK   \n",
       "2       TKL   1791       523   ACTR2   \n",
       "3       TKL   1792       524  ACTR2B   \n",
       "4  Atypical   1928        71   ADCK4   \n",
       "\n",
       "                                              pocket species subfamily uniprot  \n",
       "0  HKLGGGQYGEVYEVAVKTLEFLKEAAVMKEIKPNLVQLLGVYIITE...   Human            P00519  \n",
       "1  EKLGDGSFGVVRRVAVKCLDFIREVNAMHSLDRNLIRLYGVKMVTE...   Human            Q07912  \n",
       "2  EVKARGRFGCVWKVAVKIFSWQNEYEVYSLPGENILQFIGAWLITA...   Human     Type2  P27037  \n",
       "3  EIKARGRFGCVWKVAVKIFSWQSEREIFSTPGENLLQFIAAWLITA...   Human     Type2  Q13705  \n",
       "4  VPFAAASIGQVHQVAVKIQDYRREAACAQNFRFRVPAVVKETRVLG...   Human     ABC1-  Q96D53  "
      ]
     },
     "execution_count": 21,
     "metadata": {},
     "output_type": "execute_result"
    }
   ],
   "source": [
    "df_klifs.head()"
   ]
  },
  {
   "cell_type": "markdown",
   "metadata": {},
   "source": [
    "### Save dataframes"
   ]
  },
  {
   "cell_type": "code",
   "execution_count": 23,
   "metadata": {},
   "outputs": [],
   "source": [
    "df_uniprot.to_csv(\"kinhub_uniprot.csv\")\n",
    "df_pfam.to_csv(\"kinhub_pfam.csv\")\n",
    "df_klifs.to_csv(\"kihub_klifs.csv\")"
   ]
  }
 ],
 "metadata": {
  "kernelspec": {
   "display_name": "Python 3 (ipykernel)",
   "language": "python",
   "name": "python3"
  },
  "language_info": {
   "codemirror_mode": {
    "name": "ipython",
    "version": 3
   },
   "file_extension": ".py",
   "mimetype": "text/x-python",
   "name": "python",
   "nbconvert_exporter": "python",
   "pygments_lexer": "ipython3",
   "version": "3.11.7"
  }
 },
 "nbformat": 4,
 "nbformat_minor": 4
}
