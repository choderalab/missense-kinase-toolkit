{
 "cells": [
  {
   "cell_type": "code",
   "execution_count": 1,
   "id": "edcffbbd-c1b3-4370-ac77-7ee61d767367",
   "metadata": {},
   "outputs": [],
   "source": [
    "import pandas as pd\n",
    "\n",
    "from mkt.ml.models.factor_model import TensorFactorPipeline"
   ]
  },
  {
   "cell_type": "code",
   "execution_count": 2,
   "id": "1333c66b-8135-4eaa-99b6-e3f8de55f7fe",
   "metadata": {},
   "outputs": [],
   "source": [
    "df_factor = pd.read_csv(\"/data1/tanseyw/projects/whitej/missense-kinase-toolkit/data/mskimpact_treatment_factor.csv\")"
   ]
  },
  {
   "cell_type": "code",
   "execution_count": 3,
   "id": "645b4b70-86dc-4f54-b8fc-1ab8d94186d4",
   "metadata": {},
   "outputs": [
    {
     "name": "stdout",
     "output_type": "stream",
     "text": [
      "Initializing TensorFactorPipeline...\n",
      "Generating train/validation split...\n",
      "    Tensor dimensions: I=84, J=85, K=337\n",
      "Initializing model with D=5 latent factors...\n",
      "    Optimizer: Adam, LR=0.01\n",
      "Creating dataloaders...\n",
      "\n",
      "==================================================\n",
      "DATA DIAGNOSTICS\n",
      "==================================================\n",
      "Target column: p(drug|mut)\n",
      "  Range: [0.0000, 1.0000]\n",
      "  Mean: 0.0025\n",
      "  Std: 0.0403\n",
      "\n",
      "Split sizes:\n",
      "  Train: 1036566 (79.1%)\n",
      "  Val:   274027 (20.9%)\n",
      "  ✓ No overlap between train and val\n",
      "\n",
      "Model parameters:\n",
      "  W: shape=torch.Size([84, 5]), mean=-0.0035, std=0.1025\n",
      "  V: shape=torch.Size([85, 5]), mean=0.0019, std=0.1013\n",
      "  U: shape=torch.Size([337, 5]), mean=0.0027, std=0.1019\n",
      "\n",
      "Initial prediction at (0,0,0): 0.5002\n",
      "==================================================\n",
      "\n"
     ]
    }
   ],
   "source": [
    "tensor_factor_pipeline = TensorFactorPipeline(df=df_factor, D=5, epochs=1000)"
   ]
  },
  {
   "cell_type": "code",
   "execution_count": 4,
   "id": "0a2a9480-cb79-47c0-beec-242c55a5d74f",
   "metadata": {},
   "outputs": [
    {
     "name": "stdout",
     "output_type": "stream",
     "text": [
      "\n",
      "Starting training: 1,036,566 train samples, 274,027 validation samples\n",
      "\n"
     ]
    },
    {
     "name": "stderr",
     "output_type": "stream",
     "text": [
      "Training epochs:   0%|                                                                                      | 1/1000 [00:00<02:46,  6.01it/s]"
     ]
    },
    {
     "name": "stdout",
     "output_type": "stream",
     "text": [
      "Epoch 0: Train Loss = 0.693148, Val Loss = 0.693146\n"
     ]
    },
    {
     "name": "stderr",
     "output_type": "stream",
     "text": [
      "Training epochs:   0%|▎                                                                                     | 3/1000 [00:00<01:42,  9.74it/s]"
     ]
    },
    {
     "name": "stdout",
     "output_type": "stream",
     "text": [
      "Epoch 1: Train Loss = 0.693147, Val Loss = 0.693147\n",
      "  ⚠️  WARNING: Loss not changing - model may not be learning!\n",
      "Epoch 2: Train Loss = 0.693147, Val Loss = 0.693147\n",
      "  ⚠️  WARNING: Loss not changing - model may not be learning!\n",
      "Epoch 3: Train Loss = 0.693147, Val Loss = 0.693147\n",
      "  ⚠️  WARNING: Loss not changing - model may not be learning!\n"
     ]
    },
    {
     "name": "stderr",
     "output_type": "stream",
     "text": [
      "Training epochs:   0%|▍                                                                                     | 5/1000 [00:00<01:29, 11.12it/s]"
     ]
    },
    {
     "name": "stdout",
     "output_type": "stream",
     "text": [
      "Epoch 4: Train Loss = 0.693147, Val Loss = 0.693147\n",
      "  ⚠️  WARNING: Loss not changing - model may not be learning!\n"
     ]
    },
    {
     "name": "stderr",
     "output_type": "stream",
     "text": [
      "Training epochs:  10%|████████▋                                                                           | 103/1000 [00:07<00:58, 15.25it/s]"
     ]
    },
    {
     "name": "stdout",
     "output_type": "stream",
     "text": [
      "Epoch 100: Train Loss = 0.693147, Val Loss = 0.693147\n",
      "  ⚠️  WARNING: Loss not changing - model may not be learning!\n"
     ]
    },
    {
     "name": "stderr",
     "output_type": "stream",
     "text": [
      "Training epochs:  20%|█████████████████                                                                   | 203/1000 [00:14<00:55, 14.48it/s]"
     ]
    },
    {
     "name": "stdout",
     "output_type": "stream",
     "text": [
      "Epoch 200: Train Loss = 0.693147, Val Loss = 0.693147\n",
      "  ⚠️  WARNING: Loss not changing - model may not be learning!\n"
     ]
    },
    {
     "name": "stderr",
     "output_type": "stream",
     "text": [
      "Training epochs:  30%|█████████████████████████▍                                                          | 303/1000 [00:22<00:53, 12.94it/s]"
     ]
    },
    {
     "name": "stdout",
     "output_type": "stream",
     "text": [
      "Epoch 300: Train Loss = 0.693147, Val Loss = 0.693147\n",
      "  ⚠️  WARNING: Loss not changing - model may not be learning!\n"
     ]
    },
    {
     "name": "stderr",
     "output_type": "stream",
     "text": [
      "Training epochs:  40%|█████████████████████████████████▊                                                  | 403/1000 [00:29<00:38, 15.52it/s]"
     ]
    },
    {
     "name": "stdout",
     "output_type": "stream",
     "text": [
      "Epoch 400: Train Loss = 0.693147, Val Loss = 0.693147\n",
      "  ⚠️  WARNING: Loss not changing - model may not be learning!\n"
     ]
    },
    {
     "name": "stderr",
     "output_type": "stream",
     "text": [
      "Training epochs:  50%|██████████████████████████████████████████▏                                         | 502/1000 [00:38<01:33,  5.32it/s]"
     ]
    },
    {
     "name": "stdout",
     "output_type": "stream",
     "text": [
      "Epoch 500: Train Loss = 0.693147, Val Loss = 0.693147\n",
      "  ⚠️  WARNING: Loss not changing - model may not be learning!\n"
     ]
    },
    {
     "name": "stderr",
     "output_type": "stream",
     "text": [
      "Training epochs:  60%|██████████████████████████████████████████████████▌                                 | 602/1000 [00:57<01:17,  5.11it/s]"
     ]
    },
    {
     "name": "stdout",
     "output_type": "stream",
     "text": [
      "Epoch 600: Train Loss = 0.693147, Val Loss = 0.693147\n",
      "  ⚠️  WARNING: Loss not changing - model may not be learning!\n"
     ]
    },
    {
     "name": "stderr",
     "output_type": "stream",
     "text": [
      "Training epochs:  70%|███████████████████████████████████████████████████████████                         | 703/1000 [01:08<00:23, 12.62it/s]"
     ]
    },
    {
     "name": "stdout",
     "output_type": "stream",
     "text": [
      "Epoch 700: Train Loss = 0.693147, Val Loss = 0.693147\n",
      "  ⚠️  WARNING: Loss not changing - model may not be learning!\n"
     ]
    },
    {
     "name": "stderr",
     "output_type": "stream",
     "text": [
      "Training epochs:  80%|███████████████████████████████████████████████████████████████████▍                | 803/1000 [01:16<00:16, 12.17it/s]"
     ]
    },
    {
     "name": "stdout",
     "output_type": "stream",
     "text": [
      "Epoch 800: Train Loss = 0.693147, Val Loss = 0.693147\n",
      "  ⚠️  WARNING: Loss not changing - model may not be learning!\n"
     ]
    },
    {
     "name": "stderr",
     "output_type": "stream",
     "text": [
      "Training epochs:  90%|███████████████████████████████████████████████████████████████████████████▊        | 903/1000 [01:24<00:07, 12.50it/s]"
     ]
    },
    {
     "name": "stdout",
     "output_type": "stream",
     "text": [
      "Epoch 900: Train Loss = 0.693147, Val Loss = 0.693147\n",
      "  ⚠️  WARNING: Loss not changing - model may not be learning!\n"
     ]
    },
    {
     "name": "stderr",
     "output_type": "stream",
     "text": [
      "Training epochs: 100%|███████████████████████████████████████████████████████████████████████████████████| 1000/1000 [01:31<00:00, 10.90it/s]\n"
     ]
    }
   ],
   "source": [
    "train_losses, test_losses = tensor_factor_pipeline.train()"
   ]
  },
  {
   "cell_type": "code",
   "execution_count": 11,
   "id": "449fc0c9-7beb-4149-b077-6e1ccc4d78e2",
   "metadata": {},
   "outputs": [
    {
     "data": {
      "text/plain": [
       "Parameter containing:\n",
       "tensor([[-2.0017e-25,  4.8648e-25,  1.9672e-25,  ..., -6.3334e-25,\n",
       "         -1.1322e-24, -1.4103e-25],\n",
       "        [-1.9073e-25,  7.8164e-25, -3.9244e-25,  ...,  1.4551e-24,\n",
       "          1.5207e-24, -4.0805e-25],\n",
       "        [-1.3912e-24,  9.7853e-25, -2.9583e-24,  ..., -1.5145e-24,\n",
       "          1.1226e-24,  1.2671e-25],\n",
       "        ...,\n",
       "        [-3.5381e-25, -1.7221e-25, -4.8308e-24,  ..., -3.8674e-26,\n",
       "          1.1426e-25, -1.7178e-24],\n",
       "        [-4.9537e-26,  1.0638e-24, -7.8400e-25,  ..., -6.8141e-25,\n",
       "          4.9666e-25,  3.9378e-25],\n",
       "        [ 1.7079e-25,  1.2965e-24, -3.3924e-26,  ..., -9.6257e-25,\n",
       "         -4.9819e-25,  1.0802e-24]], requires_grad=True)"
      ]
     },
     "execution_count": 11,
     "metadata": {},
     "output_type": "execute_result"
    }
   ],
   "source": [
    "tensor_factor_pipeline.model.V"
   ]
  },
  {
   "cell_type": "code",
   "execution_count": 9,
   "id": "a6598916-0468-47ee-adbf-e59b8b9ad32d",
   "metadata": {},
   "outputs": [
    {
     "data": {
      "text/plain": [
       "['D',\n",
       " 'I',\n",
       " 'J',\n",
       " 'K',\n",
       " 'T_destination',\n",
       " 'U',\n",
       " 'V',\n",
       " 'W',\n",
       " '__annotations__',\n",
       " '__call__',\n",
       " '__class__',\n",
       " '__delattr__',\n",
       " '__dict__',\n",
       " '__dir__',\n",
       " '__doc__',\n",
       " '__eq__',\n",
       " '__format__',\n",
       " '__ge__',\n",
       " '__getattr__',\n",
       " '__getattribute__',\n",
       " '__getstate__',\n",
       " '__gt__',\n",
       " '__hash__',\n",
       " '__init__',\n",
       " '__init_subclass__',\n",
       " '__le__',\n",
       " '__lt__',\n",
       " '__module__',\n",
       " '__ne__',\n",
       " '__new__',\n",
       " '__reduce__',\n",
       " '__reduce_ex__',\n",
       " '__repr__',\n",
       " '__setattr__',\n",
       " '__setstate__',\n",
       " '__sizeof__',\n",
       " '__str__',\n",
       " '__subclasshook__',\n",
       " '__weakref__',\n",
       " '_apply',\n",
       " '_backward_hooks',\n",
       " '_backward_pre_hooks',\n",
       " '_buffers',\n",
       " '_call_impl',\n",
       " '_compiled_call_impl',\n",
       " '_forward_hooks',\n",
       " '_forward_hooks_always_called',\n",
       " '_forward_hooks_with_kwargs',\n",
       " '_forward_pre_hooks',\n",
       " '_forward_pre_hooks_with_kwargs',\n",
       " '_get_backward_hooks',\n",
       " '_get_backward_pre_hooks',\n",
       " '_get_name',\n",
       " '_is_full_backward_hook',\n",
       " '_load_from_state_dict',\n",
       " '_load_state_dict_post_hooks',\n",
       " '_load_state_dict_pre_hooks',\n",
       " '_maybe_warn_non_full_backward_hook',\n",
       " '_modules',\n",
       " '_named_members',\n",
       " '_non_persistent_buffers_set',\n",
       " '_parameters',\n",
       " '_register_load_state_dict_pre_hook',\n",
       " '_register_state_dict_hook',\n",
       " '_replicate_for_data_parallel',\n",
       " '_save_to_state_dict',\n",
       " '_slow_forward',\n",
       " '_state_dict_hooks',\n",
       " '_state_dict_pre_hooks',\n",
       " '_version',\n",
       " '_wrapped_call_impl',\n",
       " 'add_module',\n",
       " 'apply',\n",
       " 'bfloat16',\n",
       " 'buffers',\n",
       " 'call_super_init',\n",
       " 'children',\n",
       " 'compile',\n",
       " 'cpu',\n",
       " 'cuda',\n",
       " 'double',\n",
       " 'dump_patches',\n",
       " 'eval',\n",
       " 'extra_repr',\n",
       " 'float',\n",
       " 'forward',\n",
       " 'get_buffer',\n",
       " 'get_extra_state',\n",
       " 'get_parameter',\n",
       " 'get_submodule',\n",
       " 'half',\n",
       " 'ipu',\n",
       " 'load_state_dict',\n",
       " 'modules',\n",
       " 'named_buffers',\n",
       " 'named_children',\n",
       " 'named_modules',\n",
       " 'named_parameters',\n",
       " 'parameters',\n",
       " 'register_backward_hook',\n",
       " 'register_buffer',\n",
       " 'register_forward_hook',\n",
       " 'register_forward_pre_hook',\n",
       " 'register_full_backward_hook',\n",
       " 'register_full_backward_pre_hook',\n",
       " 'register_load_state_dict_post_hook',\n",
       " 'register_module',\n",
       " 'register_parameter',\n",
       " 'register_state_dict_pre_hook',\n",
       " 'requires_grad_',\n",
       " 'set_extra_state',\n",
       " 'share_memory',\n",
       " 'state_dict',\n",
       " 'to',\n",
       " 'to_empty',\n",
       " 'train',\n",
       " 'training',\n",
       " 'type',\n",
       " 'xpu',\n",
       " 'zero_grad']"
      ]
     },
     "execution_count": 9,
     "metadata": {},
     "output_type": "execute_result"
    }
   ],
   "source": [
    "dir(tensor_factor_pipeline.model)"
   ]
  },
  {
   "cell_type": "code",
   "execution_count": 12,
   "id": "4c3ba949-a435-4f84-bce0-bf988aa8d20b",
   "metadata": {},
   "outputs": [
    {
     "data": {
      "text/plain": [
       "LogisticTensorFactorModel()"
      ]
     },
     "execution_count": 12,
     "metadata": {},
     "output_type": "execute_result"
    }
   ],
   "source": [
    "tensor_factor_pipeline.dataloader_trainings"
   ]
  },
  {
   "cell_type": "code",
   "execution_count": 10,
   "id": "7a708f00-3ad7-43ea-a364-4d5e2aeb8fdc",
   "metadata": {},
   "outputs": [
    {
     "data": {
      "text/plain": [
       "['_DataLoader__initialized',\n",
       " '_DataLoader__multiprocessing_context',\n",
       " '_IterableDataset_len_called',\n",
       " '__annotations__',\n",
       " '__class__',\n",
       " '__class_getitem__',\n",
       " '__delattr__',\n",
       " '__dict__',\n",
       " '__dir__',\n",
       " '__doc__',\n",
       " '__eq__',\n",
       " '__format__',\n",
       " '__ge__',\n",
       " '__getattribute__',\n",
       " '__getstate__',\n",
       " '__gt__',\n",
       " '__hash__',\n",
       " '__init__',\n",
       " '__init_subclass__',\n",
       " '__iter__',\n",
       " '__le__',\n",
       " '__len__',\n",
       " '__lt__',\n",
       " '__module__',\n",
       " '__ne__',\n",
       " '__new__',\n",
       " '__orig_bases__',\n",
       " '__parameters__',\n",
       " '__reduce__',\n",
       " '__reduce_ex__',\n",
       " '__repr__',\n",
       " '__setattr__',\n",
       " '__sizeof__',\n",
       " '__str__',\n",
       " '__subclasshook__',\n",
       " '__weakref__',\n",
       " '_auto_collation',\n",
       " '_dataset_kind',\n",
       " '_get_iterator',\n",
       " '_index_sampler',\n",
       " '_iterator',\n",
       " 'batch_sampler',\n",
       " 'batch_size',\n",
       " 'check_worker_number_rationality',\n",
       " 'collate_fn',\n",
       " 'dataset',\n",
       " 'drop_last',\n",
       " 'generator',\n",
       " 'multiprocessing_context',\n",
       " 'num_workers',\n",
       " 'persistent_workers',\n",
       " 'pin_memory',\n",
       " 'pin_memory_device',\n",
       " 'prefetch_factor',\n",
       " 'sampler',\n",
       " 'timeout',\n",
       " 'worker_init_fn']"
      ]
     },
     "execution_count": 10,
     "metadata": {},
     "output_type": "execute_result"
    }
   ],
   "source": [
    "dir(tensor_factor_pipeline.training_loader)"
   ]
  },
  {
   "cell_type": "code",
   "execution_count": null,
   "id": "8e573837-4d63-4c68-b161-e98b88ba7716",
   "metadata": {},
   "outputs": [],
   "source": []
  },
  {
   "cell_type": "code",
   "execution_count": null,
   "id": "f5948bb0-772c-43fa-9be1-13ec7f1c1d01",
   "metadata": {},
   "outputs": [],
   "source": []
  },
  {
   "cell_type": "code",
   "execution_count": null,
   "id": "cca7c32b-9047-405c-8e59-8cba2ac83589",
   "metadata": {},
   "outputs": [],
   "source": []
  },
  {
   "cell_type": "code",
   "execution_count": null,
   "id": "129fb553-2068-4beb-99a4-a23f31e8effa",
   "metadata": {},
   "outputs": [],
   "source": []
  },
  {
   "cell_type": "code",
   "execution_count": null,
   "id": "cb6037cf-a4e8-4451-bf17-779ab5084e6a",
   "metadata": {},
   "outputs": [],
   "source": []
  },
  {
   "cell_type": "code",
   "execution_count": null,
   "id": "6e6e4a63-b7e6-4c4a-b3a1-eb0b5a9a6a1e",
   "metadata": {},
   "outputs": [],
   "source": []
  },
  {
   "cell_type": "code",
   "execution_count": null,
   "id": "86133026-c376-4698-81e9-14063d4665ba",
   "metadata": {},
   "outputs": [],
   "source": []
  },
  {
   "cell_type": "code",
   "execution_count": null,
   "id": "11100f12-850d-4f59-b938-dd08abd54c50",
   "metadata": {},
   "outputs": [],
   "source": []
  },
  {
   "cell_type": "code",
   "execution_count": null,
   "id": "5d3e4218-1a1b-4e3d-b920-be3318e0daab",
   "metadata": {},
   "outputs": [],
   "source": []
  },
  {
   "cell_type": "code",
   "execution_count": null,
   "id": "c3414d36-cb7b-4d9d-a351-e185a58b3852",
   "metadata": {},
   "outputs": [],
   "source": []
  },
  {
   "cell_type": "code",
   "execution_count": 141,
   "id": "9c3bd407-7971-4802-8f6b-f7a20cb7d527",
   "metadata": {},
   "outputs": [],
   "source": [
    "list_dims = [1, 2, 3]"
   ]
  },
  {
   "cell_type": "code",
   "execution_count": 144,
   "id": "25cf25e7-1eb4-49eb-b618-c1729b7e365b",
   "metadata": {},
   "outputs": [],
   "source": [
    "i, j, k = [1, 2, 3]"
   ]
  },
  {
   "cell_type": "code",
   "execution_count": 145,
   "id": "92bb94f2-4913-434c-9fea-86192c2265d1",
   "metadata": {},
   "outputs": [
    {
     "data": {
      "text/plain": [
       "1"
      ]
     },
     "execution_count": 145,
     "metadata": {},
     "output_type": "execute_result"
    }
   ],
   "source": [
    "i"
   ]
  },
  {
   "cell_type": "code",
   "execution_count": 136,
   "id": "07a46a03-8419-4b23-a8b9-e164f4c68de7",
   "metadata": {},
   "outputs": [],
   "source": [
    "def generate_split_dataframe(\n",
    "    df_in: pd.DataFrame, \n",
    "    percent_split: float = 0.2,\n",
    "    list_cols: list[str] = [\"hgnc\", \"klifs\", \"drug\"],\n",
    "    str_y: str = \"p(drug|mut)\",\n",
    "    seed: int = 42,\n",
    ") -> tuple[pd.DataFrame, dict]:\n",
    "    \"\"\"Shuffle dataframe and create 80-20 train-test split with contiguous 3D blocks.\n",
    "    \n",
    "    For 3D tensor cross-validation, each test set is a contiguous cuboid\n",
    "    representing approximately percent_split of the total volume.\n",
    "    \n",
    "    Parameters\n",
    "    ----------\n",
    "    df_in: pd.DataFrame\n",
    "        Dataframe to annotate with splits.\n",
    "    percent_split: float\n",
    "        Percent held-out test.\n",
    "    list_cols: list[str]\n",
    "        Column names for the three dimensions.\n",
    "    str_y: str\n",
    "        Target column name.\n",
    "    seed: int\n",
    "        Seed for shuffling; default: 42.\n",
    "\n",
    "    Returns\n",
    "    -------\n",
    "    tuple[pd.DataFrame, dict]\n",
    "        Annotated dataframe and dictionary with split info.\n",
    "    \"\"\"\n",
    "    df_split = df_in.sample(frac=1, random_state=seed).reset_index(drop=True).copy()\n",
    "    dim_frac = percent_split ** (1/3)\n",
    "\n",
    "    dict_splits = {}\n",
    "    for col_name, col_series in df_split[list_cols].items():\n",
    "        n_unique, series_unique = col_series.nunique(), col_series.unique()\n",
    "        idx_end = max(1, int(np.round(dim_frac * n_unique)))\n",
    "        dict_splits[col_name] = {\n",
    "            \"dict_map\": dict(zip(range(n_unique), series_unique)),\n",
    "            \"list_idx\": list(np.arange(n_unique)[0:idx_end])\n",
    "        }\n",
    "\n",
    "    for col in list_cols:\n",
    "        dict_reverse = {v: k for k, v in dict_splits[col][\"dict_map\"].items()}\n",
    "        df_split[col + \"_idx\"] = df_split[col].apply(lambda x: dict_reverse[x])\n",
    "    df_split[\"test\"] = np.logical_and.reduce(\n",
    "        [df_split[k].isin([v[\"dict_map\"][i] for i in v[\"list_idx\"]]) for k, v in dict_splits.items()])\n",
    "    df_split.insert(len(df_split.columns)-1, str_y, df_split.pop(str_y))\n",
    "\n",
    "    return df_split, dict_splits"
   ]
  },
  {
   "cell_type": "code",
   "execution_count": 137,
   "id": "15bd9020-c536-4e0b-b4e7-06fadab584a0",
   "metadata": {},
   "outputs": [],
   "source": [
    "df_split, dict_splits = generate_split_dataframe(df_factor, seed=24)"
   ]
  },
  {
   "cell_type": "code",
   "execution_count": 138,
   "id": "1941c144-feac-4f5b-bb6e-a10bd437ae4f",
   "metadata": {},
   "outputs": [
    {
     "data": {
      "text/html": [
       "<div>\n",
       "<style scoped>\n",
       "    .dataframe tbody tr th:only-of-type {\n",
       "        vertical-align: middle;\n",
       "    }\n",
       "\n",
       "    .dataframe tbody tr th {\n",
       "        vertical-align: top;\n",
       "    }\n",
       "\n",
       "    .dataframe thead th {\n",
       "        text-align: right;\n",
       "    }\n",
       "</style>\n",
       "<table border=\"1\" class=\"dataframe\">\n",
       "  <thead>\n",
       "    <tr style=\"text-align: right;\">\n",
       "      <th></th>\n",
       "      <th>hgnc</th>\n",
       "      <th>klifs</th>\n",
       "      <th>drug</th>\n",
       "      <th>hgnc_idx</th>\n",
       "      <th>klifs_idx</th>\n",
       "      <th>drug_idx</th>\n",
       "      <th>test</th>\n",
       "      <th>p(drug|mut)</th>\n",
       "    </tr>\n",
       "  </thead>\n",
       "  <tbody>\n",
       "    <tr>\n",
       "      <th>0</th>\n",
       "      <td>ERBB3</td>\n",
       "      <td>VI:65</td>\n",
       "      <td>Cytarabine</td>\n",
       "      <td>0</td>\n",
       "      <td>0</td>\n",
       "      <td>0</td>\n",
       "      <td>True</td>\n",
       "      <td>0.0</td>\n",
       "    </tr>\n",
       "    <tr>\n",
       "      <th>1</th>\n",
       "      <td>CHEK2</td>\n",
       "      <td>αD:54</td>\n",
       "      <td>Inotuzumab Ozogamicin</td>\n",
       "      <td>1</td>\n",
       "      <td>1</td>\n",
       "      <td>1</td>\n",
       "      <td>True</td>\n",
       "      <td>0.0</td>\n",
       "    </tr>\n",
       "    <tr>\n",
       "      <th>2</th>\n",
       "      <td>MAP3K1</td>\n",
       "      <td>αD:58</td>\n",
       "      <td>Aflibercept Ophthalmic</td>\n",
       "      <td>2</td>\n",
       "      <td>2</td>\n",
       "      <td>2</td>\n",
       "      <td>True</td>\n",
       "      <td>0.0</td>\n",
       "    </tr>\n",
       "    <tr>\n",
       "      <th>3</th>\n",
       "      <td>MTOR</td>\n",
       "      <td>c.l:68</td>\n",
       "      <td>Lutetium Lu-177 Dotatate</td>\n",
       "      <td>3</td>\n",
       "      <td>3</td>\n",
       "      <td>3</td>\n",
       "      <td>True</td>\n",
       "      <td>0.0</td>\n",
       "    </tr>\n",
       "    <tr>\n",
       "      <th>4</th>\n",
       "      <td>IGF1R</td>\n",
       "      <td>xDFG:80</td>\n",
       "      <td>Polatuzumab Vedotin</td>\n",
       "      <td>4</td>\n",
       "      <td>4</td>\n",
       "      <td>4</td>\n",
       "      <td>True</td>\n",
       "      <td>0.0</td>\n",
       "    </tr>\n",
       "  </tbody>\n",
       "</table>\n",
       "</div>"
      ],
      "text/plain": [
       "     hgnc    klifs                      drug  hgnc_idx  klifs_idx  drug_idx  \\\n",
       "0   ERBB3    VI:65                Cytarabine         0          0         0   \n",
       "1   CHEK2    αD:54     Inotuzumab Ozogamicin         1          1         1   \n",
       "2  MAP3K1    αD:58    Aflibercept Ophthalmic         2          2         2   \n",
       "3    MTOR   c.l:68  Lutetium Lu-177 Dotatate         3          3         3   \n",
       "4   IGF1R  xDFG:80       Polatuzumab Vedotin         4          4         4   \n",
       "\n",
       "   test  p(drug|mut)  \n",
       "0  True          0.0  \n",
       "1  True          0.0  \n",
       "2  True          0.0  \n",
       "3  True          0.0  \n",
       "4  True          0.0  "
      ]
     },
     "execution_count": 138,
     "metadata": {},
     "output_type": "execute_result"
    }
   ],
   "source": [
    "df_split.head()"
   ]
  },
  {
   "cell_type": "code",
   "execution_count": 140,
   "id": "498e6946-eaa4-4fc8-94c7-50251664baec",
   "metadata": {},
   "outputs": [
    {
     "data": {
      "text/plain": [
       "0.2090862685822372"
      ]
     },
     "execution_count": 140,
     "metadata": {},
     "output_type": "execute_result"
    }
   ],
   "source": [
    "df_split[\"test\"].sum()/ df_split.shape[0]"
   ]
  },
  {
   "cell_type": "code",
   "execution_count": null,
   "id": "a021edfa-3da1-4457-9332-7b61bccb3caf",
   "metadata": {},
   "outputs": [],
   "source": []
  },
  {
   "cell_type": "code",
   "execution_count": null,
   "id": "07a24005-c82b-4b11-b5bb-4b0ad0828721",
   "metadata": {},
   "outputs": [],
   "source": []
  },
  {
   "cell_type": "code",
   "execution_count": 81,
   "id": "80f59101-8fc6-465a-8f1a-601a708031eb",
   "metadata": {},
   "outputs": [
    {
     "data": {
      "text/plain": [
       "0           True\n",
       "1           True\n",
       "2           True\n",
       "3           True\n",
       "4           True\n",
       "           ...  \n",
       "1310588     True\n",
       "1310589    False\n",
       "1310590     True\n",
       "1310591    False\n",
       "1310592    False\n",
       "Name: klifs_idx, Length: 1310593, dtype: bool"
      ]
     },
     "execution_count": 81,
     "metadata": {},
     "output_type": "execute_result"
    }
   ],
   "source": [
    "df_split[\"klifs_idx\"].isin(np.arange(n_unique)[0:idx_end])"
   ]
  },
  {
   "cell_type": "code",
   "execution_count": 63,
   "id": "0123e107-d878-4805-9e63-351bbbc4ca01",
   "metadata": {},
   "outputs": [],
   "source": [
    "def generate_split_dataframe(\n",
    "    df_in: pd.DataFrame, \n",
    "    seed: int = 42,\n",
    "    list_cols: list[str] = [\"hgnc\", \"klifs\", \"drug\"],\n",
    "    str_y: str = \"p(drug|mut)\",\n",
    "    percent_split: float = 0.2,\n",
    ") -> tuple[pd.DataFrame, dict]:\n",
    "    \"\"\"Shuffle dataframe and create 80-20 train-test split with contiguous 3D blocks.\n",
    "    \n",
    "    For 3D tensor cross-validation, each test set is a contiguous cuboid\n",
    "    representing approximately percent_split of the total volume.\n",
    "    \n",
    "    Parameters\n",
    "    ----------\n",
    "    df_in: pd.DataFrame\n",
    "        Dataframe to annotate with splits.\n",
    "    seed: int\n",
    "        Seed for shuffling; default: 42.\n",
    "    list_cols: list[str]\n",
    "        Column names for the three dimensions.\n",
    "    str_y: str\n",
    "        Target column name.\n",
    "    percent_split: float\n",
    "        Percent held-out test.\n",
    "\n",
    "    Returns\n",
    "    -------\n",
    "    tuple[pd.DataFrame, dict]\n",
    "        Annotated dataframe and dictionary with split info.\n",
    "    \"\"\"\n",
    "    df_shuffled = df_in.sample(frac=1, random_state=seed).reset_index(drop=True)\n",
    "    \n",
    "    # calculate the fraction of each dimension to hold out\n",
    "    # each test set should be ~percent_split of total volume\n",
    "    dim_fraction = (percent_split) ** (1/3)\n",
    "    \n",
    "    dict_splits = {}    \n",
    "    for col_name, col_series in df_shuffled[list_cols].items():\n",
    "        n_unique, series_unique = col_series.nunique(), col_series.unique()\n",
    "        \n",
    "        # calculate size of test block for this dimension\n",
    "        test_size = max(1, int(np.round(n_unique * dim_fraction)))\n",
    "        \n",
    "        # create contiguous splits\n",
    "        indices = np.arange(n_unique)\n",
    "        \n",
    "        # calculate start position for this fold's test set\n",
    "        end = min(test_size, n_unique)\n",
    "        list_train\n",
    "        list_split_orig.append(indices[0:end])\n",
    "        list_split_orig.append(indices[end:])\n",
    "\n",
    "        dict_splits[col_name] = {\n",
    "            \"dict_map\": dict(zip(range(n_unique), series_unique)),\n",
    "            \"list_train\": list_train,            \n",
    "        }\n",
    "        \n",
    "        dict(zip(range(n_unique), series_unique))\n",
    "        # dict_splits[col_name] = {\n",
    "        #     \"dict_map\": dict(zip(range(n_unique), series_unique)),\n",
    "        #     \"dict_splits\": dict(zip([\"test\", \"train\"], list_split_orig)),\n",
    "        #     \"test_size\": test_size,\n",
    "        #     \"n_unique\": n_unique,\n",
    "        # }\n",
    "    \n",
    "    # generate dataframe with indices\n",
    "    df_new = df_shuffled[list_cols].copy()\n",
    "\n",
    "    \n",
    "    for col in df_new.columns:\n",
    "        dict_reverse = {v: k for k, v in dict_splits[col][\"dict_map\"].items()}\n",
    "        df_new[col] = df_new[col].map(dict_reverse)\n",
    "    df_new.columns = df_new.columns + \"_idx\"\n",
    "    df_split = pd.concat([df_shuffled, df_new], axis=1)\n",
    "\n",
    "    # list_bool = []\n",
    "    # for col in list_cols:\n",
    "    #     series = df_split[col + \"_idx\"].isin(dict_splits[col][\"dict_splits\"][\"train\"])\n",
    "    # np.logical_and(*list_bool)    \n",
    "    # df_split[\"split\"] = \n",
    "\n",
    "    df_split.insert(len(df_split.columns)-1, str_y, df_split.pop(str_y))\n",
    "    \n",
    "    return df_split, dict_splits"
   ]
  },
  {
   "cell_type": "code",
   "execution_count": 64,
   "id": "82f8cd64-c176-4e06-906e-e518311b4a5f",
   "metadata": {},
   "outputs": [],
   "source": [
    "df_split, dict_folds = generate_split_dataframe(df_factor)"
   ]
  },
  {
   "cell_type": "code",
   "execution_count": null,
   "id": "1468aa2b-26cf-4a02-8bbd-1977f2146901",
   "metadata": {},
   "outputs": [],
   "source": []
  },
  {
   "cell_type": "code",
   "execution_count": null,
   "id": "f0a2316a-67ce-4326-aa67-63ac73f91e84",
   "metadata": {},
   "outputs": [],
   "source": []
  },
  {
   "cell_type": "code",
   "execution_count": null,
   "id": "fcc56186-204d-4f62-a59a-0ebca651fd60",
   "metadata": {},
   "outputs": [],
   "source": []
  },
  {
   "cell_type": "code",
   "execution_count": null,
   "id": "bf6b7cbe-ab96-44a4-9a2c-29a8eff16245",
   "metadata": {},
   "outputs": [],
   "source": []
  },
  {
   "cell_type": "code",
   "execution_count": null,
   "id": "cfbcc0ed-206c-4241-aec7-9da6d2abc63d",
   "metadata": {},
   "outputs": [],
   "source": []
  },
  {
   "cell_type": "code",
   "execution_count": null,
   "id": "532a817d-4a88-4601-942d-f9357263a3dd",
   "metadata": {},
   "outputs": [],
   "source": []
  },
  {
   "cell_type": "code",
   "execution_count": null,
   "id": "942fa566-b466-4e9d-baaf-57e69bfad424",
   "metadata": {},
   "outputs": [],
   "source": []
  },
  {
   "cell_type": "code",
   "execution_count": null,
   "id": "451c04db-530e-4771-b0c4-a0f009062c00",
   "metadata": {},
   "outputs": [],
   "source": []
  },
  {
   "cell_type": "code",
   "execution_count": null,
   "id": "8b350200-f316-4ca8-b3eb-e0fe5e51fda4",
   "metadata": {},
   "outputs": [],
   "source": []
  },
  {
   "cell_type": "code",
   "execution_count": null,
   "id": "956debf1-fa4d-4248-92aa-1671315746f7",
   "metadata": {},
   "outputs": [],
   "source": []
  },
  {
   "cell_type": "code",
   "execution_count": null,
   "id": "93824b93-a5be-465c-9c8a-885d33d62b80",
   "metadata": {},
   "outputs": [],
   "source": []
  },
  {
   "cell_type": "code",
   "execution_count": null,
   "id": "7eba35de-acf1-49bc-be1c-37f9d522ca48",
   "metadata": {},
   "outputs": [],
   "source": []
  },
  {
   "cell_type": "code",
   "execution_count": null,
   "id": "56142409-fa94-4926-80e3-c9fdda4fb6fc",
   "metadata": {},
   "outputs": [],
   "source": []
  },
  {
   "cell_type": "code",
   "execution_count": null,
   "id": "fdbba58f-a111-4c7b-baab-bac808f471e3",
   "metadata": {},
   "outputs": [],
   "source": []
  },
  {
   "cell_type": "code",
   "execution_count": 183,
   "id": "ff58f5fd-1e89-4d33-8203-8917bf92b153",
   "metadata": {},
   "outputs": [],
   "source": [
    "def generate_cv_dataframe(\n",
    "    df_in: pd.DataFrame, \n",
    "    seed: int = 42,\n",
    "    list_cols: list[str] = [\"hgnc\", \"klifs\", \"drug\"],\n",
    "    str_y: str = \"p(drug|mut)\",\n",
    "    n_split: int = 5,\n",
    ") -> tuple[pd.DataFrame, dict]:\n",
    "    \"\"\"Shuffle dataframe and create 5-fold CV splits with contiguous 3D blocks.\n",
    "    \n",
    "    For 3D tensor cross-validation, each test set is a contiguous cuboid\n",
    "    representing approximately 1/n_split of the total volume.\n",
    "    \n",
    "    Parameters\n",
    "    ----------\n",
    "    df_in: pd.DataFrame\n",
    "        Dataframe to annotate with splits.\n",
    "    seed: int\n",
    "        Seed for shuffling; default: 42.\n",
    "    list_cols: list[str]\n",
    "        Column names for the three dimensions.\n",
    "    str_y: str\n",
    "        Target column name.\n",
    "    n_split: int\n",
    "        Number of cross-validation folds.\n",
    "\n",
    "    Returns\n",
    "    -------\n",
    "    tuple[pd.DataFrame, dict]\n",
    "        Annotated dataframe and dictionary with split info.\n",
    "    \"\"\"\n",
    "    df_shuffled = df_in.sample(frac=1, random_state=seed).reset_index(drop=True)\n",
    "    \n",
    "    # calculate the fraction of each dimension to hold out\n",
    "    # for n_split folds, each test set should be ~1/n_split of total volume\n",
    "    dim_fraction = (1.0 / n_split) ** (1/3)\n",
    "    \n",
    "    dict_folds = {}\n",
    "    \n",
    "    for col_name, col_series in df_shuffled[list_cols].items():\n",
    "        n_unique = col_series.nunique()\n",
    "        series_unique = col_series.unique()\n",
    "        \n",
    "        # calculate size of test block for this dimension\n",
    "        test_size = max(1, int(np.round(n_unique * dim_fraction)))\n",
    "        \n",
    "        # create contiguous splits\n",
    "        list_split_orig = []\n",
    "        indices = np.arange(n_unique)\n",
    "        \n",
    "        for i in range(n_split):\n",
    "            # calculate start position for this fold's test set\n",
    "            start = int(i * n_unique / n_split)\n",
    "            end = min(start + test_size, n_unique)\n",
    "            list_split_orig.append(indices[start:end])\n",
    "        \n",
    "        dict_folds[col_name] = {\n",
    "            \"dict_map\": dict(zip(range(n_unique), series_unique)),\n",
    "            \"dict_splits\": dict(zip(range(n_split), list_split_orig)),\n",
    "            \"test_size\": test_size,\n",
    "            \"n_unique\": n_unique,\n",
    "        }\n",
    "    \n",
    "    # Generate dataframe with indices\n",
    "    df_new = df_shuffled[list_cols].copy()\n",
    "    for col in df_new.columns:\n",
    "        dict_reverse = {v: k for k, v in dict_folds[col][\"dict_map\"].items()}\n",
    "        df_new[col] = df_new[col].map(dict_reverse)\n",
    "    df_new.columns = df_new.columns + \"_idx\"\n",
    "    \n",
    "    df_split = pd.concat([df_shuffled, df_new], axis=1)\n",
    "    df_split.insert(len(df_split.columns)-1, str_y, df_split.pop(str_y))\n",
    "    \n",
    "    return df_split, dict_folds"
   ]
  },
  {
   "cell_type": "code",
   "execution_count": null,
   "id": "d6a0b9ec-bd27-4189-a73e-b3a5793b7076",
   "metadata": {},
   "outputs": [],
   "source": [
    "# ORIGINAL\n",
    "def generate_split_dataframe(\n",
    "    df_in: pd.DataFrame, \n",
    "    seed: int = 42,\n",
    "    list_cols: list[str] = [\"hgnc\", \"klifs\", \"drug\"],\n",
    "    str_y: str = \"p(drug|mut)\",\n",
    "    n_split: int = 5,\n",
    ") -> tuple[pd.DataFrame, dict]:\n",
    "    \"\"\"Shuffle dataframe, split on \n",
    "\n",
    "    Parameters\n",
    "    ----------\n",
    "    df_in: pd.DataFrame\n",
    "        Dataframe to annotate with splits.\n",
    "    seed: int\n",
    "        Seed for shuffling; default: 42.\n",
    "\n",
    "    Returns\n",
    "    -------\n",
    "    tuple[pd.DataFrame, dict]\n",
    "        Annotated dataframe and dictionary with split info.\n",
    "    \"\"\"\n",
    "    df_shuffled = df_in.sample(frac=1, random_state=seed).reset_index(drop=True)\n",
    "\n",
    "    dict_folds = {}\n",
    "    for idx, (col_name, col_series) in enumerate(df_shuffled[list_cols].items()):\n",
    "        list_nunique = list(range(col_series.nunique()))\n",
    "        series_unique = col_series.unique()\n",
    "\n",
    "        list_split_orig = np.array_split(np.array(range(col_series.nunique())), n_split)\n",
    "        idx_rearrange = [i for i in range(idx, n_split)] + [i for i in range(idx)]\n",
    "        list_split_rearrange = [list_split_orig[i] for i in idx_rearrange]\n",
    "\n",
    "        dict_folds[col_name] = {\n",
    "            \"dict_map\": dict(zip(list_nunique, series_unique)),\n",
    "            \"dict_splits\": dict(zip(list(range(n_split)), list_split_rearrange)),\n",
    "        }\n",
    "\n",
    "    # generate dataframe with idxs\n",
    "    df_new = df_shuffled[list_cols].copy()\n",
    "    for col in df_new.columns:\n",
    "        dict_reverse = {v: k for k, v in dict_folds[col][\"dict_map\"].items()}\n",
    "        df_new[col] = df_new[col].map(dict_reverse)\n",
    "    df_new.columns = df_new.columns + \"_idx\"\n",
    "\n",
    "    df_split = pd.concat([df_shuffled, df_new], axis=1)\n",
    "    df_split.insert(len(df_split.columns)-1, str_y, df_split.pop(str_y))\n",
    "\n",
    "    return df_split, dict_folds"
   ]
  },
  {
   "cell_type": "code",
   "execution_count": 163,
   "id": "a77fdef8-158b-4d6c-8424-44a362aec219",
   "metadata": {},
   "outputs": [
    {
     "data": {
      "text/html": [
       "<div>\n",
       "<style scoped>\n",
       "    .dataframe tbody tr th:only-of-type {\n",
       "        vertical-align: middle;\n",
       "    }\n",
       "\n",
       "    .dataframe tbody tr th {\n",
       "        vertical-align: top;\n",
       "    }\n",
       "\n",
       "    .dataframe thead th {\n",
       "        text-align: right;\n",
       "    }\n",
       "</style>\n",
       "<table border=\"1\" class=\"dataframe\">\n",
       "  <thead>\n",
       "    <tr style=\"text-align: right;\">\n",
       "      <th></th>\n",
       "      <th>hgnc</th>\n",
       "      <th>klifs</th>\n",
       "      <th>drug</th>\n",
       "      <th>p(drug|mut)</th>\n",
       "    </tr>\n",
       "  </thead>\n",
       "  <tbody>\n",
       "    <tr>\n",
       "      <th>0</th>\n",
       "      <td>EGFR</td>\n",
       "      <td>a.l:84</td>\n",
       "      <td>Leucovorin</td>\n",
       "      <td>0.003254</td>\n",
       "    </tr>\n",
       "    <tr>\n",
       "      <th>1</th>\n",
       "      <td>EGFR</td>\n",
       "      <td>a.l:84</td>\n",
       "      <td>Enfortumab Vedotin</td>\n",
       "      <td>0.000000</td>\n",
       "    </tr>\n",
       "    <tr>\n",
       "      <th>2</th>\n",
       "      <td>EGFR</td>\n",
       "      <td>a.l:84</td>\n",
       "      <td>Olaparib</td>\n",
       "      <td>0.000000</td>\n",
       "    </tr>\n",
       "    <tr>\n",
       "      <th>3</th>\n",
       "      <td>EGFR</td>\n",
       "      <td>a.l:84</td>\n",
       "      <td>Osimertinib</td>\n",
       "      <td>0.312907</td>\n",
       "    </tr>\n",
       "    <tr>\n",
       "      <th>4</th>\n",
       "      <td>EGFR</td>\n",
       "      <td>a.l:84</td>\n",
       "      <td>Vorasidenib</td>\n",
       "      <td>0.000000</td>\n",
       "    </tr>\n",
       "  </tbody>\n",
       "</table>\n",
       "</div>"
      ],
      "text/plain": [
       "   hgnc   klifs                drug  p(drug|mut)\n",
       "0  EGFR  a.l:84          Leucovorin     0.003254\n",
       "1  EGFR  a.l:84  Enfortumab Vedotin     0.000000\n",
       "2  EGFR  a.l:84            Olaparib     0.000000\n",
       "3  EGFR  a.l:84         Osimertinib     0.312907\n",
       "4  EGFR  a.l:84         Vorasidenib     0.000000"
      ]
     },
     "execution_count": 163,
     "metadata": {},
     "output_type": "execute_result"
    }
   ],
   "source": [
    "df_factor.head()"
   ]
  },
  {
   "cell_type": "code",
   "execution_count": null,
   "id": "4af22c1c-f84f-417e-b9db-4cd6a9ff34ca",
   "metadata": {},
   "outputs": [],
   "source": [
    "df_split[col_idx]"
   ]
  },
  {
   "cell_type": "code",
   "execution_count": 94,
   "id": "168fe284-7da7-4adf-820a-e61471ee4179",
   "metadata": {},
   "outputs": [
    {
     "data": {
      "text/html": [
       "<div>\n",
       "<style scoped>\n",
       "    .dataframe tbody tr th:only-of-type {\n",
       "        vertical-align: middle;\n",
       "    }\n",
       "\n",
       "    .dataframe tbody tr th {\n",
       "        vertical-align: top;\n",
       "    }\n",
       "\n",
       "    .dataframe thead th {\n",
       "        text-align: right;\n",
       "    }\n",
       "</style>\n",
       "<table border=\"1\" class=\"dataframe\">\n",
       "  <thead>\n",
       "    <tr style=\"text-align: right;\">\n",
       "      <th></th>\n",
       "      <th>hgnc</th>\n",
       "      <th>klifs</th>\n",
       "      <th>drug</th>\n",
       "      <th>hgnc_idx</th>\n",
       "      <th>klifs_idx</th>\n",
       "      <th>drug_idx</th>\n",
       "      <th>p(drug|mut)</th>\n",
       "    </tr>\n",
       "  </thead>\n",
       "  <tbody>\n",
       "    <tr>\n",
       "      <th>0</th>\n",
       "      <td>PIK3CB</td>\n",
       "      <td>b.l:34</td>\n",
       "      <td>Asciminib</td>\n",
       "      <td>0</td>\n",
       "      <td>0</td>\n",
       "      <td>0</td>\n",
       "      <td>0.0</td>\n",
       "    </tr>\n",
       "    <tr>\n",
       "      <th>1</th>\n",
       "      <td>CDK4</td>\n",
       "      <td>c.l:74</td>\n",
       "      <td>Enasidenib</td>\n",
       "      <td>1</td>\n",
       "      <td>1</td>\n",
       "      <td>1</td>\n",
       "      <td>0.0</td>\n",
       "    </tr>\n",
       "    <tr>\n",
       "      <th>2</th>\n",
       "      <td>LATS2</td>\n",
       "      <td>GK:45</td>\n",
       "      <td>Binimetinib</td>\n",
       "      <td>2</td>\n",
       "      <td>2</td>\n",
       "      <td>2</td>\n",
       "      <td>0.0</td>\n",
       "    </tr>\n",
       "    <tr>\n",
       "      <th>3</th>\n",
       "      <td>PIK3C3</td>\n",
       "      <td>II:13</td>\n",
       "      <td>Apalutamide</td>\n",
       "      <td>3</td>\n",
       "      <td>3</td>\n",
       "      <td>3</td>\n",
       "      <td>0.0</td>\n",
       "    </tr>\n",
       "    <tr>\n",
       "      <th>4</th>\n",
       "      <td>STK40</td>\n",
       "      <td>xDFG:83</td>\n",
       "      <td>Lenalidomide</td>\n",
       "      <td>4</td>\n",
       "      <td>4</td>\n",
       "      <td>4</td>\n",
       "      <td>0.0</td>\n",
       "    </tr>\n",
       "  </tbody>\n",
       "</table>\n",
       "</div>"
      ],
      "text/plain": [
       "     hgnc    klifs          drug  hgnc_idx  klifs_idx  drug_idx  p(drug|mut)\n",
       "0  PIK3CB   b.l:34     Asciminib         0          0         0          0.0\n",
       "1    CDK4   c.l:74    Enasidenib         1          1         1          0.0\n",
       "2   LATS2    GK:45   Binimetinib         2          2         2          0.0\n",
       "3  PIK3C3    II:13   Apalutamide         3          3         3          0.0\n",
       "4   STK40  xDFG:83  Lenalidomide         4          4         4          0.0"
      ]
     },
     "execution_count": 94,
     "metadata": {},
     "output_type": "execute_result"
    }
   ],
   "source": [
    "df_split.head()"
   ]
  },
  {
   "cell_type": "code",
   "execution_count": null,
   "id": "dc4ac8d5-b835-42fe-8bd0-57437e2c1ea5",
   "metadata": {},
   "outputs": [],
   "source": []
  },
  {
   "cell_type": "code",
   "execution_count": null,
   "id": "b4cbeb47-857f-49d2-beb0-ca6e12263271",
   "metadata": {},
   "outputs": [],
   "source": []
  },
  {
   "cell_type": "code",
   "execution_count": null,
   "id": "5d79030a-2252-411e-acfe-f25c2dfe29e5",
   "metadata": {},
   "outputs": [],
   "source": []
  },
  {
   "cell_type": "code",
   "execution_count": null,
   "id": "1cc9f2b3-389b-49c7-b157-9c79fb0c6f69",
   "metadata": {},
   "outputs": [],
   "source": []
  },
  {
   "cell_type": "code",
   "execution_count": null,
   "id": "1ce47dc5-e5e9-49c3-b8b7-9a1ea9695dbf",
   "metadata": {},
   "outputs": [],
   "source": []
  },
  {
   "cell_type": "code",
   "execution_count": null,
   "id": "5eb45467-e1ea-44c7-8656-3dff01a1b16a",
   "metadata": {},
   "outputs": [],
   "source": []
  },
  {
   "cell_type": "code",
   "execution_count": null,
   "id": "4be9cf85-2c6d-4f59-aabe-8a2286dc5c2d",
   "metadata": {},
   "outputs": [],
   "source": []
  },
  {
   "cell_type": "code",
   "execution_count": 12,
   "id": "d8bd156f-67f4-45f9-8e3f-d70416acd249",
   "metadata": {},
   "outputs": [],
   "source": [
    "list_keys = [\"hgnc\", \"klifs\", \"drug\"]"
   ]
  },
  {
   "cell_type": "code",
   "execution_count": 13,
   "id": "3a5446fe-b693-4e0e-9a46-324b77a1f283",
   "metadata": {},
   "outputs": [
    {
     "name": "stderr",
     "output_type": "stream",
     "text": [
      "Random seed:   0%|                                                                                                   | 0/100 [00:00<?, ?it/s]\n"
     ]
    },
    {
     "ename": "KeyError",
     "evalue": "0",
     "output_type": "error",
     "traceback": [
      "\u001b[31m---------------------------------------------------------------------------\u001b[39m",
      "\u001b[31mKeyError\u001b[39m                                  Traceback (most recent call last)",
      "\u001b[36mCell\u001b[39m\u001b[36m \u001b[39m\u001b[32mIn[13]\u001b[39m\u001b[32m, line 7\u001b[39m\n\u001b[32m      5\u001b[39m list_n = []\n\u001b[32m      6\u001b[39m \u001b[38;5;28;01mfor\u001b[39;00m idx \u001b[38;5;129;01min\u001b[39;00m \u001b[38;5;28mrange\u001b[39m(\u001b[32m5\u001b[39m):\n\u001b[32m----> \u001b[39m\u001b[32m7\u001b[39m     series0 = df_split[list_keys[\u001b[32m0\u001b[39m] + \u001b[33m\"\u001b[39m\u001b[33m_idx\u001b[39m\u001b[33m\"\u001b[39m].isin(\u001b[43mdict_folds\u001b[49m\u001b[43m[\u001b[49m\u001b[43mlist_keys\u001b[49m\u001b[43m[\u001b[49m\u001b[32;43m0\u001b[39;49m\u001b[43m]\u001b[49m\u001b[43m]\u001b[49m\u001b[43m[\u001b[49m\u001b[33;43m\"\u001b[39;49m\u001b[33;43mdict_splits\u001b[39;49m\u001b[33;43m\"\u001b[39;49m\u001b[43m]\u001b[49m\u001b[43m[\u001b[49m\u001b[43midx\u001b[49m\u001b[43m]\u001b[49m)\n\u001b[32m      8\u001b[39m     series1 = df_split[list_keys[\u001b[32m1\u001b[39m] + \u001b[33m\"\u001b[39m\u001b[33m_idx\u001b[39m\u001b[33m\"\u001b[39m].isin(dict_folds[list_keys[\u001b[32m1\u001b[39m]][\u001b[33m\"\u001b[39m\u001b[33mdict_splits\u001b[39m\u001b[33m\"\u001b[39m][idx])\n\u001b[32m      9\u001b[39m     series2 = df_split[list_keys[\u001b[32m2\u001b[39m] + \u001b[33m\"\u001b[39m\u001b[33m_idx\u001b[39m\u001b[33m\"\u001b[39m].isin(dict_folds[list_keys[\u001b[32m2\u001b[39m]][\u001b[33m\"\u001b[39m\u001b[33mdict_splits\u001b[39m\u001b[33m\"\u001b[39m][idx])\n",
      "\u001b[31mKeyError\u001b[39m: 0"
     ]
    }
   ],
   "source": [
    "list_minmax = []\n",
    "for i in tqdm(range(100), desc=\"Random seed\"):\n",
    "    df_split, dict_folds = generate_split_dataframe(df_factor, seed=i)\n",
    "    \n",
    "    list_n = []\n",
    "    for idx in range(5):\n",
    "        series0 = df_split[list_keys[0] + \"_idx\"].isin(dict_folds[list_keys[0]][\"dict_splits\"][idx])\n",
    "        series1 = df_split[list_keys[1] + \"_idx\"].isin(dict_folds[list_keys[1]][\"dict_splits\"][idx])\n",
    "        series2 = df_split[list_keys[2] + \"_idx\"].isin(dict_folds[list_keys[2]][\"dict_splits\"][idx])\n",
    "        n = sum(series0 & series1 & series2)\n",
    "        list_n.append(n)\n",
    "        # print(f\"{n} test; {df_split.shape[0] - n} train\")\n",
    "    \n",
    "    list_minmax.append(max(list_n) - min(list_n))"
   ]
  },
  {
   "cell_type": "code",
   "execution_count": null,
   "id": "ae07c251-0a1d-4633-8f03-b63c913ec3f5",
   "metadata": {},
   "outputs": [],
   "source": []
  },
  {
   "cell_type": "code",
   "execution_count": 185,
   "id": "e996eb99-0a71-4c99-b29d-409f0d3f2d9c",
   "metadata": {},
   "outputs": [
    {
     "data": {
      "text/plain": [
       "[89]"
      ]
     },
     "execution_count": 185,
     "metadata": {},
     "output_type": "execute_result"
    }
   ],
   "source": [
    "[idx for idx, i in enumerate(list_minmax) if i == min(list_minmax)]"
   ]
  },
  {
   "cell_type": "code",
   "execution_count": 186,
   "id": "1ed2dfb5-1349-4611-8087-7376dcdef80d",
   "metadata": {},
   "outputs": [
    {
     "data": {
      "text/plain": [
       "271695"
      ]
     },
     "execution_count": 186,
     "metadata": {},
     "output_type": "execute_result"
    }
   ],
   "source": [
    "list_minmax[89]"
   ]
  },
  {
   "cell_type": "code",
   "execution_count": 121,
   "id": "be328d6c-da30-4a48-b423-184ff6237320",
   "metadata": {},
   "outputs": [],
   "source": [
    "col_idx = [i for i in df_split.columns if i.endswith(\"_idx\")]"
   ]
  },
  {
   "cell_type": "code",
   "execution_count": 133,
   "id": "50418367-a277-4c99-bad3-bc5bbd1ba99c",
   "metadata": {},
   "outputs": [
    {
     "data": {
      "text/plain": [
       "(1310593, 7)"
      ]
     },
     "execution_count": 133,
     "metadata": {},
     "output_type": "execute_result"
    }
   ],
   "source": [
    "df_split.shape"
   ]
  },
  {
   "cell_type": "code",
   "execution_count": 134,
   "id": "3b3f6e3b-b275-4f70-a761-4547b03e6deb",
   "metadata": {},
   "outputs": [
    {
     "data": {
      "text/plain": [
       "262118.6"
      ]
     },
     "execution_count": 134,
     "metadata": {},
     "output_type": "execute_result"
    }
   ],
   "source": [
    "1310593 / 5"
   ]
  },
  {
   "cell_type": "code",
   "execution_count": null,
   "id": "b74031f7-3172-409f-b758-02e2d9228e37",
   "metadata": {},
   "outputs": [],
   "source": [
    "262118.6"
   ]
  },
  {
   "cell_type": "code",
   "execution_count": 149,
   "id": "90de0118-175d-4e18-8556-a169ccf115c2",
   "metadata": {},
   "outputs": [
    {
     "data": {
      "text/plain": [
       "1"
      ]
     },
     "execution_count": 149,
     "metadata": {},
     "output_type": "execute_result"
    }
   ],
   "source": [
    "(df_split[col_idx] == 0).all(axis=1).sum()"
   ]
  },
  {
   "cell_type": "code",
   "execution_count": 146,
   "id": "3c529440-b0b4-492a-8631-e1576f2b2a4a",
   "metadata": {},
   "outputs": [
    {
     "data": {
      "text/plain": [
       "pandas.core.frame.DataFrame"
      ]
     },
     "execution_count": 146,
     "metadata": {},
     "output_type": "execute_result"
    }
   ],
   "source": [
    "type(df_split[col_idx].map(lambda x: x == 0))"
   ]
  },
  {
   "cell_type": "code",
   "execution_count": 162,
   "id": "2c3ee55f-3335-4e31-9155-144b8f966f9a",
   "metadata": {},
   "outputs": [
    {
     "data": {
      "text/plain": [
       "48"
      ]
     },
     "execution_count": 162,
     "metadata": {},
     "output_type": "execute_result"
    }
   ],
   "source": [
    "fold = 4\n",
    "sum(df_split[col_idx].sum(axis=1) == fold * 3)"
   ]
  },
  {
   "cell_type": "code",
   "execution_count": 154,
   "id": "71b20634-2c0f-49ff-8e60-0929b74370a0",
   "metadata": {},
   "outputs": [
    {
     "data": {
      "text/html": [
       "<div>\n",
       "<style scoped>\n",
       "    .dataframe tbody tr th:only-of-type {\n",
       "        vertical-align: middle;\n",
       "    }\n",
       "\n",
       "    .dataframe tbody tr th {\n",
       "        vertical-align: top;\n",
       "    }\n",
       "\n",
       "    .dataframe thead th {\n",
       "        text-align: right;\n",
       "    }\n",
       "</style>\n",
       "<table border=\"1\" class=\"dataframe\">\n",
       "  <thead>\n",
       "    <tr style=\"text-align: right;\">\n",
       "      <th></th>\n",
       "      <th>hgnc_idx</th>\n",
       "      <th>klifs_idx</th>\n",
       "      <th>drug_idx</th>\n",
       "    </tr>\n",
       "  </thead>\n",
       "  <tbody>\n",
       "    <tr>\n",
       "      <th>0</th>\n",
       "      <td>True</td>\n",
       "      <td>True</td>\n",
       "      <td>True</td>\n",
       "    </tr>\n",
       "    <tr>\n",
       "      <th>1</th>\n",
       "      <td>False</td>\n",
       "      <td>False</td>\n",
       "      <td>False</td>\n",
       "    </tr>\n",
       "    <tr>\n",
       "      <th>2</th>\n",
       "      <td>False</td>\n",
       "      <td>False</td>\n",
       "      <td>False</td>\n",
       "    </tr>\n",
       "    <tr>\n",
       "      <th>3</th>\n",
       "      <td>False</td>\n",
       "      <td>False</td>\n",
       "      <td>False</td>\n",
       "    </tr>\n",
       "    <tr>\n",
       "      <th>4</th>\n",
       "      <td>False</td>\n",
       "      <td>False</td>\n",
       "      <td>False</td>\n",
       "    </tr>\n",
       "    <tr>\n",
       "      <th>...</th>\n",
       "      <td>...</td>\n",
       "      <td>...</td>\n",
       "      <td>...</td>\n",
       "    </tr>\n",
       "    <tr>\n",
       "      <th>1310588</th>\n",
       "      <td>False</td>\n",
       "      <td>False</td>\n",
       "      <td>False</td>\n",
       "    </tr>\n",
       "    <tr>\n",
       "      <th>1310589</th>\n",
       "      <td>False</td>\n",
       "      <td>False</td>\n",
       "      <td>False</td>\n",
       "    </tr>\n",
       "    <tr>\n",
       "      <th>1310590</th>\n",
       "      <td>False</td>\n",
       "      <td>False</td>\n",
       "      <td>False</td>\n",
       "    </tr>\n",
       "    <tr>\n",
       "      <th>1310591</th>\n",
       "      <td>False</td>\n",
       "      <td>False</td>\n",
       "      <td>False</td>\n",
       "    </tr>\n",
       "    <tr>\n",
       "      <th>1310592</th>\n",
       "      <td>False</td>\n",
       "      <td>False</td>\n",
       "      <td>False</td>\n",
       "    </tr>\n",
       "  </tbody>\n",
       "</table>\n",
       "<p>1310593 rows × 3 columns</p>\n",
       "</div>"
      ],
      "text/plain": [
       "         hgnc_idx  klifs_idx  drug_idx\n",
       "0            True       True      True\n",
       "1           False      False     False\n",
       "2           False      False     False\n",
       "3           False      False     False\n",
       "4           False      False     False\n",
       "...           ...        ...       ...\n",
       "1310588     False      False     False\n",
       "1310589     False      False     False\n",
       "1310590     False      False     False\n",
       "1310591     False      False     False\n",
       "1310592     False      False     False\n",
       "\n",
       "[1310593 rows x 3 columns]"
      ]
     },
     "execution_count": 154,
     "metadata": {},
     "output_type": "execute_result"
    }
   ],
   "source": [
    "(df_split[col_idx].map(lambda x: x == 0))"
   ]
  },
  {
   "cell_type": "code",
   "execution_count": 152,
   "id": "d69e3cc5-8d49-44f0-b723-cc243a675d93",
   "metadata": {},
   "outputs": [
    {
     "data": {
      "text/plain": [
       "0           True\n",
       "1          False\n",
       "2          False\n",
       "3          False\n",
       "4          False\n",
       "           ...  \n",
       "1310588    False\n",
       "1310589    False\n",
       "1310590    False\n",
       "1310591    False\n",
       "1310592    False\n",
       "Length: 1310593, dtype: bool"
      ]
     },
     "execution_count": 152,
     "metadata": {},
     "output_type": "execute_result"
    }
   ],
   "source": [
    "(df_split[col_idx].map(lambda x: x == 0).all(axis=1))"
   ]
  },
  {
   "cell_type": "code",
   "execution_count": 144,
   "id": "729f6544-30f4-474c-a409-dc1f9324e277",
   "metadata": {},
   "outputs": [
    {
     "data": {
      "text/plain": [
       "1"
      ]
     },
     "execution_count": 144,
     "metadata": {},
     "output_type": "execute_result"
    }
   ],
   "source": [
    "df_split[col_idx].map(lambda x: x == 0).all(axis=1).sum()"
   ]
  },
  {
   "cell_type": "code",
   "execution_count": 171,
   "id": "5547a7c4-aa09-41af-bc30-c7760b0dd3ef",
   "metadata": {},
   "outputs": [],
   "source": [
    "import matplotlib.pyplot as plt"
   ]
  },
  {
   "cell_type": "code",
   "execution_count": 189,
   "id": "d2229521-2f5b-42a7-9ef0-4f91f59effda",
   "metadata": {},
   "outputs": [
    {
     "data": {
      "image/png": "[encoded data removed]",
      "text/plain": [
       "<Figure size 640x480 with 1 Axes>"
      ]
     },
     "metadata": {},
     "output_type": "display_data"
    }
   ],
   "source": [
    "plt.hist(pd.DataFrame(df_split[\"hgnc_idx\"].value_counts()));"
   ]
  },
  {
   "cell_type": "code",
   "execution_count": 167,
   "id": "80adf474-cebd-46ce-8c90-3c32d0e0b0ad",
   "metadata": {},
   "outputs": [
    {
     "data": {
      "text/plain": [
       "array([68, 69, 70, 71, 72, 73, 74, 75, 76, 77, 78, 79, 80, 81, 82, 83])"
      ]
     },
     "execution_count": 167,
     "metadata": {},
     "output_type": "execute_result"
    }
   ],
   "source": [
    "dict_folds[list_keys[0]][\"dict_splits\"][idx]"
   ]
  },
  {
   "cell_type": "code",
   "execution_count": 179,
   "id": "7bddc81b-e7bc-4be6-a265-f82f587acecd",
   "metadata": {},
   "outputs": [
    {
     "data": {
      "text/plain": [
       "0.5848035476425733"
      ]
     },
     "execution_count": 179,
     "metadata": {},
     "output_type": "execute_result"
    }
   ],
   "source": [
    "0.2**(1/3)"
   ]
  },
  {
   "cell_type": "code",
   "execution_count": 178,
   "id": "db8c910f-027e-4365-a878-acad72db2e0f",
   "metadata": {},
   "outputs": [
    {
     "data": {
      "text/plain": [
       "49.999999999999986"
      ]
     },
     "execution_count": 178,
     "metadata": {},
     "output_type": "execute_result"
    }
   ],
   "source": [
    "(50**3)**(1/3)"
   ]
  },
  {
   "cell_type": "code",
   "execution_count": null,
   "id": "3cdc22e8-14b6-4dfa-ab32-e9cef0328c44",
   "metadata": {},
   "outputs": [],
   "source": []
  },
  {
   "cell_type": "code",
   "execution_count": 180,
   "id": "14a8d3c7-de26-4a0d-8d91-21f540c17c68",
   "metadata": {},
   "outputs": [
    {
     "data": {
      "text/plain": [
       "0.008"
      ]
     },
     "execution_count": 180,
     "metadata": {},
     "output_type": "execute_result"
    }
   ],
   "source": [
    "(50*0.2)**3 / (50)**3"
   ]
  },
  {
   "cell_type": "code",
   "execution_count": 187,
   "id": "f56a4882-da29-45d1-bf81-8241a0358311",
   "metadata": {},
   "outputs": [
    {
     "name": "stdout",
     "output_type": "stream",
     "text": [
      "280,331 test; 1,030,262 train\n",
      "272,451 test; 1,038,142 train\n",
      "263,586 test; 1,047,007 train\n",
      "78,975 test; 1,231,618 train\n",
      "8,636 test; 1,301,957 train\n"
     ]
    }
   ],
   "source": [
    "df_split, dict_folds = generate_split_dataframe(df_factor, seed=89)\n",
    "\n",
    "for idx in range(5):\n",
    "    series0 = df_split[list_keys[0] + \"_idx\"].isin(dict_folds[list_keys[0]][\"dict_splits\"][idx])\n",
    "    series1 = df_split[list_keys[1] + \"_idx\"].isin(dict_folds[list_keys[1]][\"dict_splits\"][idx])\n",
    "    series2 = df_split[list_keys[2] + \"_idx\"].isin(dict_folds[list_keys[2]][\"dict_splits\"][idx])\n",
    "    n = sum(series0 & series1 & series2)\n",
    "    print(f\"{n:,} test; {df_split.shape[0] - n:,} train\")\n",
    "    # print(f\"{list_keys[0]}: {sum(series0):,}, {list_keys[1]}: {sum(series1):,}, {list_keys[2]}: {sum(series2):,}\\n\")"
   ]
  },
  {
   "cell_type": "code",
   "execution_count": null,
   "id": "7238984a-84e6-406c-b5fc-7ca66e0cd87e",
   "metadata": {},
   "outputs": [],
   "source": [
    "dict_folds["
   ]
  },
  {
   "cell_type": "code",
   "execution_count": 110,
   "id": "efe761bc-2ad6-4c30-9c8c-82a0928210d4",
   "metadata": {},
   "outputs": [
    {
     "data": {
      "text/html": [
       "<div>\n",
       "<style scoped>\n",
       "    .dataframe tbody tr th:only-of-type {\n",
       "        vertical-align: middle;\n",
       "    }\n",
       "\n",
       "    .dataframe tbody tr th {\n",
       "        vertical-align: top;\n",
       "    }\n",
       "\n",
       "    .dataframe thead th {\n",
       "        text-align: right;\n",
       "    }\n",
       "</style>\n",
       "<table border=\"1\" class=\"dataframe\">\n",
       "  <thead>\n",
       "    <tr style=\"text-align: right;\">\n",
       "      <th></th>\n",
       "      <th>hgnc</th>\n",
       "      <th>klifs</th>\n",
       "      <th>drug</th>\n",
       "      <th>hgnc_idx</th>\n",
       "      <th>klifs_idx</th>\n",
       "      <th>drug_idx</th>\n",
       "      <th>p(drug|mut)</th>\n",
       "    </tr>\n",
       "  </thead>\n",
       "  <tbody>\n",
       "    <tr>\n",
       "      <th>0</th>\n",
       "      <td>SRC</td>\n",
       "      <td>g.l:7</td>\n",
       "      <td>Bendamustine</td>\n",
       "      <td>0</td>\n",
       "      <td>0</td>\n",
       "      <td>0</td>\n",
       "      <td>0.0</td>\n",
       "    </tr>\n",
       "    <tr>\n",
       "      <th>1</th>\n",
       "      <td>PLK2</td>\n",
       "      <td>I:2</td>\n",
       "      <td>Elacestrant</td>\n",
       "      <td>1</td>\n",
       "      <td>1</td>\n",
       "      <td>1</td>\n",
       "      <td>0.0</td>\n",
       "    </tr>\n",
       "    <tr>\n",
       "      <th>2</th>\n",
       "      <td>FLT1</td>\n",
       "      <td>b.l:35</td>\n",
       "      <td>Larotrectinib</td>\n",
       "      <td>2</td>\n",
       "      <td>2</td>\n",
       "      <td>2</td>\n",
       "      <td>0.0</td>\n",
       "    </tr>\n",
       "    <tr>\n",
       "      <th>3</th>\n",
       "      <td>MAP2K1</td>\n",
       "      <td>αD:54</td>\n",
       "      <td>Gefitinib</td>\n",
       "      <td>3</td>\n",
       "      <td>3</td>\n",
       "      <td>3</td>\n",
       "      <td>0.0</td>\n",
       "    </tr>\n",
       "    <tr>\n",
       "      <th>4</th>\n",
       "      <td>EGFR</td>\n",
       "      <td>VII:76</td>\n",
       "      <td>Cu64 Nota-Psmai-Peg-Cy55-C' Dots</td>\n",
       "      <td>4</td>\n",
       "      <td>4</td>\n",
       "      <td>4</td>\n",
       "      <td>0.0</td>\n",
       "    </tr>\n",
       "  </tbody>\n",
       "</table>\n",
       "</div>"
      ],
      "text/plain": [
       "     hgnc   klifs                              drug  hgnc_idx  klifs_idx  \\\n",
       "0     SRC   g.l:7                      Bendamustine         0          0   \n",
       "1    PLK2     I:2                       Elacestrant         1          1   \n",
       "2    FLT1  b.l:35                     Larotrectinib         2          2   \n",
       "3  MAP2K1   αD:54                         Gefitinib         3          3   \n",
       "4    EGFR  VII:76  Cu64 Nota-Psmai-Peg-Cy55-C' Dots         4          4   \n",
       "\n",
       "   drug_idx  p(drug|mut)  \n",
       "0         0          0.0  \n",
       "1         1          0.0  \n",
       "2         2          0.0  \n",
       "3         3          0.0  \n",
       "4         4          0.0  "
      ]
     },
     "execution_count": 110,
     "metadata": {},
     "output_type": "execute_result"
    }
   ],
   "source": [
    "df_split.head()"
   ]
  },
  {
   "cell_type": "code",
   "execution_count": 102,
   "id": "6b608eaa-917b-400b-b44d-ec25f0a1dd37",
   "metadata": {},
   "outputs": [
    {
     "name": "stdout",
     "output_type": "stream",
     "text": [
      "12716 test; 1297877 train\n",
      "12308 test; 1298285 train\n",
      "11591 test; 1299002 train\n",
      "11390 test; 1299203 train\n",
      "7839 test; 1302754 train\n"
     ]
    }
   ],
   "source": [
    "list_n = []\n",
    "for idx in range(5):\n",
    "    series0 = df_split[list_keys[0] + \"_idx\"].isin(dict_folds[list_keys[0]][\"dict_splits\"][idx])\n",
    "    series1 = df_split[list_keys[1] + \"_idx\"].isin(dict_folds[list_keys[1]][\"dict_splits\"][idx])\n",
    "    series2 = df_split[list_keys[2] + \"_idx\"].isin(dict_folds[list_keys[2]][\"dict_splits\"][idx])\n",
    "    n = sum(series0 & series1 & series2)\n",
    "    list_n.append(n)\n",
    "    print(f\"{n} test; {df_split.shape[0] - n} train\")"
   ]
  },
  {
   "cell_type": "code",
   "execution_count": null,
   "id": "d6e5bdcf-d43d-4796-a3df-8f5b9382e8e8",
   "metadata": {},
   "outputs": [],
   "source": []
  },
  {
   "cell_type": "code",
   "execution_count": 74,
   "id": "0e7354c6-434d-429f-92f7-203b5470d24a",
   "metadata": {},
   "outputs": [
    {
     "data": {
      "text/plain": [
       "{0: array([ 0,  1,  2,  3,  4,  5,  6,  7,  8,  9, 10, 11, 12, 13, 14, 15, 16]),\n",
       " 1: array([17, 18, 19, 20, 21, 22, 23, 24, 25, 26, 27, 28, 29, 30, 31, 32, 33]),\n",
       " 2: array([34, 35, 36, 37, 38, 39, 40, 41, 42, 43, 44, 45, 46, 47, 48, 49, 50]),\n",
       " 3: array([51, 52, 53, 54, 55, 56, 57, 58, 59, 60, 61, 62, 63, 64, 65, 66, 67]),\n",
       " 4: array([68, 69, 70, 71, 72, 73, 74, 75, 76, 77, 78, 79, 80, 81, 82, 83])}"
      ]
     },
     "execution_count": 74,
     "metadata": {},
     "output_type": "execute_result"
    }
   ],
   "source": [
    "dict_folds[\"hgnc\"][\"dict_splits\"]"
   ]
  },
  {
   "cell_type": "code",
   "execution_count": 25,
   "id": "bb9fe399-13f3-4bcc-b42c-ad6f4e75c73f",
   "metadata": {},
   "outputs": [
    {
     "data": {
      "text/plain": [
       "[array([ 0,  1,  2,  3,  4,  5,  6,  7,  8,  9, 10, 11, 12, 13, 14, 15, 16]),\n",
       " array([17, 18, 19, 20, 21, 22, 23, 24, 25, 26, 27, 28, 29, 30, 31, 32, 33]),\n",
       " array([34, 35, 36, 37, 38, 39, 40, 41, 42, 43, 44, 45, 46, 47, 48, 49, 50]),\n",
       " array([51, 52, 53, 54, 55, 56, 57, 58, 59, 60, 61, 62, 63, 64, 65, 66, 67]),\n",
       " array([68, 69, 70, 71, 72, 73, 74, 75, 76, 77, 78, 79, 80, 81, 82, 83])]"
      ]
     },
     "execution_count": 25,
     "metadata": {},
     "output_type": "execute_result"
    }
   ],
   "source": [
    "np.array_split(np.array(range(df_factor[\"hgnc\"].nunique())), 5)"
   ]
  },
  {
   "cell_type": "code",
   "execution_count": 8,
   "id": "fefa75b4-0a70-4419-8b17-555d447c9a1b",
   "metadata": {},
   "outputs": [
    {
     "data": {
      "text/plain": [
       "85"
      ]
     },
     "execution_count": 8,
     "metadata": {},
     "output_type": "execute_result"
    }
   ],
   "source": [
    "df_factor[\"klifs\"].nunique()"
   ]
  },
  {
   "cell_type": "code",
   "execution_count": 9,
   "id": "08829e19-e461-4c9c-8183-af1872c0e222",
   "metadata": {},
   "outputs": [
    {
     "data": {
      "text/plain": [
       "337"
      ]
     },
     "execution_count": 9,
     "metadata": {},
     "output_type": "execute_result"
    }
   ],
   "source": [
    "df_factor[\"drug\"].nunique()"
   ]
  },
  {
   "cell_type": "code",
   "execution_count": 11,
   "id": "4545a2eb-7a0e-4f6b-bd73-6a1361c624e7",
   "metadata": {},
   "outputs": [],
   "source": [
    "df_count = df_factor[[\"hgnc\", \"klifs\"]].value_counts().unstack()"
   ]
  },
  {
   "cell_type": "code",
   "execution_count": 13,
   "id": "74d4e4ff-f1bc-4bbb-94cf-375a0de4e13c",
   "metadata": {},
   "outputs": [],
   "source": [
    "import matplotlib.pyplot as plt"
   ]
  },
  {
   "cell_type": "code",
   "execution_count": 15,
   "id": "e70bb2ea-690c-409a-8876-586de116c1ce",
   "metadata": {},
   "outputs": [
    {
     "data": {
      "image/png": "[encoded data removed]",
      "text/plain": [
       "<Figure size 640x480 with 1 Axes>"
      ]
     },
     "metadata": {},
     "output_type": "display_data"
    }
   ],
   "source": [
    "plt.hist(df_count.sum(axis=0));"
   ]
  },
  {
   "cell_type": "code",
   "execution_count": 18,
   "id": "2eab42ab-deb3-46b2-b944-937265e81aec",
   "metadata": {},
   "outputs": [
    {
     "data": {
      "text/plain": [
       "hgnc\n",
       "ABL1      15502.0\n",
       "ACVR1     14491.0\n",
       "AKT1      14828.0\n",
       "AKT2      11795.0\n",
       "AKT3      19883.0\n",
       "           ...   \n",
       "STK40      6066.0\n",
       "SYK       12132.0\n",
       "TEK       15165.0\n",
       "TGFBR1    18872.0\n",
       "YES1      15502.0\n",
       "Length: 84, dtype: float64"
      ]
     },
     "execution_count": 18,
     "metadata": {},
     "output_type": "execute_result"
    }
   ],
   "source": [
    "df_count.sum(axis=1)"
   ]
  },
  {
   "cell_type": "code",
   "execution_count": 16,
   "id": "bb869917-8ccb-43e2-b838-e35912acbe88",
   "metadata": {},
   "outputs": [
    {
     "data": {
      "image/png": "[encoded data removed]",
      "text/plain": [
       "<Figure size 640x480 with 1 Axes>"
      ]
     },
     "metadata": {},
     "output_type": "display_data"
    }
   ],
   "source": [
    "plt.hist(df_count.sum(axis=1));"
   ]
  }
 ],
 "metadata": {
  "kernelspec": {
   "display_name": "Python 3 (ipykernel)",
   "language": "python",
   "name": "python3"
  },
  "language_info": {
   "codemirror_mode": {
    "name": "ipython",
    "version": 3
   },
   "file_extension": ".py",
   "mimetype": "text/x-python",
   "name": "python",
   "nbconvert_exporter": "python",
   "pygments_lexer": "ipython3",
   "version": "3.12.4"
  }
 },
 "nbformat": 4,
 "nbformat_minor": 5
}
