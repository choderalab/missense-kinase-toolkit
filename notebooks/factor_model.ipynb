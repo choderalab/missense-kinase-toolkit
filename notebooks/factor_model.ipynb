{
 "cells": [
  {
   "cell_type": "code",
   "execution_count": 1,
   "id": "1f48e232-2a46-4e5c-9134-253bffabb917",
   "metadata": {},
   "outputs": [],
   "source": [
    "from mkt.ml.models.factor_model import LogisticTensorFactorModel"
   ]
  },
  {
   "cell_type": "code",
   "execution_count": 2,
   "id": "a1f47dc1-045c-46f3-80ba-9ddafe413232",
   "metadata": {},
   "outputs": [],
   "source": [
    "from mkt.schema.io_utils import get_repo_root"
   ]
  },
  {
   "cell_type": "code",
   "execution_count": 22,
   "id": "cd18c0fd-1a13-4909-800a-36b29d2aaf48",
   "metadata": {},
   "outputs": [],
   "source": [
    "import numpy as np"
   ]
  },
  {
   "cell_type": "code",
   "execution_count": 3,
   "id": "3bd0e588-0076-4634-8033-1499b3b7a366",
   "metadata": {},
   "outputs": [],
   "source": [
    "import pandas as pd"
   ]
  },
  {
   "cell_type": "code",
   "execution_count": 4,
   "id": "1333c66b-8135-4eaa-99b6-e3f8de55f7fe",
   "metadata": {},
   "outputs": [],
   "source": [
    "df_factor = pd.read_csv(\"/data1/tanseyw/projects/whitej/missense-kinase-toolkit/data/mskimpact_treatment_factor.csv\")"
   ]
  },
  {
   "cell_type": "code",
   "execution_count": 55,
   "id": "319ac080-5734-40d5-ae36-854215a2b40f",
   "metadata": {},
   "outputs": [
    {
     "data": {
      "text/html": [
       "<div>\n",
       "<style scoped>\n",
       "    .dataframe tbody tr th:only-of-type {\n",
       "        vertical-align: middle;\n",
       "    }\n",
       "\n",
       "    .dataframe tbody tr th {\n",
       "        vertical-align: top;\n",
       "    }\n",
       "\n",
       "    .dataframe thead th {\n",
       "        text-align: right;\n",
       "    }\n",
       "</style>\n",
       "<table border=\"1\" class=\"dataframe\">\n",
       "  <thead>\n",
       "    <tr style=\"text-align: right;\">\n",
       "      <th></th>\n",
       "      <th>hgnc</th>\n",
       "      <th>klifs</th>\n",
       "      <th>drug</th>\n",
       "      <th>p(drug|mut)</th>\n",
       "    </tr>\n",
       "  </thead>\n",
       "  <tbody>\n",
       "    <tr>\n",
       "      <th>0</th>\n",
       "      <td>EGFR</td>\n",
       "      <td>a.l:84</td>\n",
       "      <td>Leucovorin</td>\n",
       "      <td>0.003254</td>\n",
       "    </tr>\n",
       "    <tr>\n",
       "      <th>1</th>\n",
       "      <td>EGFR</td>\n",
       "      <td>a.l:84</td>\n",
       "      <td>Enfortumab Vedotin</td>\n",
       "      <td>0.000000</td>\n",
       "    </tr>\n",
       "    <tr>\n",
       "      <th>2</th>\n",
       "      <td>EGFR</td>\n",
       "      <td>a.l:84</td>\n",
       "      <td>Olaparib</td>\n",
       "      <td>0.000000</td>\n",
       "    </tr>\n",
       "    <tr>\n",
       "      <th>3</th>\n",
       "      <td>EGFR</td>\n",
       "      <td>a.l:84</td>\n",
       "      <td>Osimertinib</td>\n",
       "      <td>0.312907</td>\n",
       "    </tr>\n",
       "    <tr>\n",
       "      <th>4</th>\n",
       "      <td>EGFR</td>\n",
       "      <td>a.l:84</td>\n",
       "      <td>Vorasidenib</td>\n",
       "      <td>0.000000</td>\n",
       "    </tr>\n",
       "  </tbody>\n",
       "</table>\n",
       "</div>"
      ],
      "text/plain": [
       "   hgnc   klifs                drug  p(drug|mut)\n",
       "0  EGFR  a.l:84          Leucovorin     0.003254\n",
       "1  EGFR  a.l:84  Enfortumab Vedotin     0.000000\n",
       "2  EGFR  a.l:84            Olaparib     0.000000\n",
       "3  EGFR  a.l:84         Osimertinib     0.312907\n",
       "4  EGFR  a.l:84         Vorasidenib     0.000000"
      ]
     },
     "execution_count": 55,
     "metadata": {},
     "output_type": "execute_result"
    }
   ],
   "source": [
    "df_factor.head()"
   ]
  },
  {
   "cell_type": "code",
   "execution_count": 56,
   "id": "5ed9d653-b12b-486f-9db7-deeb030ffe47",
   "metadata": {},
   "outputs": [
    {
     "data": {
      "text/html": [
       "<div>\n",
       "<style scoped>\n",
       "    .dataframe tbody tr th:only-of-type {\n",
       "        vertical-align: middle;\n",
       "    }\n",
       "\n",
       "    .dataframe tbody tr th {\n",
       "        vertical-align: top;\n",
       "    }\n",
       "\n",
       "    .dataframe thead th {\n",
       "        text-align: right;\n",
       "    }\n",
       "</style>\n",
       "<table border=\"1\" class=\"dataframe\">\n",
       "  <thead>\n",
       "    <tr style=\"text-align: right;\">\n",
       "      <th></th>\n",
       "      <th>hgnc</th>\n",
       "      <th>klifs</th>\n",
       "      <th>drug</th>\n",
       "      <th>p(drug|mut)</th>\n",
       "    </tr>\n",
       "  </thead>\n",
       "  <tbody>\n",
       "    <tr>\n",
       "      <th>0</th>\n",
       "      <td>SRC</td>\n",
       "      <td>g.l:7</td>\n",
       "      <td>Bendamustine</td>\n",
       "      <td>0.0</td>\n",
       "    </tr>\n",
       "    <tr>\n",
       "      <th>1</th>\n",
       "      <td>PLK2</td>\n",
       "      <td>I:2</td>\n",
       "      <td>Elacestrant</td>\n",
       "      <td>0.0</td>\n",
       "    </tr>\n",
       "    <tr>\n",
       "      <th>2</th>\n",
       "      <td>FLT1</td>\n",
       "      <td>b.l:35</td>\n",
       "      <td>Larotrectinib</td>\n",
       "      <td>0.0</td>\n",
       "    </tr>\n",
       "    <tr>\n",
       "      <th>3</th>\n",
       "      <td>MAP2K1</td>\n",
       "      <td>αD:54</td>\n",
       "      <td>Gefitinib</td>\n",
       "      <td>0.0</td>\n",
       "    </tr>\n",
       "    <tr>\n",
       "      <th>4</th>\n",
       "      <td>EGFR</td>\n",
       "      <td>VII:76</td>\n",
       "      <td>Cu64 Nota-Psmai-Peg-Cy55-C' Dots</td>\n",
       "      <td>0.0</td>\n",
       "    </tr>\n",
       "  </tbody>\n",
       "</table>\n",
       "</div>"
      ],
      "text/plain": [
       "     hgnc   klifs                              drug  p(drug|mut)\n",
       "0     SRC   g.l:7                      Bendamustine          0.0\n",
       "1    PLK2     I:2                       Elacestrant          0.0\n",
       "2    FLT1  b.l:35                     Larotrectinib          0.0\n",
       "3  MAP2K1   αD:54                         Gefitinib          0.0\n",
       "4    EGFR  VII:76  Cu64 Nota-Psmai-Peg-Cy55-C' Dots          0.0"
      ]
     },
     "execution_count": 56,
     "metadata": {},
     "output_type": "execute_result"
    }
   ],
   "source": [
    "df_shuffled.head()"
   ]
  },
  {
   "cell_type": "code",
   "execution_count": 123,
   "id": "80404354-8428-447a-9e4d-6373aebede17",
   "metadata": {},
   "outputs": [],
   "source": [
    "arr = np.array_split(np.array(range(col_series.nunique())), 5)"
   ]
  },
  {
   "cell_type": "code",
   "execution_count": 126,
   "id": "59b3a39d-312a-417a-89b9-7e1feb97df7f",
   "metadata": {},
   "outputs": [
    {
     "data": {
      "text/plain": [
       "[]"
      ]
     },
     "execution_count": 126,
     "metadata": {},
     "output_type": "execute_result"
    }
   ],
   "source": []
  },
  {
   "cell_type": "code",
   "execution_count": 107,
   "id": "0187519f-330b-4a21-a1a8-91d697275d8b",
   "metadata": {},
   "outputs": [],
   "source": [
    "def generate_split_dataframe(\n",
    "    df_in: pd.DataFrame, \n",
    "    seed: int = 42, \n",
    "    str_y: str = \"p(drug|mut)\",\n",
    ") -> tuple[pd.DataFrame, dict]:\n",
    "    \"\"\"Shuffle dataframe, split on \n",
    "\n",
    "    Parameters\n",
    "    ----------\n",
    "    df_in: pd.DataFrame\n",
    "        Dataframe to annotate with splits.\n",
    "    seed: int\n",
    "        Seed for shuffling; default: 42.\n",
    "\n",
    "    Returns\n",
    "    -------\n",
    "    tuple[pd.DataFrame, dict]\n",
    "        Annotated dataframe and dictionary with split info.\n",
    "    \"\"\"\n",
    "    df_shuffled = df_in.sample(frac=1, random_state=seed).reset_index(drop=True)\n",
    "\n",
    "    dict_folds = {}\n",
    "    for idx, enumerate(col_name, col_series) in enumerate(df_shuffled.iloc[:, :3].items()):\n",
    "        arr_split = np.array_split(np.array(range(col_series.nunique())), 5)\n",
    "        \n",
    "        dict_folds[col_name] = {\n",
    "            \"dict_map\": dict(\n",
    "                zip(\n",
    "                    list(range(col_series.nunique())), \n",
    "                    col_series.unique()\n",
    "                )\n",
    "            ),\n",
    "            \"dict_splits\": dict(\n",
    "                zip(\n",
    "                    list(range(col_series.nunique())), \n",
    "                    np.array_split(np.array(range(col_series.nunique())), 5),\n",
    "                )\n",
    "            ),\n",
    "        }\n",
    "\n",
    "    # generate dataframe with idxs\n",
    "    df_new = df_shuffled.iloc[:, :3].copy()\n",
    "    df_new.columns = df_new.columns + \"_idx\"\n",
    "    for col in df_new.columns:\n",
    "        dict_reverse = {v: k for k, v in dict_folds[col.split(\"_\")[0]][\"dict_map\"].items()}\n",
    "        df_new[col] = df_new[col].map(dict_reverse)\n",
    "\n",
    "    df_split = pd.concat([df_shuffled, df_new], axis=1)\n",
    "    df_split.insert(len(df_split.columns)-1, str_y, df_split.pop(str_y))\n",
    "\n",
    "    return df_split, dict_folds"
   ]
  },
  {
   "cell_type": "code",
   "execution_count": 112,
   "id": "3a5446fe-b693-4e0e-9a46-324b77a1f283",
   "metadata": {},
   "outputs": [],
   "source": [
    "list_minmax = []\n",
    "for i in range(100):\n",
    "    df_split, dict_folds = generate_split_dataframe(df_factor, seed=i)\n",
    "    \n",
    "    list_n = []\n",
    "    for idx in range(5):\n",
    "        series0 = df_split[list_keys[0] + \"_idx\"].isin(dict_folds[list_keys[0]][\"dict_splits\"][idx])\n",
    "        series1 = df_split[list_keys[1] + \"_idx\"].isin(dict_folds[list_keys[1]][\"dict_splits\"][idx])\n",
    "        series2 = df_split[list_keys[2] + \"_idx\"].isin(dict_folds[list_keys[2]][\"dict_splits\"][idx])\n",
    "        n = sum(series0 & series1 & series2)\n",
    "        list_n.append(n)\n",
    "        # print(f\"{n} test; {df_split.shape[0] - n} train\")\n",
    "    \n",
    "    list_minmax.append(max(list_n) - min(list_n))"
   ]
  },
  {
   "cell_type": "code",
   "execution_count": 118,
   "id": "e996eb99-0a71-4c99-b29d-409f0d3f2d9c",
   "metadata": {},
   "outputs": [
    {
     "data": {
      "text/plain": [
       "[29]"
      ]
     },
     "execution_count": 118,
     "metadata": {},
     "output_type": "execute_result"
    }
   ],
   "source": [
    "[idx for idx, i in enumerate(list_minmax) if i == min(list_minmax)]"
   ]
  },
  {
   "cell_type": "code",
   "execution_count": 119,
   "id": "1ed2dfb5-1349-4611-8087-7376dcdef80d",
   "metadata": {},
   "outputs": [
    {
     "data": {
      "text/plain": [
       "4154"
      ]
     },
     "execution_count": 119,
     "metadata": {},
     "output_type": "execute_result"
    }
   ],
   "source": [
    "list_minmax[29]"
   ]
  },
  {
   "cell_type": "code",
   "execution_count": 121,
   "id": "6e8df54c-6c19-45d6-bd02-46ddda71d888",
   "metadata": {},
   "outputs": [
    {
     "data": {
      "text/plain": [
       "4877"
      ]
     },
     "execution_count": 121,
     "metadata": {},
     "output_type": "execute_result"
    }
   ],
   "source": [
    "list_minmax[42]"
   ]
  },
  {
   "cell_type": "code",
   "execution_count": 120,
   "id": "f56a4882-da29-45d1-bf81-8241a0358311",
   "metadata": {},
   "outputs": [
    {
     "name": "stdout",
     "output_type": "stream",
     "text": [
      "11560 test; 1299033 train\n",
      "11492 test; 1299101 train\n",
      "11792 test; 1298801 train\n",
      "11189 test; 1299404 train\n",
      "7638 test; 1302955 train\n"
     ]
    }
   ],
   "source": [
    "df_split, dict_folds = generate_split_dataframe(df_factor, seed=29)\n",
    "\n",
    "for idx in range(5):\n",
    "    series0 = df_split[list_keys[0] + \"_idx\"].isin(dict_folds[list_keys[0]][\"dict_splits\"][idx])\n",
    "    series1 = df_split[list_keys[1] + \"_idx\"].isin(dict_folds[list_keys[1]][\"dict_splits\"][idx])\n",
    "    series2 = df_split[list_keys[2] + \"_idx\"].isin(dict_folds[list_keys[2]][\"dict_splits\"][idx])\n",
    "    n = sum(series0 & series1 & series2)\n",
    "    print(f\"{n} test; {df_split.shape[0] - n} train\")"
   ]
  },
  {
   "cell_type": "code",
   "execution_count": 110,
   "id": "efe761bc-2ad6-4c30-9c8c-82a0928210d4",
   "metadata": {},
   "outputs": [
    {
     "data": {
      "text/html": [
       "<div>\n",
       "<style scoped>\n",
       "    .dataframe tbody tr th:only-of-type {\n",
       "        vertical-align: middle;\n",
       "    }\n",
       "\n",
       "    .dataframe tbody tr th {\n",
       "        vertical-align: top;\n",
       "    }\n",
       "\n",
       "    .dataframe thead th {\n",
       "        text-align: right;\n",
       "    }\n",
       "</style>\n",
       "<table border=\"1\" class=\"dataframe\">\n",
       "  <thead>\n",
       "    <tr style=\"text-align: right;\">\n",
       "      <th></th>\n",
       "      <th>hgnc</th>\n",
       "      <th>klifs</th>\n",
       "      <th>drug</th>\n",
       "      <th>hgnc_idx</th>\n",
       "      <th>klifs_idx</th>\n",
       "      <th>drug_idx</th>\n",
       "      <th>p(drug|mut)</th>\n",
       "    </tr>\n",
       "  </thead>\n",
       "  <tbody>\n",
       "    <tr>\n",
       "      <th>0</th>\n",
       "      <td>SRC</td>\n",
       "      <td>g.l:7</td>\n",
       "      <td>Bendamustine</td>\n",
       "      <td>0</td>\n",
       "      <td>0</td>\n",
       "      <td>0</td>\n",
       "      <td>0.0</td>\n",
       "    </tr>\n",
       "    <tr>\n",
       "      <th>1</th>\n",
       "      <td>PLK2</td>\n",
       "      <td>I:2</td>\n",
       "      <td>Elacestrant</td>\n",
       "      <td>1</td>\n",
       "      <td>1</td>\n",
       "      <td>1</td>\n",
       "      <td>0.0</td>\n",
       "    </tr>\n",
       "    <tr>\n",
       "      <th>2</th>\n",
       "      <td>FLT1</td>\n",
       "      <td>b.l:35</td>\n",
       "      <td>Larotrectinib</td>\n",
       "      <td>2</td>\n",
       "      <td>2</td>\n",
       "      <td>2</td>\n",
       "      <td>0.0</td>\n",
       "    </tr>\n",
       "    <tr>\n",
       "      <th>3</th>\n",
       "      <td>MAP2K1</td>\n",
       "      <td>αD:54</td>\n",
       "      <td>Gefitinib</td>\n",
       "      <td>3</td>\n",
       "      <td>3</td>\n",
       "      <td>3</td>\n",
       "      <td>0.0</td>\n",
       "    </tr>\n",
       "    <tr>\n",
       "      <th>4</th>\n",
       "      <td>EGFR</td>\n",
       "      <td>VII:76</td>\n",
       "      <td>Cu64 Nota-Psmai-Peg-Cy55-C' Dots</td>\n",
       "      <td>4</td>\n",
       "      <td>4</td>\n",
       "      <td>4</td>\n",
       "      <td>0.0</td>\n",
       "    </tr>\n",
       "  </tbody>\n",
       "</table>\n",
       "</div>"
      ],
      "text/plain": [
       "     hgnc   klifs                              drug  hgnc_idx  klifs_idx  \\\n",
       "0     SRC   g.l:7                      Bendamustine         0          0   \n",
       "1    PLK2     I:2                       Elacestrant         1          1   \n",
       "2    FLT1  b.l:35                     Larotrectinib         2          2   \n",
       "3  MAP2K1   αD:54                         Gefitinib         3          3   \n",
       "4    EGFR  VII:76  Cu64 Nota-Psmai-Peg-Cy55-C' Dots         4          4   \n",
       "\n",
       "   drug_idx  p(drug|mut)  \n",
       "0         0          0.0  \n",
       "1         1          0.0  \n",
       "2         2          0.0  \n",
       "3         3          0.0  \n",
       "4         4          0.0  "
      ]
     },
     "execution_count": 110,
     "metadata": {},
     "output_type": "execute_result"
    }
   ],
   "source": [
    "df_split.head()"
   ]
  },
  {
   "cell_type": "code",
   "execution_count": 102,
   "id": "6b608eaa-917b-400b-b44d-ec25f0a1dd37",
   "metadata": {},
   "outputs": [
    {
     "name": "stdout",
     "output_type": "stream",
     "text": [
      "12716 test; 1297877 train\n",
      "12308 test; 1298285 train\n",
      "11591 test; 1299002 train\n",
      "11390 test; 1299203 train\n",
      "7839 test; 1302754 train\n"
     ]
    }
   ],
   "source": [
    "list_n = []\n",
    "for idx in range(5):\n",
    "    series0 = df_split[list_keys[0] + \"_idx\"].isin(dict_folds[list_keys[0]][\"dict_splits\"][idx])\n",
    "    series1 = df_split[list_keys[1] + \"_idx\"].isin(dict_folds[list_keys[1]][\"dict_splits\"][idx])\n",
    "    series2 = df_split[list_keys[2] + \"_idx\"].isin(dict_folds[list_keys[2]][\"dict_splits\"][idx])\n",
    "    n = sum(series0 & series1 & series2)\n",
    "    list_n.append(n)\n",
    "    print(f\"{n} test; {df_split.shape[0] - n} train\")"
   ]
  },
  {
   "cell_type": "code",
   "execution_count": null,
   "id": "d6e5bdcf-d43d-4796-a3df-8f5b9382e8e8",
   "metadata": {},
   "outputs": [],
   "source": []
  },
  {
   "cell_type": "code",
   "execution_count": 74,
   "id": "0e7354c6-434d-429f-92f7-203b5470d24a",
   "metadata": {},
   "outputs": [
    {
     "data": {
      "text/plain": [
       "{0: array([ 0,  1,  2,  3,  4,  5,  6,  7,  8,  9, 10, 11, 12, 13, 14, 15, 16]),\n",
       " 1: array([17, 18, 19, 20, 21, 22, 23, 24, 25, 26, 27, 28, 29, 30, 31, 32, 33]),\n",
       " 2: array([34, 35, 36, 37, 38, 39, 40, 41, 42, 43, 44, 45, 46, 47, 48, 49, 50]),\n",
       " 3: array([51, 52, 53, 54, 55, 56, 57, 58, 59, 60, 61, 62, 63, 64, 65, 66, 67]),\n",
       " 4: array([68, 69, 70, 71, 72, 73, 74, 75, 76, 77, 78, 79, 80, 81, 82, 83])}"
      ]
     },
     "execution_count": 74,
     "metadata": {},
     "output_type": "execute_result"
    }
   ],
   "source": [
    "dict_folds[\"hgnc\"][\"dict_splits\"]"
   ]
  },
  {
   "cell_type": "code",
   "execution_count": 25,
   "id": "bb9fe399-13f3-4bcc-b42c-ad6f4e75c73f",
   "metadata": {},
   "outputs": [
    {
     "data": {
      "text/plain": [
       "[array([ 0,  1,  2,  3,  4,  5,  6,  7,  8,  9, 10, 11, 12, 13, 14, 15, 16]),\n",
       " array([17, 18, 19, 20, 21, 22, 23, 24, 25, 26, 27, 28, 29, 30, 31, 32, 33]),\n",
       " array([34, 35, 36, 37, 38, 39, 40, 41, 42, 43, 44, 45, 46, 47, 48, 49, 50]),\n",
       " array([51, 52, 53, 54, 55, 56, 57, 58, 59, 60, 61, 62, 63, 64, 65, 66, 67]),\n",
       " array([68, 69, 70, 71, 72, 73, 74, 75, 76, 77, 78, 79, 80, 81, 82, 83])]"
      ]
     },
     "execution_count": 25,
     "metadata": {},
     "output_type": "execute_result"
    }
   ],
   "source": [
    "np.array_split(np.array(range(df_factor[\"hgnc\"].nunique())), 5)"
   ]
  },
  {
   "cell_type": "code",
   "execution_count": 8,
   "id": "fefa75b4-0a70-4419-8b17-555d447c9a1b",
   "metadata": {},
   "outputs": [
    {
     "data": {
      "text/plain": [
       "85"
      ]
     },
     "execution_count": 8,
     "metadata": {},
     "output_type": "execute_result"
    }
   ],
   "source": [
    "df_factor[\"klifs\"].nunique()"
   ]
  },
  {
   "cell_type": "code",
   "execution_count": 9,
   "id": "08829e19-e461-4c9c-8183-af1872c0e222",
   "metadata": {},
   "outputs": [
    {
     "data": {
      "text/plain": [
       "337"
      ]
     },
     "execution_count": 9,
     "metadata": {},
     "output_type": "execute_result"
    }
   ],
   "source": [
    "df_factor[\"drug\"].nunique()"
   ]
  },
  {
   "cell_type": "code",
   "execution_count": 11,
   "id": "4545a2eb-7a0e-4f6b-bd73-6a1361c624e7",
   "metadata": {},
   "outputs": [],
   "source": [
    "df_count = df_factor[[\"hgnc\", \"klifs\"]].value_counts().unstack()"
   ]
  },
  {
   "cell_type": "code",
   "execution_count": 13,
   "id": "74d4e4ff-f1bc-4bbb-94cf-375a0de4e13c",
   "metadata": {},
   "outputs": [],
   "source": [
    "import matplotlib.pyplot as plt"
   ]
  },
  {
   "cell_type": "code",
   "execution_count": 15,
   "id": "e70bb2ea-690c-409a-8876-586de116c1ce",
   "metadata": {},
   "outputs": [
    {
     "data": {
      "image/png": "[encoded data removed]",
      "text/plain": [
       "<Figure size 640x480 with 1 Axes>"
      ]
     },
     "metadata": {},
     "output_type": "display_data"
    }
   ],
   "source": [
    "plt.hist(df_count.sum(axis=0));"
   ]
  },
  {
   "cell_type": "code",
   "execution_count": 18,
   "id": "2eab42ab-deb3-46b2-b944-937265e81aec",
   "metadata": {},
   "outputs": [
    {
     "data": {
      "text/plain": [
       "hgnc\n",
       "ABL1      15502.0\n",
       "ACVR1     14491.0\n",
       "AKT1      14828.0\n",
       "AKT2      11795.0\n",
       "AKT3      19883.0\n",
       "           ...   \n",
       "STK40      6066.0\n",
       "SYK       12132.0\n",
       "TEK       15165.0\n",
       "TGFBR1    18872.0\n",
       "YES1      15502.0\n",
       "Length: 84, dtype: float64"
      ]
     },
     "execution_count": 18,
     "metadata": {},
     "output_type": "execute_result"
    }
   ],
   "source": [
    "df_count.sum(axis=1)"
   ]
  },
  {
   "cell_type": "code",
   "execution_count": 16,
   "id": "bb869917-8ccb-43e2-b838-e35912acbe88",
   "metadata": {},
   "outputs": [
    {
     "data": {
      "image/png": "[encoded data removed]",
      "text/plain": [
       "<Figure size 640x480 with 1 Axes>"
      ]
     },
     "metadata": {},
     "output_type": "display_data"
    }
   ],
   "source": [
    "plt.hist(df_count.sum(axis=1));"
   ]
  }
 ],
 "metadata": {
  "kernelspec": {
   "display_name": "Python 3 (ipykernel)",
   "language": "python",
   "name": "python3"
  },
  "language_info": {
   "codemirror_mode": {
    "name": "ipython",
    "version": 3
   },
   "file_extension": ".py",
   "mimetype": "text/x-python",
   "name": "python",
   "nbconvert_exporter": "python",
   "pygments_lexer": "ipython3",
   "version": "3.12.4"
  }
 },
 "nbformat": 4,
 "nbformat_minor": 5
}
